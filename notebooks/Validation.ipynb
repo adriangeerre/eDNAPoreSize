{
 "cells": [
  {
   "cell_type": "markdown",
   "id": "c5f1b15b",
   "metadata": {},
   "source": [
    "# Pre-Validation"
   ]
  },
  {
   "cell_type": "code",
   "execution_count": null,
   "id": "1463dd7f",
   "metadata": {},
   "outputs": [],
   "source": [
    "# Libraries\n",
    "library(tidyverse)\n",
    "library(reshape2)\n",
    "library(grid)"
   ]
  },
  {
   "cell_type": "code",
   "execution_count": 51,
   "id": "95714766",
   "metadata": {},
   "outputs": [],
   "source": [
    "# Data\n",
    "metabar_taxa  <- read.delim(\"GenomeDK_Metabar/classified.txt\")\n",
    "metabar_count <- read.delim(\"GenomeDK_Metabar/DADA2_nochim.table\")"
   ]
  },
  {
   "cell_type": "code",
   "execution_count": 52,
   "id": "c3a7a004",
   "metadata": {},
   "outputs": [],
   "source": [
    "# Select controls\n",
    "m_cne <- grepl(\"CNE\", names(metabar_count))\n",
    "m_cne[1] <- TRUE\n",
    "m_ntc <- grepl(\"NTC\", names(metabar_count))\n",
    "m_ntc[1] <- TRUE\n",
    "\n",
    "cne <- metabar_count[,m_cne]\n",
    "ntc <- metabar_count[,m_ntc]\n",
    "\n",
    "# Find contaminants\n",
    "cne_cont <- cne %>% mutate(total = rowSums(cne[,-1])) %>% filter(total > 0)\n",
    "ntc_cont <- ntc %>% mutate(total = rowSums(ntc[,-1])) %>% filter(total > 0)"
   ]
  },
  {
   "cell_type": "code",
   "execution_count": 53,
   "id": "2657ccaa",
   "metadata": {},
   "outputs": [
    {
     "name": "stderr",
     "output_type": "stream",
     "text": [
      "Metabarcoding diversity: kingdom: 3, phylum: 46, class: 155, order: 432, family: 808, genus: 1292 and species: 2058\n",
      "\n"
     ]
    }
   ],
   "source": [
    "# Select contaminant sequences\n",
    "cont <- unique(c(cne_cont$id, ntc_cont$id))\n",
    "\n",
    "# Remove contaminants and filter\n",
    "metabarcoding <- metabar_taxa %>% filter(!qseqid %in% cont) %>% filter(pident.max.best > 90)\n",
    "\n",
    "# Select contaminants\n",
    "contaminants <- metabar_taxa %>% filter(qseqid %in% cont)\n",
    "\n",
    "# Metabarcoding diversity\n",
    "tx <- metabarcoding[,c(8:14)]\n",
    "dk <- length(unique(tx$kingdom[!is.na(tx$kingdom)]))\n",
    "dp <- length(unique(tx$phylum[!is.na(tx$phylum)]))\n",
    "dc <- length(unique(tx$class[!is.na(tx$class)]))\n",
    "do <- length(unique(tx$order[!is.na(tx$order)]))\n",
    "df <- length(unique(tx$family[!is.na(tx$family)]))\n",
    "dg <- length(unique(tx$genus[!is.na(tx$genus)]))\n",
    "ds <- length(unique(tx$species[!is.na(tx$species)]))\n",
    "\n",
    "message(paste(\"Metabarcoding diversity: kingdom: \", dk, \", phylum: \", dp, \", class: \",\n",
    "              dc, \", order: \", do, \", family: \", df, \", genus: \", dg, \" and species: \", ds, sep=\"\"))"
   ]
  },
  {
   "cell_type": "code",
   "execution_count": 54,
   "id": "b33cfa56",
   "metadata": {},
   "outputs": [],
   "source": [
    "# Remove contaminant from counts\n",
    "metabar_count_clean <- metabar_count %>% filter(!id %in% cont)\n",
    "metabar_count_clean <- metabar_count_clean[,!grepl(\"NTC\", names(metabar_count_clean))]\n",
    "metabar_count_clean <- metabar_count_clean[,!grepl(\"CNE\", names(metabar_count_clean))]"
   ]
  },
  {
   "cell_type": "code",
   "execution_count": 55,
   "id": "e3dcd666",
   "metadata": {},
   "outputs": [
    {
     "name": "stderr",
     "output_type": "stream",
     "text": [
      "Using sample as id variables\n",
      "\n",
      "\u001b[1m\u001b[22m`summarise()` has grouped output by 'sample'. You can override using the `.groups`\n",
      "argument.\n"
     ]
    }
   ],
   "source": [
    "## Merge replicates\n",
    "\n",
    "# Transpose dataset\n",
    "x <- as.data.frame(t(metabar_count_clean))\n",
    "colnames(x) <- x[1,]\n",
    "x <- x[-1,]\n",
    "# To numeric\n",
    "mat <- apply(x, 2, as.numeric)\n",
    "rownames(mat) <- rownames(x)\n",
    "mat <- as.data.frame(mat)\n",
    "# Split dataframe\n",
    "gps <- rownames(mat)[grepl(\"GP\",rownames(mat))]\n",
    "nogps <- mat[rownames(mat)[!rownames(mat) %in% gps],]\n",
    "gps <- mat[gps,]\n",
    "# Mutate\n",
    "nogps <- nogps %>% mutate(sample = unlist(lapply(str_split(rownames(nogps), \"_\"), function(x) paste(x[1], x[2], sep=\"_\"))))\n",
    "gps <- gps  %>% mutate(sample = unlist(lapply(str_split(rownames(gps), \"_\"), function(x) x[1])))\n",
    "# Bind\n",
    "mat <- rbind(nogps,gps)\n",
    "# Group replicates Median\n",
    "mat <- melt(mat) %>% group_by(sample, variable) %>% summarize(mean = mean(value))                                         "
   ]
  },
  {
   "cell_type": "code",
   "execution_count": 56,
   "id": "b8d42d0b",
   "metadata": {},
   "outputs": [],
   "source": [
    "# Rename samples\n",
    "cols <- mat$sample\n",
    "\n",
    "clean_cols <- str_replace(str_replace(cols, \"sample.\", \"\"),\"u\",\"\")\n",
    "clean_cols <- str_replace(clean_cols, \"GP1\", \"EN0.2A\")\n",
    "clean_cols <- str_replace(clean_cols, \"GP2\", \"EN0.2B\")\n",
    "clean_cols <- str_replace(clean_cols, \"GP3\", \"EN0.2C\")\n",
    "clean_cols <- str_replace(clean_cols, \"1_0.2\", \"OP0.2A\")\n",
    "clean_cols <- str_replace(clean_cols, \"2_0.2\", \"OP0.2B\")\n",
    "clean_cols <- str_replace(clean_cols, \"3_0.2\", \"OP0.2C\")\n",
    "clean_cols <- str_replace(clean_cols, \"1_1.2\", \"OP1.2A\")\n",
    "clean_cols <- str_replace(clean_cols, \"2_1.2\", \"OP1.2B\")\n",
    "clean_cols <- str_replace(clean_cols, \"3_1.2\", \"OP1.2C\")\n",
    "clean_cols <- str_replace(clean_cols, \"1_5.0\", \"OP5.0A\")\n",
    "clean_cols <- str_replace(clean_cols, \"2_5.0\", \"OP5.0B\")\n",
    "clean_cols <- str_replace(clean_cols, \"3_5.0\", \"OP5.0C\")\n",
    "clean_cols <- str_replace(clean_cols, \"1_8.0\", \"OP8.0A\")\n",
    "clean_cols <- str_replace(clean_cols, \"2_8.0\", \"OP8.0B\")\n",
    "clean_cols <- str_replace(clean_cols, \"3_8.0\", \"OP8.0C\")\n",
    "\n",
    "mat$correct_sample <- clean_cols"
   ]
  },
  {
   "cell_type": "markdown",
   "id": "e54c65b1",
   "metadata": {},
   "source": [
    "# Validation\n"
   ]
  },
  {
   "cell_type": "code",
   "execution_count": 7,
   "id": "81b9a776",
   "metadata": {},
   "outputs": [],
   "source": [
    "newnames <- c('EN0.2A','EN0.2B','EN0.2C','OP0.2A','OP0.2B','OP0.2C','OP1.2A','OP1.2B','OP1.2C','OP5.0A','OP5.0B','OP5.0C','OP8.0A','OP8.0B','OP8.0C')"
   ]
  },
  {
   "cell_type": "code",
   "execution_count": 67,
   "id": "9209f781",
   "metadata": {},
   "outputs": [],
   "source": [
    "# Database\n",
    "arter <- read.table(\"arter.tsv\", sep=\"\\t\", header=T)\n",
    "colnames(arter) <- c(\"Phylum\",\"Class\",\"Order\",\"Family\",\"Genus\",\"Species\", \"Marine\")\n",
    "marine <- arter[arter$Marine == \"Yes\",]"
   ]
  },
  {
   "cell_type": "markdown",
   "id": "4c6cb874",
   "metadata": {},
   "source": [
    "### Shotgun"
   ]
  },
  {
   "cell_type": "code",
   "execution_count": 68,
   "id": "dfa849a9",
   "metadata": {},
   "outputs": [],
   "source": [
    "# Data\n",
    "shotgun_taxa_count <- read.delim(\"GenomeDK_LCA/counts.lca.rarefy.tsv\")"
   ]
  },
  {
   "cell_type": "markdown",
   "id": "e8d111e0",
   "metadata": {},
   "source": [
    "**Phylum**"
   ]
  },
  {
   "cell_type": "code",
   "execution_count": 69,
   "id": "54ed4167",
   "metadata": {},
   "outputs": [
    {
     "name": "stderr",
     "output_type": "stream",
     "text": [
      "Using phylum as id variables\n",
      "\n",
      "\u001b[1m\u001b[22m`summarise()` has grouped output by 'phylum'. You can override using the `.groups`\n",
      "argument.\n"
     ]
    }
   ],
   "source": [
    "# Transform\n",
    "ps <- shotgun_taxa_count %>% filter(superkingdom == \"Eukaryota\")\n",
    "ps <- ps[,c(3,9:23)]\n",
    "ps <- ps %>% drop_na(phylum)\n",
    "ps <- melt(ps) %>% group_by(phylum,variable) %>% summarise(value = sum(value)) %>%\n",
    "mutate(origin = ifelse(phylum %in% marine$Phylum, \"Danish\", \"Exotic\"))"
   ]
  },
  {
   "cell_type": "code",
   "execution_count": 70,
   "id": "3ae031ad",
   "metadata": {},
   "outputs": [
    {
     "data": {
      "text/html": [
       "<style>\n",
       ".list-inline {list-style: none; margin:0; padding: 0}\n",
       ".list-inline>li {display: inline-block}\n",
       ".list-inline>li:not(:last-child)::after {content: \"\\00b7\"; padding: 0 .5ex}\n",
       "</style>\n",
       "<ol class=list-inline><li>'Annelida'</li><li>'Arthropoda'</li><li>'Bryozoa'</li><li>'Chordata'</li><li>'Cnidaria'</li><li>'Ctenophora'</li><li>'Echinodermata'</li><li>'Gastrotricha'</li><li>'Hemichordata'</li><li>'Mollusca'</li><li>'Nematoda'</li><li>'Phoronida'</li><li>'Platyhelminthes'</li><li>'Porifera'</li><li>'Priapulida'</li><li>'Rotifera'</li><li>'Xenacoelomorpha'</li></ol>\n"
      ],
      "text/latex": [
       "\\begin{enumerate*}\n",
       "\\item 'Annelida'\n",
       "\\item 'Arthropoda'\n",
       "\\item 'Bryozoa'\n",
       "\\item 'Chordata'\n",
       "\\item 'Cnidaria'\n",
       "\\item 'Ctenophora'\n",
       "\\item 'Echinodermata'\n",
       "\\item 'Gastrotricha'\n",
       "\\item 'Hemichordata'\n",
       "\\item 'Mollusca'\n",
       "\\item 'Nematoda'\n",
       "\\item 'Phoronida'\n",
       "\\item 'Platyhelminthes'\n",
       "\\item 'Porifera'\n",
       "\\item 'Priapulida'\n",
       "\\item 'Rotifera'\n",
       "\\item 'Xenacoelomorpha'\n",
       "\\end{enumerate*}\n"
      ],
      "text/markdown": [
       "1. 'Annelida'\n",
       "2. 'Arthropoda'\n",
       "3. 'Bryozoa'\n",
       "4. 'Chordata'\n",
       "5. 'Cnidaria'\n",
       "6. 'Ctenophora'\n",
       "7. 'Echinodermata'\n",
       "8. 'Gastrotricha'\n",
       "9. 'Hemichordata'\n",
       "10. 'Mollusca'\n",
       "11. 'Nematoda'\n",
       "12. 'Phoronida'\n",
       "13. 'Platyhelminthes'\n",
       "14. 'Porifera'\n",
       "15. 'Priapulida'\n",
       "16. 'Rotifera'\n",
       "17. 'Xenacoelomorpha'\n",
       "\n",
       "\n"
      ],
      "text/plain": [
       " [1] \"Annelida\"        \"Arthropoda\"      \"Bryozoa\"         \"Chordata\"       \n",
       " [5] \"Cnidaria\"        \"Ctenophora\"      \"Echinodermata\"   \"Gastrotricha\"   \n",
       " [9] \"Hemichordata\"    \"Mollusca\"        \"Nematoda\"        \"Phoronida\"      \n",
       "[13] \"Platyhelminthes\" \"Porifera\"        \"Priapulida\"      \"Rotifera\"       \n",
       "[17] \"Xenacoelomorpha\""
      ]
     },
     "metadata": {},
     "output_type": "display_data"
    },
    {
     "data": {
      "text/html": [
       "<style>\n",
       ".list-inline {list-style: none; margin:0; padding: 0}\n",
       ".list-inline>li {display: inline-block}\n",
       ".list-inline>li:not(:last-child)::after {content: \"\\00b7\"; padding: 0 .5ex}\n",
       "</style>\n",
       "<ol class=list-inline><li>'Apicomplexa'</li><li>'Ascomycota'</li><li>'Bacillariophyta'</li><li>'Basidiomycota'</li><li>'Blastocladiomycota'</li><li>'Cercozoa'</li><li>'Chlorophyta'</li><li>'Chytridiomycota'</li><li>'Ciliophora'</li><li>'Cryptomycota'</li><li>'Discosea'</li><li>'Endomyxa'</li><li>'Euglenozoa'</li><li>'Evosea'</li><li>'Foraminifera'</li><li>'Fornicata'</li><li>'Haptista'</li><li>'Heterolobosea'</li><li>'Imbricatea'</li><li>'Microsporidia'</li><li>'Mucoromycota'</li><li>'Olpidiomycota'</li><li>'Parabasalia'</li><li>'Perkinsozoa'</li><li>'Picozoa'</li><li>'Placozoa'</li><li>'Rhodophyta'</li><li>'Streptophyta'</li><li>'Tardigrada'</li><li>'Tubulinea'</li><li>'Zoopagomycota'</li></ol>\n"
      ],
      "text/latex": [
       "\\begin{enumerate*}\n",
       "\\item 'Apicomplexa'\n",
       "\\item 'Ascomycota'\n",
       "\\item 'Bacillariophyta'\n",
       "\\item 'Basidiomycota'\n",
       "\\item 'Blastocladiomycota'\n",
       "\\item 'Cercozoa'\n",
       "\\item 'Chlorophyta'\n",
       "\\item 'Chytridiomycota'\n",
       "\\item 'Ciliophora'\n",
       "\\item 'Cryptomycota'\n",
       "\\item 'Discosea'\n",
       "\\item 'Endomyxa'\n",
       "\\item 'Euglenozoa'\n",
       "\\item 'Evosea'\n",
       "\\item 'Foraminifera'\n",
       "\\item 'Fornicata'\n",
       "\\item 'Haptista'\n",
       "\\item 'Heterolobosea'\n",
       "\\item 'Imbricatea'\n",
       "\\item 'Microsporidia'\n",
       "\\item 'Mucoromycota'\n",
       "\\item 'Olpidiomycota'\n",
       "\\item 'Parabasalia'\n",
       "\\item 'Perkinsozoa'\n",
       "\\item 'Picozoa'\n",
       "\\item 'Placozoa'\n",
       "\\item 'Rhodophyta'\n",
       "\\item 'Streptophyta'\n",
       "\\item 'Tardigrada'\n",
       "\\item 'Tubulinea'\n",
       "\\item 'Zoopagomycota'\n",
       "\\end{enumerate*}\n"
      ],
      "text/markdown": [
       "1. 'Apicomplexa'\n",
       "2. 'Ascomycota'\n",
       "3. 'Bacillariophyta'\n",
       "4. 'Basidiomycota'\n",
       "5. 'Blastocladiomycota'\n",
       "6. 'Cercozoa'\n",
       "7. 'Chlorophyta'\n",
       "8. 'Chytridiomycota'\n",
       "9. 'Ciliophora'\n",
       "10. 'Cryptomycota'\n",
       "11. 'Discosea'\n",
       "12. 'Endomyxa'\n",
       "13. 'Euglenozoa'\n",
       "14. 'Evosea'\n",
       "15. 'Foraminifera'\n",
       "16. 'Fornicata'\n",
       "17. 'Haptista'\n",
       "18. 'Heterolobosea'\n",
       "19. 'Imbricatea'\n",
       "20. 'Microsporidia'\n",
       "21. 'Mucoromycota'\n",
       "22. 'Olpidiomycota'\n",
       "23. 'Parabasalia'\n",
       "24. 'Perkinsozoa'\n",
       "25. 'Picozoa'\n",
       "26. 'Placozoa'\n",
       "27. 'Rhodophyta'\n",
       "28. 'Streptophyta'\n",
       "29. 'Tardigrada'\n",
       "30. 'Tubulinea'\n",
       "31. 'Zoopagomycota'\n",
       "\n",
       "\n"
      ],
      "text/plain": [
       " [1] \"Apicomplexa\"        \"Ascomycota\"         \"Bacillariophyta\"   \n",
       " [4] \"Basidiomycota\"      \"Blastocladiomycota\" \"Cercozoa\"          \n",
       " [7] \"Chlorophyta\"        \"Chytridiomycota\"    \"Ciliophora\"        \n",
       "[10] \"Cryptomycota\"       \"Discosea\"           \"Endomyxa\"          \n",
       "[13] \"Euglenozoa\"         \"Evosea\"             \"Foraminifera\"      \n",
       "[16] \"Fornicata\"          \"Haptista\"           \"Heterolobosea\"     \n",
       "[19] \"Imbricatea\"         \"Microsporidia\"      \"Mucoromycota\"      \n",
       "[22] \"Olpidiomycota\"      \"Parabasalia\"        \"Perkinsozoa\"       \n",
       "[25] \"Picozoa\"            \"Placozoa\"           \"Rhodophyta\"        \n",
       "[28] \"Streptophyta\"       \"Tardigrada\"         \"Tubulinea\"         \n",
       "[31] \"Zoopagomycota\"     "
      ]
     },
     "metadata": {},
     "output_type": "display_data"
    },
    {
     "data": {
      "text/html": [
       "17"
      ],
      "text/latex": [
       "17"
      ],
      "text/markdown": [
       "17"
      ],
      "text/plain": [
       "[1] 17"
      ]
     },
     "metadata": {},
     "output_type": "display_data"
    },
    {
     "data": {
      "text/html": [
       "31"
      ],
      "text/latex": [
       "31"
      ],
      "text/markdown": [
       "31"
      ],
      "text/plain": [
       "[1] 31"
      ]
     },
     "metadata": {},
     "output_type": "display_data"
    }
   ],
   "source": [
    "unique(ps$phylum[ps$phylum %in% marine$Phylum])\n",
    "unique(ps$phylum[!ps$phylum %in% marine$Phylum])\n",
    "\n",
    "length(unique(ps$phylum[ps$phylum %in% marine$Phylum]))\n",
    "length(unique(ps$phylum[!ps$phylum %in% marine$Phylum]))"
   ]
  },
  {
   "cell_type": "code",
   "execution_count": 71,
   "id": "2748348a",
   "metadata": {},
   "outputs": [
    {
     "data": {
      "text/html": [
       "<strong>png:</strong> 2"
      ],
      "text/latex": [
       "\\textbf{png:} 2"
      ],
      "text/markdown": [
       "**png:** 2"
      ],
      "text/plain": [
       "png \n",
       "  2 "
      ]
     },
     "metadata": {},
     "output_type": "display_data"
    }
   ],
   "source": [
    "# Copy dataframe\n",
    "ps_count <- ps\n",
    "\n",
    "# Plot\n",
    "ps_count$variable <- factor(ps$variable, levels = newnames)\n",
    "ps_count <- ps_count %>% mutate(type = ifelse(grepl(\"EN\", variable), \"Enclosed\", \"Open\"))\n",
    "\n",
    "p <- ps_count %>% drop_na() %>%\n",
    "ggplot() + geom_col(aes(x=variable, y=value, fill=origin), color=\"black\") +\n",
    "scale_fill_manual(values = c(\"forestgreen\", \"firebrick\")) +\n",
    "labs(fill = \"\", x=\"\", y=\"#Reads per phyla\", title=\"Phyla\") +\n",
    "facet_wrap(~type, scales=\"free_x\") +\n",
    "theme_classic() %+replace% theme(\n",
    "    title = element_text(size=20, face=\"bold\"),\n",
    "    axis.text.x = element_text(angle = 90, size=18),\n",
    "    axis.text.y = element_text(size=18),\n",
    "    axis.title = element_text(size=20),\n",
    "    strip.text.x = element_text(size = 16, face=\"bold\"),\n",
    "    strip.background = element_blank(),\n",
    "    legend.title = element_text(size=18, face=\"bold\"),\n",
    "    legend.text = element_text(size=16))\n",
    "\n",
    "gt = ggplot_gtable(ggplot_build(p))\n",
    "gt$widths[5] = unit(0.28, \"null\")\n",
    "\n",
    "png(file=\"GenomeDK_LCA/07-Plots/validation.shotgun.phylum.count.png\", width=2300, height=2000, res=300)\n",
    "grid.draw(gt)\n",
    "dev.off()"
   ]
  },
  {
   "cell_type": "code",
   "execution_count": 72,
   "id": "41997291",
   "metadata": {},
   "outputs": [
    {
     "data": {
      "text/html": [
       "<strong>png:</strong> 2"
      ],
      "text/latex": [
       "\\textbf{png:} 2"
      ],
      "text/markdown": [
       "**png:** 2"
      ],
      "text/plain": [
       "png \n",
       "  2 "
      ]
     },
     "metadata": {},
     "output_type": "display_data"
    }
   ],
   "source": [
    "# Copy dataframe\n",
    "ps_perc <- ps\n",
    "\n",
    "# Plot\n",
    "ps_perc <- ps_perc %>% group_by(variable) %>% drop_na(phylum) %>%\n",
    "filter(value != 0) %>% mutate(total = sum(value)) %>% ungroup() %>% \n",
    "mutate(perc = value / total * 100)\n",
    "\n",
    "ps_perc$variable <- factor(ps_perc$variable, levels = newnames)\n",
    "ps_perc <- ps_perc %>% mutate(type = ifelse(grepl(\"EN\", variable), \"Enclosed\", \"Open\"))\n",
    "\n",
    "p <- ps_perc %>% drop_na() %>%\n",
    "ggplot() + geom_col(aes(x=variable, y=perc, fill=origin), color=\"black\") +\n",
    "scale_fill_manual(values = c(\"forestgreen\", \"firebrick\")) +\n",
    "labs(fill = \"\", x=\"\", y=\"#Reads per phyla\", title=\"Phylum\") +\n",
    "facet_wrap(~type, scales=\"free_x\") +\n",
    "theme_classic() %+replace% theme(\n",
    "    title = element_text(size=20, face=\"bold\"),\n",
    "    axis.text.x = element_text(angle = 90, size=18),\n",
    "    axis.text.y = element_text(size=18),\n",
    "    axis.title = element_text(size=20),\n",
    "    strip.text.x = element_text(size = 16, face=\"bold\"),\n",
    "    strip.background = element_blank(),\n",
    "    legend.title = element_text(size=18, face=\"bold\"),\n",
    "    legend.text = element_text(size=16))\n",
    "\n",
    "gt = ggplot_gtable(ggplot_build(p))\n",
    "gt$widths[5] = unit(0.28, \"null\")\n",
    "\n",
    "png(file=\"GenomeDK_LCA/07-Plots/validation.shotgun.phylum.perc.png\", width=2300, height=2000, res=300)\n",
    "grid.draw(gt)\n",
    "dev.off()"
   ]
  },
  {
   "cell_type": "code",
   "execution_count": 73,
   "id": "70a0feeb",
   "metadata": {},
   "outputs": [
    {
     "name": "stderr",
     "output_type": "stream",
     "text": [
      "\u001b[1m\u001b[22m`summarise()` has grouped output by 'variable'. You can override using the `.groups`\n",
      "argument.\n"
     ]
    },
    {
     "data": {
      "text/html": [
       "<table class=\"dataframe\">\n",
       "<caption>A grouped_df: 30 × 3</caption>\n",
       "<thead>\n",
       "\t<tr><th scope=col>variable</th><th scope=col>origin</th><th scope=col>perc</th></tr>\n",
       "\t<tr><th scope=col>&lt;fct&gt;</th><th scope=col>&lt;chr&gt;</th><th scope=col>&lt;dbl&gt;</th></tr>\n",
       "</thead>\n",
       "<tbody>\n",
       "\t<tr><td>EN0.2A</td><td>Danish</td><td> 1.4447632</td></tr>\n",
       "\t<tr><td>EN0.2A</td><td>Exotic</td><td>98.5552368</td></tr>\n",
       "\t<tr><td>EN0.2B</td><td>Danish</td><td> 2.5044818</td></tr>\n",
       "\t<tr><td>EN0.2B</td><td>Exotic</td><td>97.4955182</td></tr>\n",
       "\t<tr><td>EN0.2C</td><td>Danish</td><td> 0.9695176</td></tr>\n",
       "\t<tr><td>EN0.2C</td><td>Exotic</td><td>99.0304824</td></tr>\n",
       "\t<tr><td>OP0.2A</td><td>Danish</td><td> 1.9528834</td></tr>\n",
       "\t<tr><td>OP0.2A</td><td>Exotic</td><td>98.0471166</td></tr>\n",
       "\t<tr><td>OP0.2B</td><td>Danish</td><td> 0.9043133</td></tr>\n",
       "\t<tr><td>OP0.2B</td><td>Exotic</td><td>99.0956867</td></tr>\n",
       "\t<tr><td>OP0.2C</td><td>Danish</td><td> 4.2249013</td></tr>\n",
       "\t<tr><td>OP0.2C</td><td>Exotic</td><td>95.7750987</td></tr>\n",
       "\t<tr><td>OP1.2A</td><td>Danish</td><td> 4.8240092</td></tr>\n",
       "\t<tr><td>OP1.2A</td><td>Exotic</td><td>95.1759908</td></tr>\n",
       "\t<tr><td>OP1.2B</td><td>Danish</td><td> 5.7930118</td></tr>\n",
       "\t<tr><td>OP1.2B</td><td>Exotic</td><td>94.2069882</td></tr>\n",
       "\t<tr><td>OP1.2C</td><td>Danish</td><td> 4.3023682</td></tr>\n",
       "\t<tr><td>OP1.2C</td><td>Exotic</td><td>95.6976318</td></tr>\n",
       "\t<tr><td>OP5.0A</td><td>Danish</td><td> 8.9659462</td></tr>\n",
       "\t<tr><td>OP5.0A</td><td>Exotic</td><td>91.0340538</td></tr>\n",
       "\t<tr><td>OP5.0B</td><td>Danish</td><td>13.8192564</td></tr>\n",
       "\t<tr><td>OP5.0B</td><td>Exotic</td><td>86.1807436</td></tr>\n",
       "\t<tr><td>OP5.0C</td><td>Danish</td><td>13.3290627</td></tr>\n",
       "\t<tr><td>OP5.0C</td><td>Exotic</td><td>86.6709373</td></tr>\n",
       "\t<tr><td>OP8.0A</td><td>Danish</td><td>10.5754014</td></tr>\n",
       "\t<tr><td>OP8.0A</td><td>Exotic</td><td>89.4245986</td></tr>\n",
       "\t<tr><td>OP8.0B</td><td>Danish</td><td> 6.9212566</td></tr>\n",
       "\t<tr><td>OP8.0B</td><td>Exotic</td><td>93.0787434</td></tr>\n",
       "\t<tr><td>OP8.0C</td><td>Danish</td><td>18.3186099</td></tr>\n",
       "\t<tr><td>OP8.0C</td><td>Exotic</td><td>81.6813901</td></tr>\n",
       "</tbody>\n",
       "</table>\n"
      ],
      "text/latex": [
       "A grouped\\_df: 30 × 3\n",
       "\\begin{tabular}{lll}\n",
       " variable & origin & perc\\\\\n",
       " <fct> & <chr> & <dbl>\\\\\n",
       "\\hline\n",
       "\t EN0.2A & Danish &  1.4447632\\\\\n",
       "\t EN0.2A & Exotic & 98.5552368\\\\\n",
       "\t EN0.2B & Danish &  2.5044818\\\\\n",
       "\t EN0.2B & Exotic & 97.4955182\\\\\n",
       "\t EN0.2C & Danish &  0.9695176\\\\\n",
       "\t EN0.2C & Exotic & 99.0304824\\\\\n",
       "\t OP0.2A & Danish &  1.9528834\\\\\n",
       "\t OP0.2A & Exotic & 98.0471166\\\\\n",
       "\t OP0.2B & Danish &  0.9043133\\\\\n",
       "\t OP0.2B & Exotic & 99.0956867\\\\\n",
       "\t OP0.2C & Danish &  4.2249013\\\\\n",
       "\t OP0.2C & Exotic & 95.7750987\\\\\n",
       "\t OP1.2A & Danish &  4.8240092\\\\\n",
       "\t OP1.2A & Exotic & 95.1759908\\\\\n",
       "\t OP1.2B & Danish &  5.7930118\\\\\n",
       "\t OP1.2B & Exotic & 94.2069882\\\\\n",
       "\t OP1.2C & Danish &  4.3023682\\\\\n",
       "\t OP1.2C & Exotic & 95.6976318\\\\\n",
       "\t OP5.0A & Danish &  8.9659462\\\\\n",
       "\t OP5.0A & Exotic & 91.0340538\\\\\n",
       "\t OP5.0B & Danish & 13.8192564\\\\\n",
       "\t OP5.0B & Exotic & 86.1807436\\\\\n",
       "\t OP5.0C & Danish & 13.3290627\\\\\n",
       "\t OP5.0C & Exotic & 86.6709373\\\\\n",
       "\t OP8.0A & Danish & 10.5754014\\\\\n",
       "\t OP8.0A & Exotic & 89.4245986\\\\\n",
       "\t OP8.0B & Danish &  6.9212566\\\\\n",
       "\t OP8.0B & Exotic & 93.0787434\\\\\n",
       "\t OP8.0C & Danish & 18.3186099\\\\\n",
       "\t OP8.0C & Exotic & 81.6813901\\\\\n",
       "\\end{tabular}\n"
      ],
      "text/markdown": [
       "\n",
       "A grouped_df: 30 × 3\n",
       "\n",
       "| variable &lt;fct&gt; | origin &lt;chr&gt; | perc &lt;dbl&gt; |\n",
       "|---|---|---|\n",
       "| EN0.2A | Danish |  1.4447632 |\n",
       "| EN0.2A | Exotic | 98.5552368 |\n",
       "| EN0.2B | Danish |  2.5044818 |\n",
       "| EN0.2B | Exotic | 97.4955182 |\n",
       "| EN0.2C | Danish |  0.9695176 |\n",
       "| EN0.2C | Exotic | 99.0304824 |\n",
       "| OP0.2A | Danish |  1.9528834 |\n",
       "| OP0.2A | Exotic | 98.0471166 |\n",
       "| OP0.2B | Danish |  0.9043133 |\n",
       "| OP0.2B | Exotic | 99.0956867 |\n",
       "| OP0.2C | Danish |  4.2249013 |\n",
       "| OP0.2C | Exotic | 95.7750987 |\n",
       "| OP1.2A | Danish |  4.8240092 |\n",
       "| OP1.2A | Exotic | 95.1759908 |\n",
       "| OP1.2B | Danish |  5.7930118 |\n",
       "| OP1.2B | Exotic | 94.2069882 |\n",
       "| OP1.2C | Danish |  4.3023682 |\n",
       "| OP1.2C | Exotic | 95.6976318 |\n",
       "| OP5.0A | Danish |  8.9659462 |\n",
       "| OP5.0A | Exotic | 91.0340538 |\n",
       "| OP5.0B | Danish | 13.8192564 |\n",
       "| OP5.0B | Exotic | 86.1807436 |\n",
       "| OP5.0C | Danish | 13.3290627 |\n",
       "| OP5.0C | Exotic | 86.6709373 |\n",
       "| OP8.0A | Danish | 10.5754014 |\n",
       "| OP8.0A | Exotic | 89.4245986 |\n",
       "| OP8.0B | Danish |  6.9212566 |\n",
       "| OP8.0B | Exotic | 93.0787434 |\n",
       "| OP8.0C | Danish | 18.3186099 |\n",
       "| OP8.0C | Exotic | 81.6813901 |\n",
       "\n"
      ],
      "text/plain": [
       "   variable origin perc      \n",
       "1  EN0.2A   Danish  1.4447632\n",
       "2  EN0.2A   Exotic 98.5552368\n",
       "3  EN0.2B   Danish  2.5044818\n",
       "4  EN0.2B   Exotic 97.4955182\n",
       "5  EN0.2C   Danish  0.9695176\n",
       "6  EN0.2C   Exotic 99.0304824\n",
       "7  OP0.2A   Danish  1.9528834\n",
       "8  OP0.2A   Exotic 98.0471166\n",
       "9  OP0.2B   Danish  0.9043133\n",
       "10 OP0.2B   Exotic 99.0956867\n",
       "11 OP0.2C   Danish  4.2249013\n",
       "12 OP0.2C   Exotic 95.7750987\n",
       "13 OP1.2A   Danish  4.8240092\n",
       "14 OP1.2A   Exotic 95.1759908\n",
       "15 OP1.2B   Danish  5.7930118\n",
       "16 OP1.2B   Exotic 94.2069882\n",
       "17 OP1.2C   Danish  4.3023682\n",
       "18 OP1.2C   Exotic 95.6976318\n",
       "19 OP5.0A   Danish  8.9659462\n",
       "20 OP5.0A   Exotic 91.0340538\n",
       "21 OP5.0B   Danish 13.8192564\n",
       "22 OP5.0B   Exotic 86.1807436\n",
       "23 OP5.0C   Danish 13.3290627\n",
       "24 OP5.0C   Exotic 86.6709373\n",
       "25 OP8.0A   Danish 10.5754014\n",
       "26 OP8.0A   Exotic 89.4245986\n",
       "27 OP8.0B   Danish  6.9212566\n",
       "28 OP8.0B   Exotic 93.0787434\n",
       "29 OP8.0C   Danish 18.3186099\n",
       "30 OP8.0C   Exotic 81.6813901"
      ]
     },
     "metadata": {},
     "output_type": "display_data"
    }
   ],
   "source": [
    "val_perc_phyla <- ps_perc %>% select(variable, origin, perc) %>% group_by(variable,origin) %>% summarise(perc = sum(perc))\n",
    "write.table(val_perc_phyla, \"validation.shotgun.phylum_perc.tsv\", quote=F, row.names=F, sep=\"\\t\")\n",
    "val_perc_phyla"
   ]
  },
  {
   "cell_type": "code",
   "execution_count": 74,
   "id": "63ffa95b",
   "metadata": {},
   "outputs": [
    {
     "data": {
      "text/plain": [
       "\n",
       "FALSE  TRUE \n",
       "    8    17 "
      ]
     },
     "metadata": {},
     "output_type": "display_data"
    }
   ],
   "source": [
    "table(unique(marine$Phylum) %in% ps_count$phylum)"
   ]
  },
  {
   "cell_type": "markdown",
   "id": "a6acbefa",
   "metadata": {},
   "source": [
    "**Metazoa**"
   ]
  },
  {
   "cell_type": "code",
   "execution_count": 75,
   "id": "f373d311",
   "metadata": {},
   "outputs": [
    {
     "name": "stderr",
     "output_type": "stream",
     "text": [
      "Using phylum as id variables\n",
      "\n",
      "\u001b[1m\u001b[22m`summarise()` has grouped output by 'phylum'. You can override using the `.groups`\n",
      "argument.\n"
     ]
    }
   ],
   "source": [
    "# Transform\n",
    "ps <- shotgun_taxa_count %>% filter(superkingdom == \"Eukaryota\", kingdom == \"Metazoa\")\n",
    "ps <- ps[,c(3,9:23)]\n",
    "ps <- melt(ps) %>% group_by(phylum,variable) %>% summarise(value = sum(value)) %>%\n",
    "mutate(origin = ifelse(phylum %in% marine$Phylum, \"Danish\", \"Exotic\"))"
   ]
  },
  {
   "cell_type": "code",
   "execution_count": 76,
   "id": "a282f517",
   "metadata": {},
   "outputs": [
    {
     "data": {
      "text/html": [
       "<style>\n",
       ".list-inline {list-style: none; margin:0; padding: 0}\n",
       ".list-inline>li {display: inline-block}\n",
       ".list-inline>li:not(:last-child)::after {content: \"\\00b7\"; padding: 0 .5ex}\n",
       "</style>\n",
       "<ol class=list-inline><li>'Annelida'</li><li>'Arthropoda'</li><li>'Bryozoa'</li><li>'Chordata'</li><li>'Cnidaria'</li><li>'Ctenophora'</li><li>'Echinodermata'</li><li>'Gastrotricha'</li><li>'Hemichordata'</li><li>'Mollusca'</li><li>'Nematoda'</li><li>'Phoronida'</li><li>'Platyhelminthes'</li><li>'Porifera'</li><li>'Priapulida'</li><li>'Rotifera'</li><li>'Xenacoelomorpha'</li></ol>\n"
      ],
      "text/latex": [
       "\\begin{enumerate*}\n",
       "\\item 'Annelida'\n",
       "\\item 'Arthropoda'\n",
       "\\item 'Bryozoa'\n",
       "\\item 'Chordata'\n",
       "\\item 'Cnidaria'\n",
       "\\item 'Ctenophora'\n",
       "\\item 'Echinodermata'\n",
       "\\item 'Gastrotricha'\n",
       "\\item 'Hemichordata'\n",
       "\\item 'Mollusca'\n",
       "\\item 'Nematoda'\n",
       "\\item 'Phoronida'\n",
       "\\item 'Platyhelminthes'\n",
       "\\item 'Porifera'\n",
       "\\item 'Priapulida'\n",
       "\\item 'Rotifera'\n",
       "\\item 'Xenacoelomorpha'\n",
       "\\end{enumerate*}\n"
      ],
      "text/markdown": [
       "1. 'Annelida'\n",
       "2. 'Arthropoda'\n",
       "3. 'Bryozoa'\n",
       "4. 'Chordata'\n",
       "5. 'Cnidaria'\n",
       "6. 'Ctenophora'\n",
       "7. 'Echinodermata'\n",
       "8. 'Gastrotricha'\n",
       "9. 'Hemichordata'\n",
       "10. 'Mollusca'\n",
       "11. 'Nematoda'\n",
       "12. 'Phoronida'\n",
       "13. 'Platyhelminthes'\n",
       "14. 'Porifera'\n",
       "15. 'Priapulida'\n",
       "16. 'Rotifera'\n",
       "17. 'Xenacoelomorpha'\n",
       "\n",
       "\n"
      ],
      "text/plain": [
       " [1] \"Annelida\"        \"Arthropoda\"      \"Bryozoa\"         \"Chordata\"       \n",
       " [5] \"Cnidaria\"        \"Ctenophora\"      \"Echinodermata\"   \"Gastrotricha\"   \n",
       " [9] \"Hemichordata\"    \"Mollusca\"        \"Nematoda\"        \"Phoronida\"      \n",
       "[13] \"Platyhelminthes\" \"Porifera\"        \"Priapulida\"      \"Rotifera\"       \n",
       "[17] \"Xenacoelomorpha\""
      ]
     },
     "metadata": {},
     "output_type": "display_data"
    },
    {
     "data": {
      "text/html": [
       "<style>\n",
       ".list-inline {list-style: none; margin:0; padding: 0}\n",
       ".list-inline>li {display: inline-block}\n",
       ".list-inline>li:not(:last-child)::after {content: \"\\00b7\"; padding: 0 .5ex}\n",
       "</style>\n",
       "<ol class=list-inline><li>'Placozoa'</li><li>'Tardigrada'</li><li>NA</li></ol>\n"
      ],
      "text/latex": [
       "\\begin{enumerate*}\n",
       "\\item 'Placozoa'\n",
       "\\item 'Tardigrada'\n",
       "\\item NA\n",
       "\\end{enumerate*}\n"
      ],
      "text/markdown": [
       "1. 'Placozoa'\n",
       "2. 'Tardigrada'\n",
       "3. NA\n",
       "\n",
       "\n"
      ],
      "text/plain": [
       "[1] \"Placozoa\"   \"Tardigrada\" NA          "
      ]
     },
     "metadata": {},
     "output_type": "display_data"
    },
    {
     "data": {
      "text/html": [
       "17"
      ],
      "text/latex": [
       "17"
      ],
      "text/markdown": [
       "17"
      ],
      "text/plain": [
       "[1] 17"
      ]
     },
     "metadata": {},
     "output_type": "display_data"
    },
    {
     "data": {
      "text/html": [
       "3"
      ],
      "text/latex": [
       "3"
      ],
      "text/markdown": [
       "3"
      ],
      "text/plain": [
       "[1] 3"
      ]
     },
     "metadata": {},
     "output_type": "display_data"
    }
   ],
   "source": [
    "unique(ps$phylum[ps$phylum %in% marine$Phylum])\n",
    "unique(ps$phylum[!ps$phylum %in% marine$Phylum])\n",
    "\n",
    "length(unique(ps$phylum[ps$phylum %in% marine$Phylum]))\n",
    "length(unique(ps$phylum[!ps$phylum %in% marine$Phylum]))"
   ]
  },
  {
   "cell_type": "code",
   "execution_count": 77,
   "id": "360c8690",
   "metadata": {},
   "outputs": [
    {
     "data": {
      "text/html": [
       "<strong>png:</strong> 2"
      ],
      "text/latex": [
       "\\textbf{png:} 2"
      ],
      "text/markdown": [
       "**png:** 2"
      ],
      "text/plain": [
       "png \n",
       "  2 "
      ]
     },
     "metadata": {},
     "output_type": "display_data"
    }
   ],
   "source": [
    "# Copy dataframe\n",
    "ps_count <- ps\n",
    "\n",
    "# Plot\n",
    "ps_count$variable <- factor(ps_count$variable, levels = newnames)\n",
    "ps_count <- ps_count %>% mutate(type = ifelse(grepl(\"EN\", variable), \"Enclosed\", \"Open\"))\n",
    "\n",
    "p <- ps_count %>% drop_na() %>%\n",
    "ggplot() + geom_col(aes(x=variable, y=value, fill=origin), color=\"black\") +\n",
    "scale_fill_manual(values = c(\"forestgreen\", \"firebrick\")) +\n",
    "labs(fill = \"\", x=\"\", y=\"#Reads per phyla\", title=\"Metazoa\") +\n",
    "facet_wrap(~type, scales=\"free_x\") +\n",
    "theme_classic() %+replace% theme(\n",
    "    title = element_text(size=20, face=\"bold\"),\n",
    "    axis.text.x = element_text(angle = 90, size=18),\n",
    "    axis.text.y = element_text(size=18),\n",
    "    axis.title = element_text(size=20),\n",
    "    strip.text.x = element_text(size = 16, face=\"bold\"),\n",
    "    strip.background = element_blank(),\n",
    "    legend.title = element_text(size=18, face=\"bold\"),\n",
    "    legend.text = element_text(size=16))\n",
    "\n",
    "gt = ggplot_gtable(ggplot_build(p))\n",
    "gt$widths[5] = unit(0.28, \"null\")\n",
    "\n",
    "png(file=\"GenomeDK_LCA/07-Plots/validation.shotgun.metazoa.read_count.png\", width=2300, height=2000, res=300)\n",
    "grid.draw(gt)\n",
    "dev.off()"
   ]
  },
  {
   "cell_type": "code",
   "execution_count": 78,
   "id": "7454cdd7",
   "metadata": {},
   "outputs": [
    {
     "data": {
      "text/html": [
       "<strong>png:</strong> 2"
      ],
      "text/latex": [
       "\\textbf{png:} 2"
      ],
      "text/markdown": [
       "**png:** 2"
      ],
      "text/plain": [
       "png \n",
       "  2 "
      ]
     },
     "metadata": {},
     "output_type": "display_data"
    }
   ],
   "source": [
    "# Copy dataframe\n",
    "ps_perc <- ps\n",
    "\n",
    "# Plot\n",
    "ps_perc <- ps_perc %>% group_by(variable) %>% drop_na(phylum) %>%\n",
    "filter(value != 0) %>% mutate(total = sum(value)) %>% ungroup() %>% \n",
    "mutate(perc = value / total * 100)\n",
    "\n",
    "ps_perc$variable <- factor(ps_perc$variable, levels = newnames)\n",
    "ps_perc <- ps_perc %>% mutate(type = ifelse(grepl(\"EN\", variable), \"Enclosed\", \"Open\"))\n",
    "\n",
    "p <- ps_perc %>% drop_na() %>%\n",
    "ggplot() + geom_col(aes(x=variable, y=perc, fill=origin), color=\"black\") +\n",
    "scale_fill_manual(values = c(\"forestgreen\", \"firebrick\")) +\n",
    "labs(fill = \"\", x=\"\", y=\"%Reads per phyla\", title=\"Metazoa\") +\n",
    "facet_wrap(~type, scales=\"free_x\") +\n",
    "theme_classic() %+replace% theme(\n",
    "    title = element_text(size=20, face=\"bold\"),\n",
    "    axis.text.x = element_text(angle = 90, size=18),\n",
    "    axis.text.y = element_text(size=18),\n",
    "    axis.title = element_text(size=20),\n",
    "    strip.text.x = element_text(size = 16, face=\"bold\"),\n",
    "    strip.background = element_blank(),\n",
    "    legend.title = element_text(size=18, face=\"bold\"),\n",
    "    legend.text = element_text(size=16))\n",
    "\n",
    "gt = ggplot_gtable(ggplot_build(p))\n",
    "gt$widths[5] = unit(0.28, \"null\")\n",
    "\n",
    "png(file=\"GenomeDK_LCA/07-Plots/validation.shotgun.metazoa.read_perc.png\", width=2300, height=2000, res=300)\n",
    "grid.draw(gt)\n",
    "dev.off()"
   ]
  },
  {
   "cell_type": "code",
   "execution_count": 79,
   "id": "a12f0b79",
   "metadata": {},
   "outputs": [
    {
     "name": "stderr",
     "output_type": "stream",
     "text": [
      "\u001b[1m\u001b[22m`summarise()` has grouped output by 'variable'. You can override using the `.groups`\n",
      "argument.\n"
     ]
    },
    {
     "data": {
      "text/html": [
       "<table class=\"dataframe\">\n",
       "<caption>A grouped_df: 21 × 3</caption>\n",
       "<thead>\n",
       "\t<tr><th scope=col>variable</th><th scope=col>origin</th><th scope=col>perc</th></tr>\n",
       "\t<tr><th scope=col>&lt;fct&gt;</th><th scope=col>&lt;chr&gt;</th><th scope=col>&lt;dbl&gt;</th></tr>\n",
       "</thead>\n",
       "<tbody>\n",
       "\t<tr><td>EN0.2A</td><td>Danish</td><td> 99.93493819</td></tr>\n",
       "\t<tr><td>EN0.2A</td><td>Exotic</td><td>  0.06506181</td></tr>\n",
       "\t<tr><td>EN0.2B</td><td>Danish</td><td> 99.94680851</td></tr>\n",
       "\t<tr><td>EN0.2B</td><td>Exotic</td><td>  0.05319149</td></tr>\n",
       "\t<tr><td>EN0.2C</td><td>Danish</td><td>100.00000000</td></tr>\n",
       "\t<tr><td>OP0.2A</td><td>Danish</td><td>100.00000000</td></tr>\n",
       "\t<tr><td>OP0.2B</td><td>Danish</td><td>100.00000000</td></tr>\n",
       "\t<tr><td>OP0.2C</td><td>Danish</td><td>100.00000000</td></tr>\n",
       "\t<tr><td>OP1.2A</td><td>Danish</td><td>100.00000000</td></tr>\n",
       "\t<tr><td>OP1.2B</td><td>Danish</td><td>100.00000000</td></tr>\n",
       "\t<tr><td>OP1.2C</td><td>Danish</td><td>100.00000000</td></tr>\n",
       "\t<tr><td>OP5.0A</td><td>Danish</td><td> 99.97672687</td></tr>\n",
       "\t<tr><td>OP5.0A</td><td>Exotic</td><td>  0.02327313</td></tr>\n",
       "\t<tr><td>OP5.0B</td><td>Danish</td><td> 99.96366719</td></tr>\n",
       "\t<tr><td>OP5.0B</td><td>Exotic</td><td>  0.03633281</td></tr>\n",
       "\t<tr><td>OP5.0C</td><td>Danish</td><td> 99.97910864</td></tr>\n",
       "\t<tr><td>OP5.0C</td><td>Exotic</td><td>  0.02089136</td></tr>\n",
       "\t<tr><td>OP8.0A</td><td>Danish</td><td>100.00000000</td></tr>\n",
       "\t<tr><td>OP8.0B</td><td>Danish</td><td> 99.97027790</td></tr>\n",
       "\t<tr><td>OP8.0B</td><td>Exotic</td><td>  0.02972210</td></tr>\n",
       "\t<tr><td>OP8.0C</td><td>Danish</td><td>100.00000000</td></tr>\n",
       "</tbody>\n",
       "</table>\n"
      ],
      "text/latex": [
       "A grouped\\_df: 21 × 3\n",
       "\\begin{tabular}{lll}\n",
       " variable & origin & perc\\\\\n",
       " <fct> & <chr> & <dbl>\\\\\n",
       "\\hline\n",
       "\t EN0.2A & Danish &  99.93493819\\\\\n",
       "\t EN0.2A & Exotic &   0.06506181\\\\\n",
       "\t EN0.2B & Danish &  99.94680851\\\\\n",
       "\t EN0.2B & Exotic &   0.05319149\\\\\n",
       "\t EN0.2C & Danish & 100.00000000\\\\\n",
       "\t OP0.2A & Danish & 100.00000000\\\\\n",
       "\t OP0.2B & Danish & 100.00000000\\\\\n",
       "\t OP0.2C & Danish & 100.00000000\\\\\n",
       "\t OP1.2A & Danish & 100.00000000\\\\\n",
       "\t OP1.2B & Danish & 100.00000000\\\\\n",
       "\t OP1.2C & Danish & 100.00000000\\\\\n",
       "\t OP5.0A & Danish &  99.97672687\\\\\n",
       "\t OP5.0A & Exotic &   0.02327313\\\\\n",
       "\t OP5.0B & Danish &  99.96366719\\\\\n",
       "\t OP5.0B & Exotic &   0.03633281\\\\\n",
       "\t OP5.0C & Danish &  99.97910864\\\\\n",
       "\t OP5.0C & Exotic &   0.02089136\\\\\n",
       "\t OP8.0A & Danish & 100.00000000\\\\\n",
       "\t OP8.0B & Danish &  99.97027790\\\\\n",
       "\t OP8.0B & Exotic &   0.02972210\\\\\n",
       "\t OP8.0C & Danish & 100.00000000\\\\\n",
       "\\end{tabular}\n"
      ],
      "text/markdown": [
       "\n",
       "A grouped_df: 21 × 3\n",
       "\n",
       "| variable &lt;fct&gt; | origin &lt;chr&gt; | perc &lt;dbl&gt; |\n",
       "|---|---|---|\n",
       "| EN0.2A | Danish |  99.93493819 |\n",
       "| EN0.2A | Exotic |   0.06506181 |\n",
       "| EN0.2B | Danish |  99.94680851 |\n",
       "| EN0.2B | Exotic |   0.05319149 |\n",
       "| EN0.2C | Danish | 100.00000000 |\n",
       "| OP0.2A | Danish | 100.00000000 |\n",
       "| OP0.2B | Danish | 100.00000000 |\n",
       "| OP0.2C | Danish | 100.00000000 |\n",
       "| OP1.2A | Danish | 100.00000000 |\n",
       "| OP1.2B | Danish | 100.00000000 |\n",
       "| OP1.2C | Danish | 100.00000000 |\n",
       "| OP5.0A | Danish |  99.97672687 |\n",
       "| OP5.0A | Exotic |   0.02327313 |\n",
       "| OP5.0B | Danish |  99.96366719 |\n",
       "| OP5.0B | Exotic |   0.03633281 |\n",
       "| OP5.0C | Danish |  99.97910864 |\n",
       "| OP5.0C | Exotic |   0.02089136 |\n",
       "| OP8.0A | Danish | 100.00000000 |\n",
       "| OP8.0B | Danish |  99.97027790 |\n",
       "| OP8.0B | Exotic |   0.02972210 |\n",
       "| OP8.0C | Danish | 100.00000000 |\n",
       "\n"
      ],
      "text/plain": [
       "   variable origin perc        \n",
       "1  EN0.2A   Danish  99.93493819\n",
       "2  EN0.2A   Exotic   0.06506181\n",
       "3  EN0.2B   Danish  99.94680851\n",
       "4  EN0.2B   Exotic   0.05319149\n",
       "5  EN0.2C   Danish 100.00000000\n",
       "6  OP0.2A   Danish 100.00000000\n",
       "7  OP0.2B   Danish 100.00000000\n",
       "8  OP0.2C   Danish 100.00000000\n",
       "9  OP1.2A   Danish 100.00000000\n",
       "10 OP1.2B   Danish 100.00000000\n",
       "11 OP1.2C   Danish 100.00000000\n",
       "12 OP5.0A   Danish  99.97672687\n",
       "13 OP5.0A   Exotic   0.02327313\n",
       "14 OP5.0B   Danish  99.96366719\n",
       "15 OP5.0B   Exotic   0.03633281\n",
       "16 OP5.0C   Danish  99.97910864\n",
       "17 OP5.0C   Exotic   0.02089136\n",
       "18 OP8.0A   Danish 100.00000000\n",
       "19 OP8.0B   Danish  99.97027790\n",
       "20 OP8.0B   Exotic   0.02972210\n",
       "21 OP8.0C   Danish 100.00000000"
      ]
     },
     "metadata": {},
     "output_type": "display_data"
    }
   ],
   "source": [
    "val_perc_metazoa <- ps_perc %>% select(variable, origin, perc) %>% group_by(variable,origin) %>% summarise(perc = sum(perc))\n",
    "write.table(val_perc_metazoa, \"validation.shotgun.metazoa_perc.tsv\", quote=F, row.names=F, sep=\"\\t\")\n",
    "val_perc_metazoa"
   ]
  },
  {
   "cell_type": "code",
   "execution_count": 80,
   "id": "44f50916",
   "metadata": {},
   "outputs": [
    {
     "data": {
      "text/plain": [
       "\n",
       "FALSE  TRUE \n",
       "    8    17 "
      ]
     },
     "metadata": {},
     "output_type": "display_data"
    }
   ],
   "source": [
    "table(unique(marine$Phylum) %in% ps_perc$phylum)"
   ]
  },
  {
   "cell_type": "markdown",
   "id": "9419165d",
   "metadata": {},
   "source": [
    "### Metabarcoding"
   ]
  },
  {
   "cell_type": "code",
   "execution_count": 57,
   "id": "d69210ed",
   "metadata": {},
   "outputs": [
    {
     "data": {
      "text/html": [
       "<table class=\"dataframe\">\n",
       "<caption>A data.frame: 6 × 11</caption>\n",
       "<thead>\n",
       "\t<tr><th></th><th scope=col>variable</th><th scope=col>sample</th><th scope=col>mean</th><th scope=col>correct_sample</th><th scope=col>kingdom</th><th scope=col>phylum</th><th scope=col>class</th><th scope=col>order</th><th scope=col>family</th><th scope=col>genus</th><th scope=col>species</th></tr>\n",
       "\t<tr><th></th><th scope=col>&lt;fct&gt;</th><th scope=col>&lt;chr&gt;</th><th scope=col>&lt;dbl&gt;</th><th scope=col>&lt;chr&gt;</th><th scope=col>&lt;chr&gt;</th><th scope=col>&lt;chr&gt;</th><th scope=col>&lt;chr&gt;</th><th scope=col>&lt;chr&gt;</th><th scope=col>&lt;chr&gt;</th><th scope=col>&lt;chr&gt;</th><th scope=col>&lt;chr&gt;</th></tr>\n",
       "</thead>\n",
       "<tbody>\n",
       "\t<tr><th scope=row>1</th><td>seq1</td><td>sample.3_5.0u</td><td> 50763.50</td><td>OP5.0C</td><td>Metazoa</td><td>Arthropoda</td><td>Hexanauplia</td><td>Calanoida</td><td>Paracalanidae</td><td>Paracalanus</td><td>Paracalanus parvus</td></tr>\n",
       "\t<tr><th scope=row>2</th><td>seq1</td><td>sample.1_8.0u</td><td>299849.75</td><td>OP8.0A</td><td>Metazoa</td><td>Arthropoda</td><td>Hexanauplia</td><td>Calanoida</td><td>Paracalanidae</td><td>Paracalanus</td><td>Paracalanus parvus</td></tr>\n",
       "\t<tr><th scope=row>3</th><td>seq1</td><td>sample.2_5.0u</td><td> 29921.25</td><td>OP5.0B</td><td>Metazoa</td><td>Arthropoda</td><td>Hexanauplia</td><td>Calanoida</td><td>Paracalanidae</td><td>Paracalanus</td><td>Paracalanus parvus</td></tr>\n",
       "\t<tr><th scope=row>4</th><td>seq1</td><td>sample.3_8.0u</td><td>  2406.75</td><td>OP8.0C</td><td>Metazoa</td><td>Arthropoda</td><td>Hexanauplia</td><td>Calanoida</td><td>Paracalanidae</td><td>Paracalanus</td><td>Paracalanus parvus</td></tr>\n",
       "\t<tr><th scope=row>5</th><td>seq1</td><td>sample.3_1.2u</td><td>  1291.25</td><td>OP1.2C</td><td>Metazoa</td><td>Arthropoda</td><td>Hexanauplia</td><td>Calanoida</td><td>Paracalanidae</td><td>Paracalanus</td><td>Paracalanus parvus</td></tr>\n",
       "\t<tr><th scope=row>6</th><td>seq1</td><td>sample.1_0.2u</td><td>  1224.75</td><td>OP0.2A</td><td>Metazoa</td><td>Arthropoda</td><td>Hexanauplia</td><td>Calanoida</td><td>Paracalanidae</td><td>Paracalanus</td><td>Paracalanus parvus</td></tr>\n",
       "</tbody>\n",
       "</table>\n"
      ],
      "text/latex": [
       "A data.frame: 6 × 11\n",
       "\\begin{tabular}{r|lllllllllll}\n",
       "  & variable & sample & mean & correct\\_sample & kingdom & phylum & class & order & family & genus & species\\\\\n",
       "  & <fct> & <chr> & <dbl> & <chr> & <chr> & <chr> & <chr> & <chr> & <chr> & <chr> & <chr>\\\\\n",
       "\\hline\n",
       "\t1 & seq1 & sample.3\\_5.0u &  50763.50 & OP5.0C & Metazoa & Arthropoda & Hexanauplia & Calanoida & Paracalanidae & Paracalanus & Paracalanus parvus\\\\\n",
       "\t2 & seq1 & sample.1\\_8.0u & 299849.75 & OP8.0A & Metazoa & Arthropoda & Hexanauplia & Calanoida & Paracalanidae & Paracalanus & Paracalanus parvus\\\\\n",
       "\t3 & seq1 & sample.2\\_5.0u &  29921.25 & OP5.0B & Metazoa & Arthropoda & Hexanauplia & Calanoida & Paracalanidae & Paracalanus & Paracalanus parvus\\\\\n",
       "\t4 & seq1 & sample.3\\_8.0u &   2406.75 & OP8.0C & Metazoa & Arthropoda & Hexanauplia & Calanoida & Paracalanidae & Paracalanus & Paracalanus parvus\\\\\n",
       "\t5 & seq1 & sample.3\\_1.2u &   1291.25 & OP1.2C & Metazoa & Arthropoda & Hexanauplia & Calanoida & Paracalanidae & Paracalanus & Paracalanus parvus\\\\\n",
       "\t6 & seq1 & sample.1\\_0.2u &   1224.75 & OP0.2A & Metazoa & Arthropoda & Hexanauplia & Calanoida & Paracalanidae & Paracalanus & Paracalanus parvus\\\\\n",
       "\\end{tabular}\n"
      ],
      "text/markdown": [
       "\n",
       "A data.frame: 6 × 11\n",
       "\n",
       "| <!--/--> | variable &lt;fct&gt; | sample &lt;chr&gt; | mean &lt;dbl&gt; | correct_sample &lt;chr&gt; | kingdom &lt;chr&gt; | phylum &lt;chr&gt; | class &lt;chr&gt; | order &lt;chr&gt; | family &lt;chr&gt; | genus &lt;chr&gt; | species &lt;chr&gt; |\n",
       "|---|---|---|---|---|---|---|---|---|---|---|---|\n",
       "| 1 | seq1 | sample.3_5.0u |  50763.50 | OP5.0C | Metazoa | Arthropoda | Hexanauplia | Calanoida | Paracalanidae | Paracalanus | Paracalanus parvus |\n",
       "| 2 | seq1 | sample.1_8.0u | 299849.75 | OP8.0A | Metazoa | Arthropoda | Hexanauplia | Calanoida | Paracalanidae | Paracalanus | Paracalanus parvus |\n",
       "| 3 | seq1 | sample.2_5.0u |  29921.25 | OP5.0B | Metazoa | Arthropoda | Hexanauplia | Calanoida | Paracalanidae | Paracalanus | Paracalanus parvus |\n",
       "| 4 | seq1 | sample.3_8.0u |   2406.75 | OP8.0C | Metazoa | Arthropoda | Hexanauplia | Calanoida | Paracalanidae | Paracalanus | Paracalanus parvus |\n",
       "| 5 | seq1 | sample.3_1.2u |   1291.25 | OP1.2C | Metazoa | Arthropoda | Hexanauplia | Calanoida | Paracalanidae | Paracalanus | Paracalanus parvus |\n",
       "| 6 | seq1 | sample.1_0.2u |   1224.75 | OP0.2A | Metazoa | Arthropoda | Hexanauplia | Calanoida | Paracalanidae | Paracalanus | Paracalanus parvus |\n",
       "\n"
      ],
      "text/plain": [
       "  variable sample        mean      correct_sample kingdom phylum    \n",
       "1 seq1     sample.3_5.0u  50763.50 OP5.0C         Metazoa Arthropoda\n",
       "2 seq1     sample.1_8.0u 299849.75 OP8.0A         Metazoa Arthropoda\n",
       "3 seq1     sample.2_5.0u  29921.25 OP5.0B         Metazoa Arthropoda\n",
       "4 seq1     sample.3_8.0u   2406.75 OP8.0C         Metazoa Arthropoda\n",
       "5 seq1     sample.3_1.2u   1291.25 OP1.2C         Metazoa Arthropoda\n",
       "6 seq1     sample.1_0.2u   1224.75 OP0.2A         Metazoa Arthropoda\n",
       "  class       order     family        genus       species           \n",
       "1 Hexanauplia Calanoida Paracalanidae Paracalanus Paracalanus parvus\n",
       "2 Hexanauplia Calanoida Paracalanidae Paracalanus Paracalanus parvus\n",
       "3 Hexanauplia Calanoida Paracalanidae Paracalanus Paracalanus parvus\n",
       "4 Hexanauplia Calanoida Paracalanidae Paracalanus Paracalanus parvus\n",
       "5 Hexanauplia Calanoida Paracalanidae Paracalanus Paracalanus parvus\n",
       "6 Hexanauplia Calanoida Paracalanidae Paracalanus Paracalanus parvus"
      ]
     },
     "metadata": {},
     "output_type": "display_data"
    }
   ],
   "source": [
    "# Dataset\n",
    "taxa <- metabar_taxa[, c(2,8:14)]\n",
    "dataset <- merge(mat, taxa, by.x=\"variable\", by.y=\"qseqid\")\n",
    "head(dataset)"
   ]
  },
  {
   "cell_type": "markdown",
   "id": "c10bd5b0",
   "metadata": {},
   "source": [
    "**Phylum**"
   ]
  },
  {
   "cell_type": "code",
   "execution_count": 58,
   "id": "28e88019",
   "metadata": {},
   "outputs": [
    {
     "name": "stderr",
     "output_type": "stream",
     "text": [
      "\u001b[1m\u001b[22m`summarise()` has grouped output by 'correct_sample'. You can override using the\n",
      "`.groups` argument.\n"
     ]
    }
   ],
   "source": [
    "phylmat <- dataset %>% select(correct_sample, mean, phylum) %>% drop_na(phylum) %>%\n",
    "    group_by(correct_sample, phylum) %>% summarise(mean = sum(mean)) %>% ungroup() %>%\n",
    "    group_by(correct_sample) %>% mutate(perc = mean/sum(mean)) %>% ungroup() %>%\n",
    "    mutate(origin = ifelse(phylum %in% marine$Phylum, \"Danish\", \"Exotic\"))"
   ]
  },
  {
   "cell_type": "code",
   "execution_count": 59,
   "id": "a0126078",
   "metadata": {},
   "outputs": [
    {
     "data": {
      "text/html": [
       "17"
      ],
      "text/latex": [
       "17"
      ],
      "text/markdown": [
       "17"
      ],
      "text/plain": [
       "[1] 17"
      ]
     },
     "metadata": {},
     "output_type": "display_data"
    },
    {
     "data": {
      "text/html": [
       "29"
      ],
      "text/latex": [
       "29"
      ],
      "text/markdown": [
       "29"
      ],
      "text/plain": [
       "[1] 29"
      ]
     },
     "metadata": {},
     "output_type": "display_data"
    },
    {
     "data": {
      "text/html": [
       "<style>\n",
       ".list-inline {list-style: none; margin:0; padding: 0}\n",
       ".list-inline>li {display: inline-block}\n",
       ".list-inline>li:not(:last-child)::after {content: \"\\00b7\"; padding: 0 .5ex}\n",
       "</style>\n",
       "<ol class=list-inline><li>'Annelida'</li><li>'Arthropoda'</li><li>'Bryozoa'</li><li>'Chordata'</li><li>'Cnidaria'</li><li>'Ctenophora'</li><li>'Echinodermata'</li><li>'Gastrotricha'</li><li>'Gnathostomulida'</li><li>'Mollusca'</li><li>'Nematoda'</li><li>'Nemertea'</li><li>'Phoronida'</li><li>'Platyhelminthes'</li><li>'Porifera'</li><li>'Rotifera'</li><li>'Xenacoelomorpha'</li></ol>\n"
      ],
      "text/latex": [
       "\\begin{enumerate*}\n",
       "\\item 'Annelida'\n",
       "\\item 'Arthropoda'\n",
       "\\item 'Bryozoa'\n",
       "\\item 'Chordata'\n",
       "\\item 'Cnidaria'\n",
       "\\item 'Ctenophora'\n",
       "\\item 'Echinodermata'\n",
       "\\item 'Gastrotricha'\n",
       "\\item 'Gnathostomulida'\n",
       "\\item 'Mollusca'\n",
       "\\item 'Nematoda'\n",
       "\\item 'Nemertea'\n",
       "\\item 'Phoronida'\n",
       "\\item 'Platyhelminthes'\n",
       "\\item 'Porifera'\n",
       "\\item 'Rotifera'\n",
       "\\item 'Xenacoelomorpha'\n",
       "\\end{enumerate*}\n"
      ],
      "text/markdown": [
       "1. 'Annelida'\n",
       "2. 'Arthropoda'\n",
       "3. 'Bryozoa'\n",
       "4. 'Chordata'\n",
       "5. 'Cnidaria'\n",
       "6. 'Ctenophora'\n",
       "7. 'Echinodermata'\n",
       "8. 'Gastrotricha'\n",
       "9. 'Gnathostomulida'\n",
       "10. 'Mollusca'\n",
       "11. 'Nematoda'\n",
       "12. 'Nemertea'\n",
       "13. 'Phoronida'\n",
       "14. 'Platyhelminthes'\n",
       "15. 'Porifera'\n",
       "16. 'Rotifera'\n",
       "17. 'Xenacoelomorpha'\n",
       "\n",
       "\n"
      ],
      "text/plain": [
       " [1] \"Annelida\"        \"Arthropoda\"      \"Bryozoa\"         \"Chordata\"       \n",
       " [5] \"Cnidaria\"        \"Ctenophora\"      \"Echinodermata\"   \"Gastrotricha\"   \n",
       " [9] \"Gnathostomulida\" \"Mollusca\"        \"Nematoda\"        \"Nemertea\"       \n",
       "[13] \"Phoronida\"       \"Platyhelminthes\" \"Porifera\"        \"Rotifera\"       \n",
       "[17] \"Xenacoelomorpha\""
      ]
     },
     "metadata": {},
     "output_type": "display_data"
    },
    {
     "data": {
      "text/html": [
       "<style>\n",
       ".list-inline {list-style: none; margin:0; padding: 0}\n",
       ".list-inline>li {display: inline-block}\n",
       ".list-inline>li:not(:last-child)::after {content: \"\\00b7\"; padding: 0 .5ex}\n",
       "</style>\n",
       "<ol class=list-inline><li>'Apicomplexa'</li><li>'Ascomycota'</li><li>'Bacillariophyta'</li><li>'Basidiomycota'</li><li>'Blastocladiomycota'</li><li>'Cercozoa'</li><li>'Chlorophyta'</li><li>'Chytridiomycota'</li><li>'Ciliophora'</li><li>'Cryptomycota'</li><li>'Discosea'</li><li>'Endomyxa'</li><li>'Entoprocta'</li><li>'Euglenozoa'</li><li>'Evosea'</li><li>'Foraminifera'</li><li>'Haptophyta'</li><li>'Microsporidia'</li><li>'Mucoromycota'</li><li>'Oomycota'</li><li>'Perkinsozoa'</li><li>'Picozoa'</li><li>'Prasinodermophyta'</li><li>'Preaxostyla'</li><li>'Rhodophyta'</li><li>'Streptophyta'</li><li>'Tardigrada'</li><li>'Tubulinea'</li><li>'Zoopagomycota'</li></ol>\n"
      ],
      "text/latex": [
       "\\begin{enumerate*}\n",
       "\\item 'Apicomplexa'\n",
       "\\item 'Ascomycota'\n",
       "\\item 'Bacillariophyta'\n",
       "\\item 'Basidiomycota'\n",
       "\\item 'Blastocladiomycota'\n",
       "\\item 'Cercozoa'\n",
       "\\item 'Chlorophyta'\n",
       "\\item 'Chytridiomycota'\n",
       "\\item 'Ciliophora'\n",
       "\\item 'Cryptomycota'\n",
       "\\item 'Discosea'\n",
       "\\item 'Endomyxa'\n",
       "\\item 'Entoprocta'\n",
       "\\item 'Euglenozoa'\n",
       "\\item 'Evosea'\n",
       "\\item 'Foraminifera'\n",
       "\\item 'Haptophyta'\n",
       "\\item 'Microsporidia'\n",
       "\\item 'Mucoromycota'\n",
       "\\item 'Oomycota'\n",
       "\\item 'Perkinsozoa'\n",
       "\\item 'Picozoa'\n",
       "\\item 'Prasinodermophyta'\n",
       "\\item 'Preaxostyla'\n",
       "\\item 'Rhodophyta'\n",
       "\\item 'Streptophyta'\n",
       "\\item 'Tardigrada'\n",
       "\\item 'Tubulinea'\n",
       "\\item 'Zoopagomycota'\n",
       "\\end{enumerate*}\n"
      ],
      "text/markdown": [
       "1. 'Apicomplexa'\n",
       "2. 'Ascomycota'\n",
       "3. 'Bacillariophyta'\n",
       "4. 'Basidiomycota'\n",
       "5. 'Blastocladiomycota'\n",
       "6. 'Cercozoa'\n",
       "7. 'Chlorophyta'\n",
       "8. 'Chytridiomycota'\n",
       "9. 'Ciliophora'\n",
       "10. 'Cryptomycota'\n",
       "11. 'Discosea'\n",
       "12. 'Endomyxa'\n",
       "13. 'Entoprocta'\n",
       "14. 'Euglenozoa'\n",
       "15. 'Evosea'\n",
       "16. 'Foraminifera'\n",
       "17. 'Haptophyta'\n",
       "18. 'Microsporidia'\n",
       "19. 'Mucoromycota'\n",
       "20. 'Oomycota'\n",
       "21. 'Perkinsozoa'\n",
       "22. 'Picozoa'\n",
       "23. 'Prasinodermophyta'\n",
       "24. 'Preaxostyla'\n",
       "25. 'Rhodophyta'\n",
       "26. 'Streptophyta'\n",
       "27. 'Tardigrada'\n",
       "28. 'Tubulinea'\n",
       "29. 'Zoopagomycota'\n",
       "\n",
       "\n"
      ],
      "text/plain": [
       " [1] \"Apicomplexa\"        \"Ascomycota\"         \"Bacillariophyta\"   \n",
       " [4] \"Basidiomycota\"      \"Blastocladiomycota\" \"Cercozoa\"          \n",
       " [7] \"Chlorophyta\"        \"Chytridiomycota\"    \"Ciliophora\"        \n",
       "[10] \"Cryptomycota\"       \"Discosea\"           \"Endomyxa\"          \n",
       "[13] \"Entoprocta\"         \"Euglenozoa\"         \"Evosea\"            \n",
       "[16] \"Foraminifera\"       \"Haptophyta\"         \"Microsporidia\"     \n",
       "[19] \"Mucoromycota\"       \"Oomycota\"           \"Perkinsozoa\"       \n",
       "[22] \"Picozoa\"            \"Prasinodermophyta\"  \"Preaxostyla\"       \n",
       "[25] \"Rhodophyta\"         \"Streptophyta\"       \"Tardigrada\"        \n",
       "[28] \"Tubulinea\"          \"Zoopagomycota\"     "
      ]
     },
     "metadata": {},
     "output_type": "display_data"
    },
    {
     "data": {
      "text/plain": [
       "\n",
       "FALSE  TRUE \n",
       "    8    17 "
      ]
     },
     "metadata": {},
     "output_type": "display_data"
    }
   ],
   "source": [
    "length(unique(phylmat$phylum[phylmat$phylum %in% marine$Phylum]))\n",
    "length(unique(phylmat$phylum[!phylmat$phylum %in% marine$Phylum]))\n",
    "\n",
    "unique(phylmat$phylum[phylmat$phylum %in% marine$Phylum])\n",
    "unique(phylmat$phylum[!phylmat$phylum %in% marine$Phylum])\n",
    "\n",
    "table(unique(marine$Phylum) %in% phylmat$phylum)"
   ]
  },
  {
   "cell_type": "code",
   "execution_count": 61,
   "id": "77a091c8",
   "metadata": {},
   "outputs": [
    {
     "data": {
      "text/html": [
       "<strong>png:</strong> 2"
      ],
      "text/latex": [
       "\\textbf{png:} 2"
      ],
      "text/markdown": [
       "**png:** 2"
      ],
      "text/plain": [
       "png \n",
       "  2 "
      ]
     },
     "metadata": {},
     "output_type": "display_data"
    }
   ],
   "source": [
    "newnames <- c('EN0.2A','EN0.2B','EN0.2C','OP0.2A','OP0.2B','OP0.2C','OP1.2A','OP1.2B','OP1.2C','OP5.0A','OP5.0B','OP5.0C','OP8.0A','OP8.0B','OP8.0C')\n",
    "phylmat$correct_sample <- factor(phylmat$correct_sample, levels = newnames)\n",
    "phylmat <- phylmat %>% mutate(type = ifelse(grepl(\"EN\", correct_sample), \"Enclosed\", \"Open\"))\n",
    "\n",
    "p <- phylmat %>% drop_na() %>%\n",
    "ggplot() + geom_col(aes(x=correct_sample, y=perc, fill=origin), color=\"black\") +\n",
    "scale_fill_manual(values = c(\"forestgreen\", \"firebrick\")) +\n",
    "labs(fill = \"\", x=\"\", y=\"#Reads per phyla\", title=\"Phylum\") +\n",
    "facet_wrap(~type, scales=\"free_x\") +\n",
    "theme_classic() %+replace% theme(\n",
    "    title = element_text(size=20, face=\"bold\"),\n",
    "    axis.text.x = element_text(angle = 90, size=18),\n",
    "    axis.text.y = element_text(size=18),\n",
    "    axis.title = element_text(size=20),\n",
    "    strip.text.x = element_text(size = 16, face=\"bold\"),\n",
    "    strip.background = element_blank(),\n",
    "    legend.title = element_text(size=18, face=\"bold\"),\n",
    "    legend.text = element_text(size=16))\n",
    "\n",
    "gt = ggplot_gtable(ggplot_build(p))\n",
    "gt$widths[5] = unit(0.28,\"null\")\n",
    "\n",
    "png(file=\"GenomeDK_Metabar/validation.metabar.phylum.read_mean_perc.png\", width=2300, height=2000, res=300)\n",
    "grid.draw(gt)\n",
    "dev.off()"
   ]
  },
  {
   "cell_type": "code",
   "execution_count": 62,
   "id": "3810f0da",
   "metadata": {},
   "outputs": [
    {
     "name": "stderr",
     "output_type": "stream",
     "text": [
      "\u001b[1m\u001b[22m`summarise()` has grouped output by 'correct_sample'. You can override using the\n",
      "`.groups` argument.\n"
     ]
    },
    {
     "data": {
      "text/html": [
       "<table class=\"dataframe\">\n",
       "<caption>A grouped_df: 30 × 3</caption>\n",
       "<thead>\n",
       "\t<tr><th scope=col>correct_sample</th><th scope=col>origin</th><th scope=col>perc</th></tr>\n",
       "\t<tr><th scope=col>&lt;fct&gt;</th><th scope=col>&lt;chr&gt;</th><th scope=col>&lt;dbl&gt;</th></tr>\n",
       "</thead>\n",
       "<tbody>\n",
       "\t<tr><td>EN0.2A</td><td>Danish</td><td>0.2585448</td></tr>\n",
       "\t<tr><td>EN0.2A</td><td>Exotic</td><td>0.7414552</td></tr>\n",
       "\t<tr><td>EN0.2B</td><td>Danish</td><td>0.2695439</td></tr>\n",
       "\t<tr><td>EN0.2B</td><td>Exotic</td><td>0.7304561</td></tr>\n",
       "\t<tr><td>EN0.2C</td><td>Danish</td><td>0.1326119</td></tr>\n",
       "\t<tr><td>EN0.2C</td><td>Exotic</td><td>0.8673881</td></tr>\n",
       "\t<tr><td>OP0.2A</td><td>Danish</td><td>0.1168476</td></tr>\n",
       "\t<tr><td>OP0.2A</td><td>Exotic</td><td>0.8831524</td></tr>\n",
       "\t<tr><td>OP0.2B</td><td>Danish</td><td>0.2086304</td></tr>\n",
       "\t<tr><td>OP0.2B</td><td>Exotic</td><td>0.7913696</td></tr>\n",
       "\t<tr><td>OP0.2C</td><td>Danish</td><td>0.3854596</td></tr>\n",
       "\t<tr><td>OP0.2C</td><td>Exotic</td><td>0.6145404</td></tr>\n",
       "\t<tr><td>OP1.2A</td><td>Danish</td><td>0.1734892</td></tr>\n",
       "\t<tr><td>OP1.2A</td><td>Exotic</td><td>0.8265108</td></tr>\n",
       "\t<tr><td>OP1.2B</td><td>Danish</td><td>0.2360553</td></tr>\n",
       "\t<tr><td>OP1.2B</td><td>Exotic</td><td>0.7639447</td></tr>\n",
       "\t<tr><td>OP1.2C</td><td>Danish</td><td>0.5041030</td></tr>\n",
       "\t<tr><td>OP1.2C</td><td>Exotic</td><td>0.4958970</td></tr>\n",
       "\t<tr><td>OP5.0A</td><td>Danish</td><td>0.2756965</td></tr>\n",
       "\t<tr><td>OP5.0A</td><td>Exotic</td><td>0.7243035</td></tr>\n",
       "\t<tr><td>OP5.0B</td><td>Danish</td><td>0.2651129</td></tr>\n",
       "\t<tr><td>OP5.0B</td><td>Exotic</td><td>0.7348871</td></tr>\n",
       "\t<tr><td>OP5.0C</td><td>Danish</td><td>0.7787594</td></tr>\n",
       "\t<tr><td>OP5.0C</td><td>Exotic</td><td>0.2212406</td></tr>\n",
       "\t<tr><td>OP8.0A</td><td>Danish</td><td>0.7744589</td></tr>\n",
       "\t<tr><td>OP8.0A</td><td>Exotic</td><td>0.2255411</td></tr>\n",
       "\t<tr><td>OP8.0B</td><td>Danish</td><td>0.1194943</td></tr>\n",
       "\t<tr><td>OP8.0B</td><td>Exotic</td><td>0.8805057</td></tr>\n",
       "\t<tr><td>OP8.0C</td><td>Danish</td><td>0.5083347</td></tr>\n",
       "\t<tr><td>OP8.0C</td><td>Exotic</td><td>0.4916653</td></tr>\n",
       "</tbody>\n",
       "</table>\n"
      ],
      "text/latex": [
       "A grouped\\_df: 30 × 3\n",
       "\\begin{tabular}{lll}\n",
       " correct\\_sample & origin & perc\\\\\n",
       " <fct> & <chr> & <dbl>\\\\\n",
       "\\hline\n",
       "\t EN0.2A & Danish & 0.2585448\\\\\n",
       "\t EN0.2A & Exotic & 0.7414552\\\\\n",
       "\t EN0.2B & Danish & 0.2695439\\\\\n",
       "\t EN0.2B & Exotic & 0.7304561\\\\\n",
       "\t EN0.2C & Danish & 0.1326119\\\\\n",
       "\t EN0.2C & Exotic & 0.8673881\\\\\n",
       "\t OP0.2A & Danish & 0.1168476\\\\\n",
       "\t OP0.2A & Exotic & 0.8831524\\\\\n",
       "\t OP0.2B & Danish & 0.2086304\\\\\n",
       "\t OP0.2B & Exotic & 0.7913696\\\\\n",
       "\t OP0.2C & Danish & 0.3854596\\\\\n",
       "\t OP0.2C & Exotic & 0.6145404\\\\\n",
       "\t OP1.2A & Danish & 0.1734892\\\\\n",
       "\t OP1.2A & Exotic & 0.8265108\\\\\n",
       "\t OP1.2B & Danish & 0.2360553\\\\\n",
       "\t OP1.2B & Exotic & 0.7639447\\\\\n",
       "\t OP1.2C & Danish & 0.5041030\\\\\n",
       "\t OP1.2C & Exotic & 0.4958970\\\\\n",
       "\t OP5.0A & Danish & 0.2756965\\\\\n",
       "\t OP5.0A & Exotic & 0.7243035\\\\\n",
       "\t OP5.0B & Danish & 0.2651129\\\\\n",
       "\t OP5.0B & Exotic & 0.7348871\\\\\n",
       "\t OP5.0C & Danish & 0.7787594\\\\\n",
       "\t OP5.0C & Exotic & 0.2212406\\\\\n",
       "\t OP8.0A & Danish & 0.7744589\\\\\n",
       "\t OP8.0A & Exotic & 0.2255411\\\\\n",
       "\t OP8.0B & Danish & 0.1194943\\\\\n",
       "\t OP8.0B & Exotic & 0.8805057\\\\\n",
       "\t OP8.0C & Danish & 0.5083347\\\\\n",
       "\t OP8.0C & Exotic & 0.4916653\\\\\n",
       "\\end{tabular}\n"
      ],
      "text/markdown": [
       "\n",
       "A grouped_df: 30 × 3\n",
       "\n",
       "| correct_sample &lt;fct&gt; | origin &lt;chr&gt; | perc &lt;dbl&gt; |\n",
       "|---|---|---|\n",
       "| EN0.2A | Danish | 0.2585448 |\n",
       "| EN0.2A | Exotic | 0.7414552 |\n",
       "| EN0.2B | Danish | 0.2695439 |\n",
       "| EN0.2B | Exotic | 0.7304561 |\n",
       "| EN0.2C | Danish | 0.1326119 |\n",
       "| EN0.2C | Exotic | 0.8673881 |\n",
       "| OP0.2A | Danish | 0.1168476 |\n",
       "| OP0.2A | Exotic | 0.8831524 |\n",
       "| OP0.2B | Danish | 0.2086304 |\n",
       "| OP0.2B | Exotic | 0.7913696 |\n",
       "| OP0.2C | Danish | 0.3854596 |\n",
       "| OP0.2C | Exotic | 0.6145404 |\n",
       "| OP1.2A | Danish | 0.1734892 |\n",
       "| OP1.2A | Exotic | 0.8265108 |\n",
       "| OP1.2B | Danish | 0.2360553 |\n",
       "| OP1.2B | Exotic | 0.7639447 |\n",
       "| OP1.2C | Danish | 0.5041030 |\n",
       "| OP1.2C | Exotic | 0.4958970 |\n",
       "| OP5.0A | Danish | 0.2756965 |\n",
       "| OP5.0A | Exotic | 0.7243035 |\n",
       "| OP5.0B | Danish | 0.2651129 |\n",
       "| OP5.0B | Exotic | 0.7348871 |\n",
       "| OP5.0C | Danish | 0.7787594 |\n",
       "| OP5.0C | Exotic | 0.2212406 |\n",
       "| OP8.0A | Danish | 0.7744589 |\n",
       "| OP8.0A | Exotic | 0.2255411 |\n",
       "| OP8.0B | Danish | 0.1194943 |\n",
       "| OP8.0B | Exotic | 0.8805057 |\n",
       "| OP8.0C | Danish | 0.5083347 |\n",
       "| OP8.0C | Exotic | 0.4916653 |\n",
       "\n"
      ],
      "text/plain": [
       "   correct_sample origin perc     \n",
       "1  EN0.2A         Danish 0.2585448\n",
       "2  EN0.2A         Exotic 0.7414552\n",
       "3  EN0.2B         Danish 0.2695439\n",
       "4  EN0.2B         Exotic 0.7304561\n",
       "5  EN0.2C         Danish 0.1326119\n",
       "6  EN0.2C         Exotic 0.8673881\n",
       "7  OP0.2A         Danish 0.1168476\n",
       "8  OP0.2A         Exotic 0.8831524\n",
       "9  OP0.2B         Danish 0.2086304\n",
       "10 OP0.2B         Exotic 0.7913696\n",
       "11 OP0.2C         Danish 0.3854596\n",
       "12 OP0.2C         Exotic 0.6145404\n",
       "13 OP1.2A         Danish 0.1734892\n",
       "14 OP1.2A         Exotic 0.8265108\n",
       "15 OP1.2B         Danish 0.2360553\n",
       "16 OP1.2B         Exotic 0.7639447\n",
       "17 OP1.2C         Danish 0.5041030\n",
       "18 OP1.2C         Exotic 0.4958970\n",
       "19 OP5.0A         Danish 0.2756965\n",
       "20 OP5.0A         Exotic 0.7243035\n",
       "21 OP5.0B         Danish 0.2651129\n",
       "22 OP5.0B         Exotic 0.7348871\n",
       "23 OP5.0C         Danish 0.7787594\n",
       "24 OP5.0C         Exotic 0.2212406\n",
       "25 OP8.0A         Danish 0.7744589\n",
       "26 OP8.0A         Exotic 0.2255411\n",
       "27 OP8.0B         Danish 0.1194943\n",
       "28 OP8.0B         Exotic 0.8805057\n",
       "29 OP8.0C         Danish 0.5083347\n",
       "30 OP8.0C         Exotic 0.4916653"
      ]
     },
     "metadata": {},
     "output_type": "display_data"
    }
   ],
   "source": [
    "val_perc_phyla <- phylmat %>% select(correct_sample, origin, perc) %>%\n",
    "    group_by(correct_sample,origin) %>% summarise(perc = sum(perc))\n",
    "write.table(val_perc_phyla, \"validation.metabar.phyla_perc.tsv\", quote=F, row.names=F, sep=\"\\t\")\n",
    "val_perc_phyla"
   ]
  },
  {
   "cell_type": "markdown",
   "id": "42098192",
   "metadata": {},
   "source": [
    "**Metazoa**"
   ]
  },
  {
   "cell_type": "code",
   "execution_count": 63,
   "id": "f0126062",
   "metadata": {},
   "outputs": [
    {
     "name": "stderr",
     "output_type": "stream",
     "text": [
      "\u001b[1m\u001b[22m`summarise()` has grouped output by 'correct_sample'. You can override using the\n",
      "`.groups` argument.\n"
     ]
    }
   ],
   "source": [
    "metazoamat <- dataset %>% filter(kingdom == \"Metazoa\") %>%\n",
    "    select(correct_sample, mean, phylum) %>% drop_na(phylum) %>%\n",
    "    group_by(correct_sample, phylum) %>% summarise(mean = sum(mean)) %>% ungroup() %>%\n",
    "    group_by(correct_sample) %>% mutate(perc = mean/sum(mean)) %>% ungroup() %>%\n",
    "    mutate(origin = ifelse(phylum %in% marine$Phylum, \"Danish\", \"Exotic\"))"
   ]
  },
  {
   "cell_type": "code",
   "execution_count": 64,
   "id": "197c748c",
   "metadata": {},
   "outputs": [
    {
     "data": {
      "text/html": [
       "17"
      ],
      "text/latex": [
       "17"
      ],
      "text/markdown": [
       "17"
      ],
      "text/plain": [
       "[1] 17"
      ]
     },
     "metadata": {},
     "output_type": "display_data"
    },
    {
     "data": {
      "text/html": [
       "2"
      ],
      "text/latex": [
       "2"
      ],
      "text/markdown": [
       "2"
      ],
      "text/plain": [
       "[1] 2"
      ]
     },
     "metadata": {},
     "output_type": "display_data"
    },
    {
     "data": {
      "text/html": [
       "<style>\n",
       ".list-inline {list-style: none; margin:0; padding: 0}\n",
       ".list-inline>li {display: inline-block}\n",
       ".list-inline>li:not(:last-child)::after {content: \"\\00b7\"; padding: 0 .5ex}\n",
       "</style>\n",
       "<ol class=list-inline><li>'Annelida'</li><li>'Arthropoda'</li><li>'Bryozoa'</li><li>'Chordata'</li><li>'Cnidaria'</li><li>'Ctenophora'</li><li>'Echinodermata'</li><li>'Gastrotricha'</li><li>'Gnathostomulida'</li><li>'Mollusca'</li><li>'Nematoda'</li><li>'Nemertea'</li><li>'Phoronida'</li><li>'Platyhelminthes'</li><li>'Porifera'</li><li>'Rotifera'</li><li>'Xenacoelomorpha'</li></ol>\n"
      ],
      "text/latex": [
       "\\begin{enumerate*}\n",
       "\\item 'Annelida'\n",
       "\\item 'Arthropoda'\n",
       "\\item 'Bryozoa'\n",
       "\\item 'Chordata'\n",
       "\\item 'Cnidaria'\n",
       "\\item 'Ctenophora'\n",
       "\\item 'Echinodermata'\n",
       "\\item 'Gastrotricha'\n",
       "\\item 'Gnathostomulida'\n",
       "\\item 'Mollusca'\n",
       "\\item 'Nematoda'\n",
       "\\item 'Nemertea'\n",
       "\\item 'Phoronida'\n",
       "\\item 'Platyhelminthes'\n",
       "\\item 'Porifera'\n",
       "\\item 'Rotifera'\n",
       "\\item 'Xenacoelomorpha'\n",
       "\\end{enumerate*}\n"
      ],
      "text/markdown": [
       "1. 'Annelida'\n",
       "2. 'Arthropoda'\n",
       "3. 'Bryozoa'\n",
       "4. 'Chordata'\n",
       "5. 'Cnidaria'\n",
       "6. 'Ctenophora'\n",
       "7. 'Echinodermata'\n",
       "8. 'Gastrotricha'\n",
       "9. 'Gnathostomulida'\n",
       "10. 'Mollusca'\n",
       "11. 'Nematoda'\n",
       "12. 'Nemertea'\n",
       "13. 'Phoronida'\n",
       "14. 'Platyhelminthes'\n",
       "15. 'Porifera'\n",
       "16. 'Rotifera'\n",
       "17. 'Xenacoelomorpha'\n",
       "\n",
       "\n"
      ],
      "text/plain": [
       " [1] \"Annelida\"        \"Arthropoda\"      \"Bryozoa\"         \"Chordata\"       \n",
       " [5] \"Cnidaria\"        \"Ctenophora\"      \"Echinodermata\"   \"Gastrotricha\"   \n",
       " [9] \"Gnathostomulida\" \"Mollusca\"        \"Nematoda\"        \"Nemertea\"       \n",
       "[13] \"Phoronida\"       \"Platyhelminthes\" \"Porifera\"        \"Rotifera\"       \n",
       "[17] \"Xenacoelomorpha\""
      ]
     },
     "metadata": {},
     "output_type": "display_data"
    },
    {
     "data": {
      "text/html": [
       "<style>\n",
       ".list-inline {list-style: none; margin:0; padding: 0}\n",
       ".list-inline>li {display: inline-block}\n",
       ".list-inline>li:not(:last-child)::after {content: \"\\00b7\"; padding: 0 .5ex}\n",
       "</style>\n",
       "<ol class=list-inline><li>'Entoprocta'</li><li>'Tardigrada'</li></ol>\n"
      ],
      "text/latex": [
       "\\begin{enumerate*}\n",
       "\\item 'Entoprocta'\n",
       "\\item 'Tardigrada'\n",
       "\\end{enumerate*}\n"
      ],
      "text/markdown": [
       "1. 'Entoprocta'\n",
       "2. 'Tardigrada'\n",
       "\n",
       "\n"
      ],
      "text/plain": [
       "[1] \"Entoprocta\" \"Tardigrada\""
      ]
     },
     "metadata": {},
     "output_type": "display_data"
    },
    {
     "data": {
      "text/plain": [
       "\n",
       "FALSE  TRUE \n",
       "    8    17 "
      ]
     },
     "metadata": {},
     "output_type": "display_data"
    }
   ],
   "source": [
    "length(unique(metazoamat$phylum[metazoamat$phylum %in% marine$Phylum]))\n",
    "length(unique(metazoamat$phylum[!metazoamat$phylum %in% marine$Phylum]))\n",
    "\n",
    "unique(metazoamat$phylum[metazoamat$phylum %in% marine$Phylum])\n",
    "unique(metazoamat$phylum[!metazoamat$phylum %in% marine$Phylum])\n",
    "\n",
    "table(unique(marine$Phylum) %in% phylmat$phylum)"
   ]
  },
  {
   "cell_type": "code",
   "execution_count": 65,
   "id": "a7393e64",
   "metadata": {},
   "outputs": [
    {
     "data": {
      "text/html": [
       "<strong>png:</strong> 2"
      ],
      "text/latex": [
       "\\textbf{png:} 2"
      ],
      "text/markdown": [
       "**png:** 2"
      ],
      "text/plain": [
       "png \n",
       "  2 "
      ]
     },
     "metadata": {},
     "output_type": "display_data"
    }
   ],
   "source": [
    "newnames <- c('EN0.2A','EN0.2B','EN0.2C','OP0.2A','OP0.2B','OP0.2C','OP1.2A','OP1.2B','OP1.2C','OP5.0A','OP5.0B','OP5.0C','OP8.0A','OP8.0B','OP8.0C')\n",
    "metazoamat$correct_sample <- factor(metazoamat$correct_sample, levels = newnames)\n",
    "metazoamat <- metazoamat %>% mutate(type = ifelse(grepl(\"EN\", correct_sample), \"Enclosed\", \"Open\"))\n",
    "\n",
    "p <- metazoamat %>% drop_na() %>%\n",
    "ggplot() + geom_col(aes(x=correct_sample, y=perc, fill=origin), color=\"black\") +\n",
    "scale_fill_manual(values = c(\"forestgreen\", \"firebrick\")) +\n",
    "labs(fill = \"\", x=\"\", y=\"#Reads per phyla\", title=\"Metazoa\") +\n",
    "facet_wrap(~type, scales=\"free_x\") +\n",
    "theme_classic() %+replace% theme(\n",
    "    title = element_text(size=20, face=\"bold\"),\n",
    "    axis.text.x = element_text(angle = 90, size=18),\n",
    "    axis.text.y = element_text(size=18),\n",
    "    axis.title = element_text(size=20),\n",
    "    strip.text.x = element_text(size = 16, face=\"bold\"),\n",
    "    strip.background = element_blank(),\n",
    "    legend.title = element_text(size=18, face=\"bold\"),\n",
    "    legend.text = element_text(size=16))\n",
    "\n",
    "gt = ggplot_gtable(ggplot_build(p))\n",
    "gt$widths[5] = unit(0.28, \"null\")\n",
    "\n",
    "png(file=\"GenomeDK_Metabar/validation.metabar.metazoa.read_mean_perc.png\", width=2300, height=2000, res=300)\n",
    "grid.draw(gt)\n",
    "dev.off()"
   ]
  },
  {
   "cell_type": "code",
   "execution_count": 66,
   "id": "6fa10f48",
   "metadata": {},
   "outputs": [
    {
     "name": "stderr",
     "output_type": "stream",
     "text": [
      "\u001b[1m\u001b[22m`summarise()` has grouped output by 'correct_sample'. You can override using the\n",
      "`.groups` argument.\n"
     ]
    },
    {
     "data": {
      "text/html": [
       "<table class=\"dataframe\">\n",
       "<caption>A grouped_df: 30 × 3</caption>\n",
       "<thead>\n",
       "\t<tr><th scope=col>correct_sample</th><th scope=col>origin</th><th scope=col>perc</th></tr>\n",
       "\t<tr><th scope=col>&lt;fct&gt;</th><th scope=col>&lt;chr&gt;</th><th scope=col>&lt;dbl&gt;</th></tr>\n",
       "</thead>\n",
       "<tbody>\n",
       "\t<tr><td>EN0.2A</td><td>Danish</td><td>9.972116e-01</td></tr>\n",
       "\t<tr><td>EN0.2A</td><td>Exotic</td><td>2.788352e-03</td></tr>\n",
       "\t<tr><td>EN0.2B</td><td>Danish</td><td>9.988592e-01</td></tr>\n",
       "\t<tr><td>EN0.2B</td><td>Exotic</td><td>1.140805e-03</td></tr>\n",
       "\t<tr><td>EN0.2C</td><td>Danish</td><td>9.991932e-01</td></tr>\n",
       "\t<tr><td>EN0.2C</td><td>Exotic</td><td>8.067894e-04</td></tr>\n",
       "\t<tr><td>OP0.2A</td><td>Danish</td><td>9.971967e-01</td></tr>\n",
       "\t<tr><td>OP0.2A</td><td>Exotic</td><td>2.803326e-03</td></tr>\n",
       "\t<tr><td>OP0.2B</td><td>Danish</td><td>9.956435e-01</td></tr>\n",
       "\t<tr><td>OP0.2B</td><td>Exotic</td><td>4.356528e-03</td></tr>\n",
       "\t<tr><td>OP0.2C</td><td>Danish</td><td>9.986633e-01</td></tr>\n",
       "\t<tr><td>OP0.2C</td><td>Exotic</td><td>1.336669e-03</td></tr>\n",
       "\t<tr><td>OP1.2A</td><td>Danish</td><td>9.962156e-01</td></tr>\n",
       "\t<tr><td>OP1.2A</td><td>Exotic</td><td>3.784368e-03</td></tr>\n",
       "\t<tr><td>OP1.2B</td><td>Danish</td><td>9.965741e-01</td></tr>\n",
       "\t<tr><td>OP1.2B</td><td>Exotic</td><td>3.425911e-03</td></tr>\n",
       "\t<tr><td>OP1.2C</td><td>Danish</td><td>9.996887e-01</td></tr>\n",
       "\t<tr><td>OP1.2C</td><td>Exotic</td><td>3.113042e-04</td></tr>\n",
       "\t<tr><td>OP5.0A</td><td>Danish</td><td>9.990016e-01</td></tr>\n",
       "\t<tr><td>OP5.0A</td><td>Exotic</td><td>9.984013e-04</td></tr>\n",
       "\t<tr><td>OP5.0B</td><td>Danish</td><td>9.991305e-01</td></tr>\n",
       "\t<tr><td>OP5.0B</td><td>Exotic</td><td>8.695368e-04</td></tr>\n",
       "\t<tr><td>OP5.0C</td><td>Danish</td><td>9.999628e-01</td></tr>\n",
       "\t<tr><td>OP5.0C</td><td>Exotic</td><td>3.722621e-05</td></tr>\n",
       "\t<tr><td>OP8.0A</td><td>Danish</td><td>9.995673e-01</td></tr>\n",
       "\t<tr><td>OP8.0A</td><td>Exotic</td><td>4.327338e-04</td></tr>\n",
       "\t<tr><td>OP8.0B</td><td>Danish</td><td>9.994149e-01</td></tr>\n",
       "\t<tr><td>OP8.0B</td><td>Exotic</td><td>5.851250e-04</td></tr>\n",
       "\t<tr><td>OP8.0C</td><td>Danish</td><td>9.997938e-01</td></tr>\n",
       "\t<tr><td>OP8.0C</td><td>Exotic</td><td>2.061981e-04</td></tr>\n",
       "</tbody>\n",
       "</table>\n"
      ],
      "text/latex": [
       "A grouped\\_df: 30 × 3\n",
       "\\begin{tabular}{lll}\n",
       " correct\\_sample & origin & perc\\\\\n",
       " <fct> & <chr> & <dbl>\\\\\n",
       "\\hline\n",
       "\t EN0.2A & Danish & 9.972116e-01\\\\\n",
       "\t EN0.2A & Exotic & 2.788352e-03\\\\\n",
       "\t EN0.2B & Danish & 9.988592e-01\\\\\n",
       "\t EN0.2B & Exotic & 1.140805e-03\\\\\n",
       "\t EN0.2C & Danish & 9.991932e-01\\\\\n",
       "\t EN0.2C & Exotic & 8.067894e-04\\\\\n",
       "\t OP0.2A & Danish & 9.971967e-01\\\\\n",
       "\t OP0.2A & Exotic & 2.803326e-03\\\\\n",
       "\t OP0.2B & Danish & 9.956435e-01\\\\\n",
       "\t OP0.2B & Exotic & 4.356528e-03\\\\\n",
       "\t OP0.2C & Danish & 9.986633e-01\\\\\n",
       "\t OP0.2C & Exotic & 1.336669e-03\\\\\n",
       "\t OP1.2A & Danish & 9.962156e-01\\\\\n",
       "\t OP1.2A & Exotic & 3.784368e-03\\\\\n",
       "\t OP1.2B & Danish & 9.965741e-01\\\\\n",
       "\t OP1.2B & Exotic & 3.425911e-03\\\\\n",
       "\t OP1.2C & Danish & 9.996887e-01\\\\\n",
       "\t OP1.2C & Exotic & 3.113042e-04\\\\\n",
       "\t OP5.0A & Danish & 9.990016e-01\\\\\n",
       "\t OP5.0A & Exotic & 9.984013e-04\\\\\n",
       "\t OP5.0B & Danish & 9.991305e-01\\\\\n",
       "\t OP5.0B & Exotic & 8.695368e-04\\\\\n",
       "\t OP5.0C & Danish & 9.999628e-01\\\\\n",
       "\t OP5.0C & Exotic & 3.722621e-05\\\\\n",
       "\t OP8.0A & Danish & 9.995673e-01\\\\\n",
       "\t OP8.0A & Exotic & 4.327338e-04\\\\\n",
       "\t OP8.0B & Danish & 9.994149e-01\\\\\n",
       "\t OP8.0B & Exotic & 5.851250e-04\\\\\n",
       "\t OP8.0C & Danish & 9.997938e-01\\\\\n",
       "\t OP8.0C & Exotic & 2.061981e-04\\\\\n",
       "\\end{tabular}\n"
      ],
      "text/markdown": [
       "\n",
       "A grouped_df: 30 × 3\n",
       "\n",
       "| correct_sample &lt;fct&gt; | origin &lt;chr&gt; | perc &lt;dbl&gt; |\n",
       "|---|---|---|\n",
       "| EN0.2A | Danish | 9.972116e-01 |\n",
       "| EN0.2A | Exotic | 2.788352e-03 |\n",
       "| EN0.2B | Danish | 9.988592e-01 |\n",
       "| EN0.2B | Exotic | 1.140805e-03 |\n",
       "| EN0.2C | Danish | 9.991932e-01 |\n",
       "| EN0.2C | Exotic | 8.067894e-04 |\n",
       "| OP0.2A | Danish | 9.971967e-01 |\n",
       "| OP0.2A | Exotic | 2.803326e-03 |\n",
       "| OP0.2B | Danish | 9.956435e-01 |\n",
       "| OP0.2B | Exotic | 4.356528e-03 |\n",
       "| OP0.2C | Danish | 9.986633e-01 |\n",
       "| OP0.2C | Exotic | 1.336669e-03 |\n",
       "| OP1.2A | Danish | 9.962156e-01 |\n",
       "| OP1.2A | Exotic | 3.784368e-03 |\n",
       "| OP1.2B | Danish | 9.965741e-01 |\n",
       "| OP1.2B | Exotic | 3.425911e-03 |\n",
       "| OP1.2C | Danish | 9.996887e-01 |\n",
       "| OP1.2C | Exotic | 3.113042e-04 |\n",
       "| OP5.0A | Danish | 9.990016e-01 |\n",
       "| OP5.0A | Exotic | 9.984013e-04 |\n",
       "| OP5.0B | Danish | 9.991305e-01 |\n",
       "| OP5.0B | Exotic | 8.695368e-04 |\n",
       "| OP5.0C | Danish | 9.999628e-01 |\n",
       "| OP5.0C | Exotic | 3.722621e-05 |\n",
       "| OP8.0A | Danish | 9.995673e-01 |\n",
       "| OP8.0A | Exotic | 4.327338e-04 |\n",
       "| OP8.0B | Danish | 9.994149e-01 |\n",
       "| OP8.0B | Exotic | 5.851250e-04 |\n",
       "| OP8.0C | Danish | 9.997938e-01 |\n",
       "| OP8.0C | Exotic | 2.061981e-04 |\n",
       "\n"
      ],
      "text/plain": [
       "   correct_sample origin perc        \n",
       "1  EN0.2A         Danish 9.972116e-01\n",
       "2  EN0.2A         Exotic 2.788352e-03\n",
       "3  EN0.2B         Danish 9.988592e-01\n",
       "4  EN0.2B         Exotic 1.140805e-03\n",
       "5  EN0.2C         Danish 9.991932e-01\n",
       "6  EN0.2C         Exotic 8.067894e-04\n",
       "7  OP0.2A         Danish 9.971967e-01\n",
       "8  OP0.2A         Exotic 2.803326e-03\n",
       "9  OP0.2B         Danish 9.956435e-01\n",
       "10 OP0.2B         Exotic 4.356528e-03\n",
       "11 OP0.2C         Danish 9.986633e-01\n",
       "12 OP0.2C         Exotic 1.336669e-03\n",
       "13 OP1.2A         Danish 9.962156e-01\n",
       "14 OP1.2A         Exotic 3.784368e-03\n",
       "15 OP1.2B         Danish 9.965741e-01\n",
       "16 OP1.2B         Exotic 3.425911e-03\n",
       "17 OP1.2C         Danish 9.996887e-01\n",
       "18 OP1.2C         Exotic 3.113042e-04\n",
       "19 OP5.0A         Danish 9.990016e-01\n",
       "20 OP5.0A         Exotic 9.984013e-04\n",
       "21 OP5.0B         Danish 9.991305e-01\n",
       "22 OP5.0B         Exotic 8.695368e-04\n",
       "23 OP5.0C         Danish 9.999628e-01\n",
       "24 OP5.0C         Exotic 3.722621e-05\n",
       "25 OP8.0A         Danish 9.995673e-01\n",
       "26 OP8.0A         Exotic 4.327338e-04\n",
       "27 OP8.0B         Danish 9.994149e-01\n",
       "28 OP8.0B         Exotic 5.851250e-04\n",
       "29 OP8.0C         Danish 9.997938e-01\n",
       "30 OP8.0C         Exotic 2.061981e-04"
      ]
     },
     "metadata": {},
     "output_type": "display_data"
    }
   ],
   "source": [
    "val_perc_metazoa <- metazoamat %>% select(correct_sample, origin, perc) %>%\n",
    "    group_by(correct_sample,origin) %>% summarise(perc = sum(perc))\n",
    "write.table(val_perc_metazoa, \"validation.metabar.metazoa_perc.tsv\", quote=F, row.names=F, sep=\"\\t\")\n",
    "val_perc_metazoa"
   ]
  }
 ],
 "metadata": {
  "kernelspec": {
   "display_name": "R",
   "language": "R",
   "name": "ir"
  },
  "language_info": {
   "codemirror_mode": "r",
   "file_extension": ".r",
   "mimetype": "text/x-r-source",
   "name": "R",
   "pygments_lexer": "r",
   "version": "4.2.2"
  }
 },
 "nbformat": 4,
 "nbformat_minor": 5
}
