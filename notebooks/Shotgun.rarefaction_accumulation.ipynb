{
 "cells": [
  {
   "cell_type": "markdown",
   "id": "9029a805",
   "metadata": {},
   "source": [
    "# Shotgun"
   ]
  },
  {
   "cell_type": "code",
   "execution_count": 3,
   "id": "da752e96",
   "metadata": {},
   "outputs": [],
   "source": [
    "# Libraries\n",
    "library(tidyverse)\n",
    "library(ROBITools)\n",
    "library(reshape2)\n",
    "library(vegan)\n",
    "library(ggalt)\n",
    "library(ggpubr)\n",
    "library(ggrepel)"
   ]
  },
  {
   "cell_type": "code",
   "execution_count": 4,
   "id": "26735c23",
   "metadata": {},
   "outputs": [],
   "source": [
    "# Datasets\n",
    "shotgun_taxa_count <- read.delim(\"GenomeDK_LCA/counts.lca.rarefy.tsv\")\n",
    "shotgun_eu <- shotgun_taxa_count %>% filter(superkingdom == \"Eukaryota\")"
   ]
  },
  {
   "cell_type": "code",
   "execution_count": null,
   "id": "f631d4a7",
   "metadata": {},
   "outputs": [],
   "source": [
    "col <- c(rep(\"#F8766D\",3), rep(\"#B79F00\",3), rep(\"#00BF7D\",3), rep(\"#00B0F6\",3), rep(\"#E76BF3\",3))"
   ]
  },
  {
   "cell_type": "markdown",
   "id": "961a600b",
   "metadata": {},
   "source": [
    "**Rarefaction**"
   ]
  },
  {
   "cell_type": "code",
   "execution_count": null,
   "id": "df7bc173",
   "metadata": {},
   "outputs": [],
   "source": [
    "# All identified taxa rarecurve\n",
    "sc <- shotgun_taxa_count[,c(9:23)]\n",
    "sc <- t(sc)\n",
    "colnames(sc) <- paste(\"tax\", 1:ncol(sc), sep=\"\")"
   ]
  },
  {
   "cell_type": "code",
   "execution_count": null,
   "id": "79466672",
   "metadata": {},
   "outputs": [],
   "source": [
    "# This one does not make sense if we do not trust the identifications\n",
    "png(\"GenomeDK_LCA/rarefied_curve.all.png\", width=2000, height=2000, res=300)\n",
    "rarecurve(sc, step = 20, col = col, cex = 0.6)\n",
    "dev.off()"
   ]
  },
  {
   "cell_type": "code",
   "execution_count": null,
   "id": "3dbfd8cc",
   "metadata": {},
   "outputs": [],
   "source": [
    "# Phylum rarecurve\n",
    "sc_phyl <- shotgun_taxa_count[,c(3,9:23)] %>% melt() %>% group_by(phylum, variable) %>%\n",
    "summarise(value = sum(value)) %>% drop_na(phylum) %>% dcast(variable~phylum)\n",
    "rownames(sc_phyl) <- sc_phyl$variable\n",
    "sc_phyl <- sc_phyl[,-1]\n",
    "sc_phyl <- as.matrix(sc_phyl)"
   ]
  },
  {
   "cell_type": "code",
   "execution_count": null,
   "id": "19e3502f",
   "metadata": {},
   "outputs": [],
   "source": [
    "png(\"GenomeDK_LCA/rarefied_curve.phyla_noNA.png\", width=2000, height=2000, res=300)\n",
    "rarecurve(sc_phyl, step = 20, col = col, cex = 0.6, ylab=\"Phylum\")\n",
    "dev.off()"
   ]
  },
  {
   "cell_type": "markdown",
   "id": "a15c1f9a",
   "metadata": {},
   "source": [
    "**Accumulation**"
   ]
  },
  {
   "cell_type": "code",
   "execution_count": null,
   "id": "2c1260d6",
   "metadata": {},
   "outputs": [],
   "source": [
    "# Phylum\n",
    "accum <- specaccum(sc_phyl, method = \"exact\", permutations = 100, conditioned =TRUE, gamma = \"jack1\", w = NULL)\n",
    "accum2 <- specaccum(sc_phyl, \"random\")\n",
    "png(\"GenomeDK_LCA/accum_curve.phyla_noNA.png\", width=2000, height=2000, res=300)\n",
    "plot(accum, ci.type=\"poly\", col=\"black\", lwd=2, ci.lty=0, ci.col=\"royalblue\",xlab=\"No. of samples\",ylab=\"No. of Phyla\",main=\"Shotgun\")\n",
    "boxplot(accum2, col=\"gray\", add=TRUE, pch=\"+\")\n",
    "dev.off()"
   ]
  }
 ],
 "metadata": {
  "kernelspec": {
   "display_name": "R",
   "language": "R",
   "name": "ir"
  },
  "language_info": {
   "codemirror_mode": "r",
   "file_extension": ".r",
   "mimetype": "text/x-r-source",
   "name": "R",
   "pygments_lexer": "r",
   "version": "4.2.2"
  }
 },
 "nbformat": 4,
 "nbformat_minor": 5
}
