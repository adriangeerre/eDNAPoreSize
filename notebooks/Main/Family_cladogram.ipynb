{
 "cells": [
  {
   "cell_type": "code",
   "execution_count": null,
   "metadata": {
    "vscode": {
     "languageId": "r"
    }
   },
   "outputs": [],
   "source": [
    "# Libraries\n",
    "library(tidyverse)\n",
    "library(ggtreeExtra)\n",
    "library(ggtree)\n",
    "library(treeio)\n",
    "library(tidytree)\n",
    "library(ggstar)\n",
    "library(ggplot2)\n",
    "library(ggnewscale)\n",
    "library(stringr)"
   ]
  },
  {
   "cell_type": "code",
   "execution_count": 199,
   "metadata": {
    "vscode": {
     "languageId": "r"
    }
   },
   "outputs": [],
   "source": [
    "# Load data\n",
    "#----------\n",
    "\n",
    "## Orthofinder Tree\n",
    "ogtree <- read.tree(\"eDNA_Family/eDNA_Family.nwk\")\n",
    "\n",
    "## Sharedness\n",
    "comparison <- read.table(\"family_comparison_table.eukaryota.tsv\", header=TRUE)\n",
    "colnames(comparison)[1] <- \"label\""
   ]
  },
  {
   "cell_type": "code",
   "execution_count": 200,
   "metadata": {
    "vscode": {
     "languageId": "r"
    }
   },
   "outputs": [],
   "source": [
    "# Color palette\n",
    "tree_data <- as_tibble(ogtree)\n",
    "\n",
    "color_data <- tree_data %>%\n",
    "filter(grepl(\"^k__\", label)) %>%\n",
    "select(node, label)\n",
    "\n",
    "# General color\n",
    "color_data$color <- \"Undefined\"\n",
    "\n",
    "# Specific colors\n",
    "color_data$color[color_data$label == \"k__Metazoa\"] <- \"Metazoa\"\n",
    "color_data$color[color_data$label == \"k__Viridiplantae\"] <- \"Viridiplantae\"\n",
    "color_data$color[color_data$label == \"k__Fungi\"] <- \"Fungi\"\n",
    "\n",
    "# Adjust label\n",
    "color_data$label <- str_replace(color_data$label, \"k__\",\"\")\n",
    "color_data$label <- str_replace(color_data$label, \"__P\\\\+\",\"\")\n",
    "color_data$label <- str_replace(color_data$label, \"__C\\\\+\",\"\")\n",
    "color_data$label <- str_replace(color_data$label, \"__F\\\\+\",\"\")\n",
    "color_data$label <- str_replace(color_data$label, \"__O\\\\+\",\"\")"
   ]
  },
  {
   "cell_type": "code",
   "execution_count": 201,
   "metadata": {
    "vscode": {
     "languageId": "r"
    }
   },
   "outputs": [],
   "source": [
    "# Correct data\n",
    "#-------------\n",
    "\n",
    "# Tip labels\n",
    "ogtree$tip.label <- str_replace(ogtree$tip.label,\"f__\",\"\")\n",
    "ogtree$tip.label <- str_replace(ogtree$tip.label,\"Astasiidae\",\"Astasiaceae\")\n",
    "ogtree$tip.label <- str_replace(ogtree$tip.label,\"Heligmosomidae\",\"Heligmosomatidae\")"
   ]
  },
  {
   "cell_type": "code",
   "execution_count": 35,
   "metadata": {
    "vscode": {
     "languageId": "r"
    }
   },
   "outputs": [
    {
     "data": {
      "text/html": [
       "<style>\n",
       ".list-inline {list-style: none; margin:0; padding: 0}\n",
       ".list-inline>li {display: inline-block}\n",
       ".list-inline>li:not(:last-child)::after {content: \"\\00b7\"; padding: 0 .5ex}\n",
       "</style>\n",
       "<ol class=list-inline><li>'Archaeobalanidae'</li><li>'Developea'</li><li>'Zoothamniidae'</li></ol>\n"
      ],
      "text/latex": [
       "\\begin{enumerate*}\n",
       "\\item 'Archaeobalanidae'\n",
       "\\item 'Developea'\n",
       "\\item 'Zoothamniidae'\n",
       "\\end{enumerate*}\n"
      ],
      "text/markdown": [
       "1. 'Archaeobalanidae'\n",
       "2. 'Developea'\n",
       "3. 'Zoothamniidae'\n",
       "\n",
       "\n"
      ],
      "text/plain": [
       "[1] \"Archaeobalanidae\" \"Developea\"        \"Zoothamniidae\"   "
      ]
     },
     "metadata": {},
     "output_type": "display_data"
    }
   ],
   "source": [
    "# Not included families\n",
    "#missing <-c(\"Amphidiniaceae\",\"Botrydiopsidaceae\",\"Ciliophryaceae\",\"Spiromastigoidaceae\",\"Lingulodiniaceae\",\"Ophirinidae\",\"Parodontellaceae\",\"Podolampadaceae\",\"Sericomyxidae\")\n",
    "#misslabeled <- comparison$family[!comparison$family %in% ogtree$tip.label]\n",
    "#misslabeled[!misslabeled %in% missing]"
   ]
  },
  {
   "cell_type": "code",
   "execution_count": 202,
   "metadata": {
    "vscode": {
     "languageId": "r"
    }
   },
   "outputs": [],
   "source": [
    "# Reduce edge length\n",
    "ogtree$edge.length[ogtree$edge[,2] <= Ntip(ogtree)] <- ogtree$edge.length[ogtree$edge[,2] <= Ntip(ogtree)] * 0.5"
   ]
  },
  {
   "cell_type": "code",
   "execution_count": 203,
   "metadata": {
    "vscode": {
     "languageId": "r"
    }
   },
   "outputs": [
    {
     "data": {
      "text/plain": [
       "\n",
       "TRUE \n",
       "1142 "
      ]
     },
     "metadata": {},
     "output_type": "display_data"
    }
   ],
   "source": [
    "# Heatmap data\n",
    "heatdata <- comparison[comparison$label %in% ogtree$tip.label,]\n",
    "heatdata$shared <- ifelse(heatdata$belongin == \"shared\", \"Present\", \"Absent\")\n",
    "heatdata$shotgun <- ifelse(heatdata$belongin == \"shotgun\", \"Present\", \"Absent\")\n",
    "heatdata$metabarcoding <- ifelse(heatdata$belongin == \"metabarcoding\", \"Present\", \"Absent\")\n",
    "heatdata <- heatdata[,c(-4)]\n",
    "\n",
    "# Order\n",
    "heatdata <- heatdata[match(ogtree$tip.label, heatdata$label),]\n",
    "\n",
    "# Heatdata\n",
    "rownames(heatdata) <- ogtree$tip.label\n",
    "table(rownames(heatdata) == heatdata$label)"
   ]
  },
  {
   "cell_type": "code",
   "execution_count": 8,
   "metadata": {
    "vscode": {
     "languageId": "r"
    }
   },
   "outputs": [
    {
     "data": {
      "text/html": [
       "<table class=\"dataframe\">\n",
       "<caption>A data.frame: 6 × 4</caption>\n",
       "<thead>\n",
       "\t<tr><th></th><th scope=col>label</th><th scope=col>metabarcoding</th><th scope=col>shotgun</th><th scope=col>shared</th></tr>\n",
       "\t<tr><th></th><th scope=col>&lt;chr&gt;</th><th scope=col>&lt;chr&gt;</th><th scope=col>&lt;chr&gt;</th><th scope=col>&lt;chr&gt;</th></tr>\n",
       "</thead>\n",
       "<tbody>\n",
       "\t<tr><th scope=row>Dientamoebidae</th><td>Dientamoebidae</td><td>Absent </td><td>Present</td><td>Absent </td></tr>\n",
       "\t<tr><th scope=row>Asteriidae</th><td>Asteriidae    </td><td>Absent </td><td>Absent </td><td>Present</td></tr>\n",
       "\t<tr><th scope=row>Amphiuridae</th><td>Amphiuridae   </td><td>Present</td><td>Absent </td><td>Absent </td></tr>\n",
       "\t<tr><th scope=row>Ophiuridae</th><td>Ophiuridae    </td><td>Present</td><td>Absent </td><td>Absent </td></tr>\n",
       "\t<tr><th scope=row>Brissidae</th><td>Brissidae     </td><td>Present</td><td>Absent </td><td>Absent </td></tr>\n",
       "\t<tr><th scope=row>Echinidae</th><td>Echinidae     </td><td>Present</td><td>Absent </td><td>Absent </td></tr>\n",
       "</tbody>\n",
       "</table>\n"
      ],
      "text/latex": [
       "A data.frame: 6 × 4\n",
       "\\begin{tabular}{r|llll}\n",
       "  & label & metabarcoding & shotgun & shared\\\\\n",
       "  & <chr> & <chr> & <chr> & <chr>\\\\\n",
       "\\hline\n",
       "\tDientamoebidae & Dientamoebidae & Absent  & Present & Absent \\\\\n",
       "\tAsteriidae & Asteriidae     & Absent  & Absent  & Present\\\\\n",
       "\tAmphiuridae & Amphiuridae    & Present & Absent  & Absent \\\\\n",
       "\tOphiuridae & Ophiuridae     & Present & Absent  & Absent \\\\\n",
       "\tBrissidae & Brissidae      & Present & Absent  & Absent \\\\\n",
       "\tEchinidae & Echinidae      & Present & Absent  & Absent \\\\\n",
       "\\end{tabular}\n"
      ],
      "text/markdown": [
       "\n",
       "A data.frame: 6 × 4\n",
       "\n",
       "| <!--/--> | label &lt;chr&gt; | metabarcoding &lt;chr&gt; | shotgun &lt;chr&gt; | shared &lt;chr&gt; |\n",
       "|---|---|---|---|---|\n",
       "| Dientamoebidae | Dientamoebidae | Absent  | Present | Absent  |\n",
       "| Asteriidae | Asteriidae     | Absent  | Absent  | Present |\n",
       "| Amphiuridae | Amphiuridae    | Present | Absent  | Absent  |\n",
       "| Ophiuridae | Ophiuridae     | Present | Absent  | Absent  |\n",
       "| Brissidae | Brissidae      | Present | Absent  | Absent  |\n",
       "| Echinidae | Echinidae      | Present | Absent  | Absent  |\n",
       "\n"
      ],
      "text/plain": [
       "               label          metabarcoding shotgun shared \n",
       "Dientamoebidae Dientamoebidae Absent        Present Absent \n",
       "Asteriidae     Asteriidae     Absent        Absent  Present\n",
       "Amphiuridae    Amphiuridae    Present       Absent  Absent \n",
       "Ophiuridae     Ophiuridae     Present       Absent  Absent \n",
       "Brissidae      Brissidae      Present       Absent  Absent \n",
       "Echinidae      Echinidae      Present       Absent  Absent "
      ]
     },
     "metadata": {},
     "output_type": "display_data"
    }
   ],
   "source": [
    "head(heatdata)"
   ]
  },
  {
   "cell_type": "code",
   "execution_count": 210,
   "metadata": {
    "vscode": {
     "languageId": "r"
    }
   },
   "outputs": [
    {
     "name": "stderr",
     "output_type": "stream",
     "text": [
      "\u001b[1m\u001b[22mScale for \u001b[32my\u001b[39m is already present.\n",
      "Adding another scale for \u001b[32my\u001b[39m, which will replace the existing scale.\n",
      "\u001b[1m\u001b[22mCoordinate system already present. Adding new coordinate system, which will\n",
      "replace the existing one.\n",
      "\u001b[1m\u001b[22mScale for \u001b[32mfill\u001b[39m is already present.\n",
      "Adding another scale for \u001b[32mfill\u001b[39m, which will replace the existing scale.\n",
      "\u001b[1m\u001b[22mScale for \u001b[32mfill\u001b[39m is already present.\n",
      "Adding another scale for \u001b[32mfill\u001b[39m, which will replace the existing scale.\n",
      "\u001b[1m\u001b[22mScale for \u001b[32mfill\u001b[39m is already present.\n",
      "Adding another scale for \u001b[32mfill\u001b[39m, which will replace the existing scale.\n"
     ]
    },
    {
     "data": {
      "text/html": [
       "<strong>png:</strong> 2"
      ],
      "text/latex": [
       "\\textbf{png:} 2"
      ],
      "text/markdown": [
       "**png:** 2"
      ],
      "text/plain": [
       "png \n",
       "  2 "
      ]
     },
     "metadata": {},
     "output_type": "display_data"
    }
   ],
   "source": [
    "options(repr.plot.width = 25, repr.plot.height = 25, repr.plot.res = 100)\n",
    "\n",
    "# Base tree\n",
    "p <- ggtree(ogtree, layout=\"fan\", open.angle = 90, color=\"black\", size=0.25)\n",
    "\n",
    "# Rotate tree\n",
    "p <- rotate_tree(p, 90)\n",
    "\n",
    "# Metabarcoding heatmap\n",
    "p <- p + new_scale_fill()\n",
    "p <- gheatmap(p, heatdata[,-c(1,3,4), drop=F], offset=0.3, width=0.05, colnames=TRUE, colnames_angle = 0, hjust=0, font.size = 12) +\n",
    "scale_fill_manual(values = c(\"gray90\",\"gold\"), na.translate=F) +\n",
    "guides(fill=\"none\")\n",
    "\n",
    "# Shotgun heatmap\n",
    "p <- p + new_scale_fill()\n",
    "p <- gheatmap(p, heatdata[,-c(1,2,4), drop=F], offset=0.6, width=0.05, colnames=TRUE, colnames_angle = 0, hjust=0, font.size = 12) +\n",
    "scale_fill_manual(values = c(\"gray90\",\"dodgerblue\"), na.translate=F) +\n",
    "guides(fill=\"none\")\n",
    "\n",
    "# Shared heatmap\n",
    "p <- p + new_scale_fill()\n",
    "p <- gheatmap(p, heatdata[,-c(1,2,3), drop=F], offset=-0.05, width=0.05, colnames=TRUE, colnames_angle = 0, hjust=0, font.size = 12) +\n",
    "scale_fill_manual(values = c(\"gray90\",\"gray60\"), na.translate=F) +\n",
    "guides(fill=\"none\")\n",
    "\n",
    "# Highlight\n",
    "p <- p + new_scale_fill()\n",
    "p <- p + geom_highlight(data = color_data, mapping=aes(node=node, fill=color), alpha=0.5) + \n",
    "\t\t scale_fill_manual(values = c(\"coral3\",\"darkcyan\",\"rosybrown3\",\"darkolivegreen3\")) +\n",
    "\t\t labs(fill = \"Kingdom\")\n",
    "\n",
    "# Format\n",
    "p <- p + guides(color = guide_legend(override.aes = list(size=6))) +\n",
    "theme(legend.position = c(0.62,0.7),\n",
    "      legend.key.size = unit(2, 'cm'),\n",
    "      legend.title = element_text(size=46, face=\"bold\"),\n",
    "      legend.text = element_text(size=50),\n",
    "      legend.direction = \"vertical\",\n",
    "      legend.box = \"vertical\")\n",
    "\n",
    "# Save SVG tree and modify by hand\n",
    "svg(filename = \"Fam_Tree.svg\", height = 25, width = 25)\n",
    "p\n",
    "dev.off()"
   ]
  }
 ],
 "metadata": {
  "kernelspec": {
   "display_name": "R",
   "language": "R",
   "name": "ir"
  },
  "language_info": {
   "codemirror_mode": "r",
   "file_extension": ".r",
   "mimetype": "text/x-r-source",
   "name": "R",
   "pygments_lexer": "r",
   "version": "4.2.3"
  }
 },
 "nbformat": 4,
 "nbformat_minor": 2
}
