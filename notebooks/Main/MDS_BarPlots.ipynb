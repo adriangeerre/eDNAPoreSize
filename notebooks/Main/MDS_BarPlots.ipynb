{
 "cells": [
  {
   "cell_type": "markdown",
   "id": "8655ef6e",
   "metadata": {},
   "source": [
    "# Shotgun nMDS"
   ]
  },
  {
   "cell_type": "code",
   "execution_count": 2,
   "id": "fcab7c9f",
   "metadata": {
    "vscode": {
     "languageId": "r"
    }
   },
   "outputs": [],
   "source": [
    "# Libraries\n",
    "library(ROBITools)\n",
    "library(tidyverse)\n",
    "library(reshape2)\n",
    "library(vegan)\n",
    "library(ggalt)\n",
    "library(ggpubr)\n",
    "library(ggrepel)\n",
    "library(grid)\n",
    "library(wordcloud)"
   ]
  },
  {
   "cell_type": "markdown",
   "id": "937c405b",
   "metadata": {},
   "source": [
    "*Load data*"
   ]
  },
  {
   "cell_type": "code",
   "execution_count": null,
   "id": "4f4c5f0e",
   "metadata": {
    "vscode": {
     "languageId": "r"
    }
   },
   "outputs": [],
   "source": [
    "# Data\n",
    "dfraw <- read.delim(\"lca.taxa.count.tsv\", check.names=F)\n",
    "colnames(dfraw) <- str_replace(colnames(dfraw),\"06-mergeLCA//\",\"\")\n",
    "\n",
    "# Rename Samples\n",
    "oldnames <- c('GP_1','GP_2','GP_3','A0_2','B0_2','C0_2','A1_2','B1_2','C1_2','A5_0','B5_0','C5_0','A8_0','B8_0','C8_0')\n",
    "newnames <- c('EN0.2A','EN0.2B','EN0.2C','OP0.2A','OP0.2B','OP0.2C','OP1.2A','OP1.2B','OP1.2C','OP5.0A','OP5.0B','OP5.0C','OP8.0A','OP8.0B','OP8.0C')\n",
    "names(newnames) <- oldnames\n",
    "dfraw <- dfraw %>% rename_at(vars(oldnames), ~newnames)"
   ]
  },
  {
   "cell_type": "markdown",
   "id": "086dee21",
   "metadata": {},
   "source": [
    "*Superkingdom relative abundance Barplot*"
   ]
  },
  {
   "cell_type": "code",
   "execution_count": null,
   "id": "2a77cfd3",
   "metadata": {
    "vscode": {
     "languageId": "r"
    }
   },
   "outputs": [],
   "source": [
    "## Plots Superkingdom\n",
    "spkm_bars <- dfraw %>% filter(superkingdom %in% c(\"Bacteria\",\"Archaea\",\"Eukaryota\",\"Viruses\")) %>% select(c(1,9:23)) %>% melt() %>% group_by(superkingdom, variable) %>% summarise(count = sum(value)) %>% ungroup() %>% group_by(variable) %>% mutate(perc = count/sum(count) * 100)\n",
    "\n",
    "spkm_bars$superkingdom <- factor(spkm_bars$superkingdom, levels = c(\"Archaea\",\"Viruses\",\"Bacteria\",\"Eukaryota\"))\n",
    "spkm_bars$variable <- factor(spkm_bars$variable, levels = newnames)\n",
    "spkm_bars <- spkm_bars %>% mutate(type = ifelse(grepl(\"EN\", variable), \"Enclosed\", \"Open\"))\n",
    "\n",
    "p <- spkm_bars %>% ggplot() + geom_col(aes(x=variable,y=perc,fill=superkingdom)) +\n",
    " labs(x = \"Sample\", y = \"Percentage\", fill=\"Superkingdom\") +\n",
    " scale_fill_manual(values = c(\"coral3\", \"darkolivegreen3\", \"darkcyan\", \"orange3\")) +\n",
    " facet_wrap(~type, scales=\"free_x\") +\n",
    " theme_classic() %+replace% theme(axis.text.x = element_text(angle = 90, size=18),\n",
    "                                 axis.text.y = element_text(size=18),\n",
    "                                 axis.title = element_text(size=20),\n",
    "                                 strip.text.x = element_text(size = 16, face=\"bold\"),\n",
    "                                 strip.background = element_blank(),\n",
    "                                 legend.title = element_text(size=18, face=\"bold\"),\n",
    "                                 legend.text = element_text(size=16))\n",
    "\n",
    "gt = ggplot_gtable(ggplot_build(p))\n",
    "gt$widths[5] = 0.26*gt$widths[5]\n",
    "\n",
    "png(file=\"07-Plots/bars.spkm.raw.png\", width=2300, height=2000, res=300)\n",
    "grid.draw(gt)\n",
    "dev.off()"
   ]
  },
  {
   "cell_type": "markdown",
   "id": "0ea391cc",
   "metadata": {},
   "source": [
    "*Phylum relative abundance barplot*"
   ]
  },
  {
   "cell_type": "code",
   "execution_count": null,
   "id": "96cdc181",
   "metadata": {
    "scrolled": false,
    "vscode": {
     "languageId": "r"
    }
   },
   "outputs": [],
   "source": [
    "## Plots Phylum\n",
    "phyl_bars <- dfraw %>% filter(superkingdom %in% c(\"Bacteria\",\"Archaea\",\"Eukaryota\",\"Viruses\")) %>% select(c(1,3,9:23)) %>% melt() %>% drop_na() %>% group_by(superkingdom, phylum, variable) %>% summarise(count = sum(value)) %>% ungroup() %>% group_by(variable) %>% mutate(perc = count/sum(count) * 100) %>% filter(count > 0)\n",
    "\n",
    "phyl_bars$superkingdom <- factor(phyl_bars$superkingdom, levels = c(\"Archaea\",\"Viruses\",\"Bacteria\",\"Eukaryota\"))\n",
    "phyl_bars$variable <- factor(phyl_bars$variable, levels = newnames)\n",
    "phyl_bars <- phyl_bars %>% mutate(type = ifelse(grepl(\"EN\", variable), \"Enclosed\", \"Open\"))\n",
    "\n",
    "p <- phyl_bars %>% ggplot() + geom_col(aes(x=variable,y=perc,fill=superkingdom), color=\"black\") +\n",
    " labs(x = \"Sample\", y = \"Percentage\", fill=\"Superkingdom\") +\n",
    " #guides(fill = \"none\") +\n",
    " scale_fill_manual(values = c(\"coral3\", \"darkcyan\", \"orange3\")) +\n",
    " facet_wrap(~type, scales=\"free_x\") +\n",
    " theme_classic() %+replace% theme(axis.text.x = element_text(angle = 90, size=18),\n",
    "                                 axis.text.y = element_text(size=18),\n",
    "                                 axis.title = element_text(size=20),\n",
    "                                 strip.text.x = element_text(size = 16, face=\"bold\"),\n",
    "                                 strip.background = element_blank(),\n",
    "                                 legend.title = element_text(size=18, face=\"bold\"),\n",
    "                                 legend.text = element_text(size=16))\n",
    "\n",
    "gt = ggplot_gtable(ggplot_build(p))\n",
    "gt$widths[5] = 0.28*gt$widths[5]\n",
    "\n",
    "png(file=\"bars.phyl.raw.png\", width=2300, height=2000, res=300)\n",
    "grid.draw(gt)\n",
    "dev.off()"
   ]
  },
  {
   "cell_type": "markdown",
   "id": "8708f28b",
   "metadata": {},
   "source": [
    "*Top phyla relative abundance barplot*"
   ]
  },
  {
   "cell_type": "code",
   "execution_count": null,
   "id": "538961ac",
   "metadata": {
    "vscode": {
     "languageId": "r"
    }
   },
   "outputs": [],
   "source": [
    "## Plot Phylum\n",
    "phyl_bars <- dfraw %>% filter(superkingdom %in% c(\"Bacteria\",\"Archaea\",\"Eukaryota\",\"Viruses\")) %>% select(c(1,3,9:23)) %>% melt() %>% drop_na() %>% group_by(superkingdom, phylum, variable) %>% summarise(count = sum(value)) %>% ungroup() %>% group_by(variable) %>% mutate(perc = count/sum(count) * 100) %>% filter(count > 0)\n",
    "\n",
    "phyl_bars$superkingdom <- factor(phyl_bars$superkingdom, levels = c(\"Archaea\",\"Viruses\",\"Bacteria\",\"Eukaryota\"))\n",
    "phyl_bars$variable <- factor(phyl_bars$variable, levels = newnames)\n",
    "phyl_bars <- phyl_bars %>% mutate(type = ifelse(grepl(\"EN\", variable), \"Enclosed\", \"Open\"))\n",
    "\n",
    "top15 <- phyl_bars %>% select(superkingdom, phylum, perc) %>% group_by(superkingdom) %>%\n",
    "top_n(15) %>% ungroup() %>% select(phylum) %>% unique()\n",
    "\n",
    "phyl_bars_others <- phyl_bars %>%\n",
    "  mutate(category = ifelse(phylum %in% top15$phylum, phylum, \"Others\")) %>%\n",
    "  group_by(variable, category) %>%\n",
    "  summarise(total_perc = sum(perc)) %>%\n",
    "  ungroup()\n",
    "\n",
    "phyl_bars_others <- phyl_bars_others %>% mutate(type = ifelse(grepl(\"EN\", variable), \"Enclosed\", \"Open\"))\n",
    "\n",
    "col = c(\"#FF5733\", \"#33FF57\", \"#3366FF\", \"#9933FF\", \"#FFA500\", \"#A52A2A\",\"grey\")\n",
    "order <- (phyl_bars_others %>% group_by(category) %>% summarise(total_perc = sum(total_perc)) %>%\n",
    "filter(category != \"Others\") %>% arrange(desc(total_perc)))$category\n",
    "phyl_bars_others$category <- factor(phyl_bars_others$category, levels = c(order,\"Others\"))\n",
    "\n",
    "p <- phyl_bars_others %>% ggplot() + geom_col(aes(x=variable,y=total_perc,fill=category), color=\"black\") +\n",
    " labs(x=\"Sample\", y=\"Percentage\", fill=\"Phylum\") +\n",
    " scale_fill_manual(values = col) +\n",
    " facet_wrap(~type, scales=\"free_x\") +\n",
    " theme_classic() %+replace% theme(axis.text.x = element_text(angle = 90, size=18),\n",
    "                                 axis.text.y = element_text(size=18),\n",
    "                                 axis.title = element_text(size=20),\n",
    "                                 strip.text.x = element_text(size = 16, face=\"bold\"),\n",
    "                                 strip.background = element_blank(),\n",
    "                                 legend.title = element_text(size=18, face=\"bold\"),\n",
    "                                 legend.text = element_text(size=16))\n",
    "\n",
    "gt = ggplot_gtable(ggplot_build(p))\n",
    "gt$widths[5] = 0.34*gt$widths[5]\n",
    "\n",
    "png(file=\"bars.phyl.top15.png\", width=2300, height=2000, res=300)\n",
    "grid.draw(gt)\n",
    "dev.off()"
   ]
  },
  {
   "cell_type": "markdown",
   "id": "f3040940",
   "metadata": {},
   "source": [
    "*nMDS function*"
   ]
  },
  {
   "cell_type": "code",
   "execution_count": 4,
   "id": "f21c1c9a",
   "metadata": {
    "vscode": {
     "languageId": "r"
    }
   },
   "outputs": [],
   "source": [
    "# Relative Abundance PCA (nMDS) - Mads!\n",
    "\n",
    "nMDS_plot <- function(reads, samples) {\n",
    "  # Create scores\n",
    "  nmds = metaMDS(reads, distance = \"bray\")\n",
    "  nmds.sites.scores = as.data.frame(vegan::scores(nmds)$sites)\n",
    "  #nmds.species.scores = as.data.frame(vegan::scores(nmds)$species)\n",
    "\n",
    "  # Add metadata\n",
    "  nmds.sites.scores$sample = samples$sample\n",
    "  nmds.sites.scores$pore = samples$pore\n",
    "\n",
    "  # Factorize\n",
    "  nmds.sites.scores <- nmds.sites.scores %>%\n",
    "    dplyr::mutate(pore=factor(pore, levels=c(\"EN0.2\", \"OP0.2\", \"OP1.2\", \"OP5.0\", \"OP8.0\")))\n",
    "\n",
    "  # Plot\n",
    "  p <- ggplot(nmds.sites.scores, aes(x = NMDS1, y = NMDS2, label=sample)) + \n",
    "    geom_point(size = 5, aes(colour = pore)) +\n",
    "    geom_encircle(aes(fill = pore), s_shape = 1, expand = 0,\n",
    "                  alpha = 0.2, color = \"black\", show.legend = FALSE) +\n",
    "    geom_text_repel(size=4) +\n",
    "    labs(colour='Filter type') +\n",
    "    theme_classic() %+replace% theme(axis.text.x = element_text(size=14),\n",
    "                                 axis.text.y = element_text(size=14),\n",
    "                                 axis.title = element_text(size=20),\n",
    "                                 legend.title = element_text(size=18, face=\"bold\"),\n",
    "                                 legend.text = element_text(size=16))\n",
    "  \n",
    "  return(p)\n",
    "}"
   ]
  },
  {
   "cell_type": "markdown",
   "id": "35c6b0ea",
   "metadata": {},
   "source": [
    "*Load data into specific format for easy rarefaction*"
   ]
  },
  {
   "cell_type": "code",
   "execution_count": 5,
   "id": "5ecf9db4",
   "metadata": {
    "vscode": {
     "languageId": "r"
    }
   },
   "outputs": [],
   "source": [
    "# Normalization (Rarefy)\n",
    "# Function rarefy gives the expected species richness in random subsamples of size sample from the community. The function rarefy is based on Hurlbert's (1971) formulation, and the standard errors on Heck et al. (1975). In order to rarefy the data we need to create a count of species (rows) per sample (columns). The workflow is based in Eva's script including Mads modifications (Vandloeb_Summer_20200529.Rmd).\n",
    "dfimp <- import.metabarcoding.data(\"Pore_size_table_for_rarefy.txt\") # Read data with ROBITools\n",
    "\n",
    "## nMDS plot (before rarefaction)\n",
    "samples <- dfimp@samples\n",
    "samples <- samples %>% mutate(pore = ifelse(sample %in% c(\"OP0.2A\",\"OP0.2B\",\"OP0.2C\"), \"OP0.2\",\n",
    "                                     ifelse(sample %in% c(\"OP1.2A\",\"OP1.2B\",\"OP1.2C\"), \"OP1.2\",\n",
    "                                     ifelse(sample %in% c(\"OP5.0A\",\"OP5.0B\",\"OP5.0C\"), \"OP5.0\",\n",
    "                                     ifelse(sample %in% c(\"OP8.0A\",\"OP8.0B\",\"OP8.0C\"), \"OP8.0\", \"EN0.2\")))))\n",
    "reads <- dfimp@reads"
   ]
  },
  {
   "cell_type": "markdown",
   "id": "c653a8dc",
   "metadata": {},
   "source": [
    "*Raw nMDS*"
   ]
  },
  {
   "cell_type": "code",
   "execution_count": 6,
   "id": "8c83a3d0",
   "metadata": {
    "vscode": {
     "languageId": "r"
    }
   },
   "outputs": [
    {
     "name": "stdout",
     "output_type": "stream",
     "text": [
      "Square root transformation\n",
      "Wisconsin double standardization\n",
      "Run 0 stress 0.04893688 \n",
      "Run 1 stress 0.04893688 \n",
      "... Procrustes: rmse 3.534301e-06  max resid 8.456717e-06 \n",
      "... Similar to previous best\n",
      "Run 2 stress 0.04893688 \n",
      "... Procrustes: rmse 9.355799e-06  max resid 2.402621e-05 \n",
      "... Similar to previous best\n",
      "Run 3 stress 0.04893688 \n",
      "... New best solution\n",
      "... Procrustes: rmse 2.61904e-06  max resid 6.451125e-06 \n",
      "... Similar to previous best\n",
      "Run 4 stress 0.214736 \n",
      "Run 5 stress 0.04893688 \n",
      "... Procrustes: rmse 2.215447e-06  max resid 5.745128e-06 \n",
      "... Similar to previous best\n",
      "Run 6 stress 0.04893689 \n",
      "... Procrustes: rmse 5.351117e-06  max resid 1.278868e-05 \n",
      "... Similar to previous best\n",
      "Run 7 stress 0.04893688 \n",
      "... Procrustes: rmse 3.810022e-06  max resid 1.036425e-05 \n",
      "... Similar to previous best\n",
      "Run 8 stress 0.04893688 \n",
      "... Procrustes: rmse 1.128188e-05  max resid 2.808414e-05 \n",
      "... Similar to previous best\n",
      "Run 9 stress 0.04893688 \n",
      "... Procrustes: rmse 3.094298e-06  max resid 8.290937e-06 \n",
      "... Similar to previous best\n",
      "Run 10 stress 0.04893689 \n",
      "... Procrustes: rmse 7.671208e-06  max resid 1.809214e-05 \n",
      "... Similar to previous best\n",
      "Run 11 stress 0.1953557 \n",
      "Run 12 stress 0.04893688 \n",
      "... Procrustes: rmse 4.335253e-06  max resid 8.925462e-06 \n",
      "... Similar to previous best\n",
      "Run 13 stress 0.04893688 \n",
      "... Procrustes: rmse 1.038689e-05  max resid 2.499628e-05 \n",
      "... Similar to previous best\n",
      "Run 14 stress 0.04893688 \n",
      "... Procrustes: rmse 1.302575e-06  max resid 2.390203e-06 \n",
      "... Similar to previous best\n",
      "Run 15 stress 0.04893689 \n",
      "... Procrustes: rmse 2.567284e-05  max resid 6.457139e-05 \n",
      "... Similar to previous best\n",
      "Run 16 stress 0.04893688 \n",
      "... New best solution\n",
      "... Procrustes: rmse 1.515949e-06  max resid 2.29649e-06 \n",
      "... Similar to previous best\n",
      "Run 17 stress 0.04893688 \n",
      "... Procrustes: rmse 3.162128e-06  max resid 7.993141e-06 \n",
      "... Similar to previous best\n",
      "Run 18 stress 0.04893688 \n",
      "... Procrustes: rmse 6.460112e-06  max resid 1.667304e-05 \n",
      "... Similar to previous best\n",
      "Run 19 stress 0.04893688 \n",
      "... Procrustes: rmse 5.783307e-06  max resid 1.465888e-05 \n",
      "... Similar to previous best\n",
      "Run 20 stress 0.04893688 \n",
      "... Procrustes: rmse 6.617698e-06  max resid 1.602166e-05 \n",
      "... Similar to previous best\n",
      "*** Best solution repeated 5 times\n"
     ]
    },
    {
     "data": {
      "text/html": [
       "<strong>png:</strong> 2"
      ],
      "text/latex": [
       "\\textbf{png:} 2"
      ],
      "text/markdown": [
       "**png:** 2"
      ],
      "text/plain": [
       "png \n",
       "  2 "
      ]
     },
     "metadata": {},
     "output_type": "display_data"
    }
   ],
   "source": [
    "p <- nMDS_plot(reads, samples)\n",
    "\n",
    "png(file=\"07-Plots/nMDS.raw.png\", width=2300, height=2000, res=300)\n",
    "p\n",
    "dev.off()"
   ]
  },
  {
   "cell_type": "markdown",
   "id": "f13d2dcc",
   "metadata": {},
   "source": [
    "*Data rarefaction*"
   ]
  },
  {
   "cell_type": "code",
   "execution_count": 7,
   "id": "b651046f",
   "metadata": {
    "vscode": {
     "languageId": "r"
    }
   },
   "outputs": [
    {
     "data": {
      "text/plain": [
       "\n",
       "FALSE  TRUE \n",
       "  795  7471 "
      ]
     },
     "metadata": {},
     "output_type": "display_data"
    }
   ],
   "source": [
    "## Rarefy by sample\n",
    "mdn <- summary(rowSums(dfimp@reads[dfimp@samples$sample,]))[[3]]\n",
    "dfrar <- ROBITools::rarefy(dfimp, n = mdn, MARGIN=\"sample\")\n",
    "\n",
    "## Update TaxaCounts\n",
    "dfrar@motus$count <- colSums(dfrar@reads) # Add count to rarefy species\n",
    "\n",
    "## Clean data after rarefy\n",
    "table(colSums(dfrar@reads)>0) # 2040 taxa equal to 0\n",
    "dfrar <- dfrar[,colSums(dfrar@reads)>0] # Remove species with no hits\n",
    "dfrar <- dfrar[rowSums(dfrar@reads)>0,] # Remove samples with no hits\n",
    "\n",
    "## Transform data to final dataframe\n",
    "dfend <- dfrar@reads %>% t() %>% as.data.frame() %>% mutate(id = colnames(dfrar@reads))\n",
    "dfend <- merge(dfend,dfrar@motus, by=\"id\") %>% select(-c(Var.17,id,count))\n",
    "dfend <- dfend[,c(16:23,1:15)]\n",
    "colnames(dfend)[1:8] <- c(\"superkingdom\",\"kingdom\",\"phylum\",\"class\",\"order\",\"family\",\"genus\",\"species\")"
   ]
  },
  {
   "cell_type": "markdown",
   "id": "688c67f9",
   "metadata": {},
   "source": [
    "*Superkingdom rarefied relative abundance Barplot*"
   ]
  },
  {
   "cell_type": "code",
   "execution_count": 19,
   "id": "c4bf68a0",
   "metadata": {
    "vscode": {
     "languageId": "r"
    }
   },
   "outputs": [
    {
     "name": "stderr",
     "output_type": "stream",
     "text": [
      "Using superkingdom as id variables\n",
      "\n",
      "\u001b[1m\u001b[22m`summarise()` has grouped output by 'superkingdom'. You can override using the\n",
      "`.groups` argument.\n"
     ]
    },
    {
     "data": {
      "text/html": [
       "<strong>png:</strong> 2"
      ],
      "text/latex": [
       "\\textbf{png:} 2"
      ],
      "text/markdown": [
       "**png:** 2"
      ],
      "text/plain": [
       "png \n",
       "  2 "
      ]
     },
     "metadata": {},
     "output_type": "display_data"
    }
   ],
   "source": [
    "# Plots\n",
    "spkm_bars <- dfend %>% filter(superkingdom %in% c(\"Bacteria\",\"Archaea\",\"Eukaryota\",\"Viruses\")) %>% select(c(1,9:23)) %>% melt() %>% group_by(superkingdom, variable) %>% summarise(count = sum(value)) %>% ungroup() %>% group_by(variable) %>% mutate(perc = count/sum(count) * 100)\n",
    "\n",
    "spkm_bars$superkingdom <- factor(spkm_bars$superkingdom, levels = c(\"Archaea\",\"Viruses\",\"Bacteria\",\"Eukaryota\"))\n",
    "spkm_bars$variable <- factor(spkm_bars$variable, levels = newnames)\n",
    "spkm_bars <- spkm_bars %>% mutate(type = ifelse(grepl(\"EN\", variable), \"Enclosed\", \"Open\"))\n",
    "\n",
    "p <- spkm_bars %>% ggplot() + geom_col(aes(x=variable,y=perc,fill=superkingdom)) +\n",
    " labs(x = \"Sample\", y = \"Percentage\", fill=\"Superkingdom\") +\n",
    " scale_fill_manual(values = c(\"coral3\", \"darkolivegreen3\", \"darkcyan\", \"orange3\")) +\n",
    " facet_wrap(~type, scales=\"free_x\") +\n",
    " theme_classic() %+replace% theme(axis.text.x = element_text(angle = 90, size=18),\n",
    "                                 axis.text.y = element_text(size=18),\n",
    "                                 axis.title = element_text(size=20),\n",
    "                                 strip.text.x = element_text(size = 16, face=\"bold\"),\n",
    "                                 strip.background = element_blank(),\n",
    "                                 legend.title = element_text(size=18, face=\"bold\"),\n",
    "                                 legend.text = element_text(size=16))\n",
    "\n",
    "gt = ggplot_gtable(ggplot_build(p))\n",
    "gt$widths[5] = 0.28*gt$widths[5]\n",
    "\n",
    "png(file=\"07-Plots/bars.spkm.rarefy.png\", width=2300, height=2000, res=300)\n",
    "grid.draw(gt)\n",
    "dev.off()"
   ]
  },
  {
   "cell_type": "markdown",
   "id": "dd5b8e10",
   "metadata": {},
   "source": [
    "*Rarefied nMDS plot*"
   ]
  },
  {
   "cell_type": "code",
   "execution_count": 8,
   "id": "71c56675",
   "metadata": {
    "vscode": {
     "languageId": "r"
    }
   },
   "outputs": [
    {
     "name": "stdout",
     "output_type": "stream",
     "text": [
      "Square root transformation\n",
      "Wisconsin double standardization\n",
      "Run 0 stress 0.03937219 \n",
      "Run 1 stress 0.03937219 \n",
      "... Procrustes: rmse 2.3399e-06  max resid 5.479825e-06 \n",
      "... Similar to previous best\n",
      "Run 2 stress 0.03937219 \n",
      "... Procrustes: rmse 3.228395e-06  max resid 6.784848e-06 \n",
      "... Similar to previous best\n",
      "Run 3 stress 0.2211713 \n",
      "Run 4 stress 0.03937219 \n",
      "... Procrustes: rmse 3.915327e-06  max resid 7.596578e-06 \n",
      "... Similar to previous best\n",
      "Run 5 stress 0.03937219 \n",
      "... Procrustes: rmse 4.892426e-06  max resid 1.131157e-05 \n",
      "... Similar to previous best\n",
      "Run 6 stress 0.03937219 \n",
      "... Procrustes: rmse 2.518187e-06  max resid 4.901389e-06 \n",
      "... Similar to previous best\n",
      "Run 7 stress 0.03937219 \n",
      "... Procrustes: rmse 3.479705e-06  max resid 8.136378e-06 \n",
      "... Similar to previous best\n",
      "Run 8 stress 0.03937219 \n",
      "... Procrustes: rmse 3.552628e-06  max resid 6.868828e-06 \n",
      "... Similar to previous best\n",
      "Run 9 stress 0.2335904 \n",
      "Run 10 stress 0.03937219 \n",
      "... Procrustes: rmse 7.179775e-06  max resid 1.512931e-05 \n",
      "... Similar to previous best\n",
      "Run 11 stress 0.03937219 \n",
      "... Procrustes: rmse 4.012017e-06  max resid 8.85966e-06 \n",
      "... Similar to previous best\n",
      "Run 12 stress 0.03937219 \n",
      "... New best solution\n",
      "... Procrustes: rmse 1.24837e-06  max resid 2.459083e-06 \n",
      "... Similar to previous best\n",
      "Run 13 stress 0.03937219 \n",
      "... Procrustes: rmse 4.277213e-06  max resid 9.221355e-06 \n",
      "... Similar to previous best\n",
      "Run 14 stress 0.03937219 \n",
      "... Procrustes: rmse 5.712279e-06  max resid 1.157622e-05 \n",
      "... Similar to previous best\n",
      "Run 15 stress 0.03937219 \n",
      "... Procrustes: rmse 3.796197e-06  max resid 8.169021e-06 \n",
      "... Similar to previous best\n",
      "Run 16 stress 0.03937219 \n",
      "... Procrustes: rmse 1.725139e-05  max resid 3.046465e-05 \n",
      "... Similar to previous best\n",
      "Run 17 stress 0.03937219 \n",
      "... Procrustes: rmse 3.437062e-06  max resid 8.1655e-06 \n",
      "... Similar to previous best\n",
      "Run 18 stress 0.03937219 \n",
      "... Procrustes: rmse 2.073429e-06  max resid 4.198844e-06 \n",
      "... Similar to previous best\n",
      "Run 19 stress 0.03937219 \n",
      "... Procrustes: rmse 2.742826e-06  max resid 5.223224e-06 \n",
      "... Similar to previous best\n",
      "Run 20 stress 0.2358009 \n",
      "*** Best solution repeated 8 times\n"
     ]
    },
    {
     "data": {
      "text/html": [
       "<strong>png:</strong> 2"
      ],
      "text/latex": [
       "\\textbf{png:} 2"
      ],
      "text/markdown": [
       "**png:** 2"
      ],
      "text/plain": [
       "png \n",
       "  2 "
      ]
     },
     "metadata": {},
     "output_type": "display_data"
    }
   ],
   "source": [
    "## nMDS plot (after rarefaction)\n",
    "samples <- dfrar@samples\n",
    "samples <- samples %>% mutate(pore = ifelse(sample %in% c(\"OP0.2A\",\"OP0.2B\",\"OP0.2C\"), \"OP0.2\",\n",
    "                                     ifelse(sample %in% c(\"OP1.2A\",\"OP1.2B\",\"OP1.2C\"), \"OP1.2\",\n",
    "                                     ifelse(sample %in% c(\"OP5.0A\",\"OP5.0B\",\"OP5.0C\"), \"OP5.0\",\n",
    "                                     ifelse(sample %in% c(\"OP8.0A\",\"OP8.0B\",\"OP8.0C\"), \"OP8.0\", \"EN0.2\")))))\n",
    "reads <- dfrar@reads\n",
    "p <- nMDS_plot(reads, samples)\n",
    "\n",
    "png(file=\"07-Plots/nMDS.rarefy.png\", width=2300, height=2000, res=300)\n",
    "p\n",
    "dev.off()"
   ]
  }
 ],
 "metadata": {
  "kernelspec": {
   "display_name": "R",
   "language": "R",
   "name": "ir"
  },
  "language_info": {
   "codemirror_mode": "r",
   "file_extension": ".r",
   "mimetype": "text/x-r-source",
   "name": "R",
   "pygments_lexer": "r",
   "version": "4.2.2"
  }
 },
 "nbformat": 4,
 "nbformat_minor": 5
}
