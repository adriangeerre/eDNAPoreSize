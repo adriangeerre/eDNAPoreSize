{
 "cells": [
  {
   "cell_type": "markdown",
   "id": "e3b096c7",
   "metadata": {},
   "source": [
    "# Shotgun"
   ]
  },
  {
   "cell_type": "code",
   "execution_count": null,
   "id": "87cdc86a",
   "metadata": {},
   "outputs": [],
   "source": [
    "# Datasets\n",
    "shotgun_taxa_count <- read.delim(\"GenomeDK_LCA/counts.lca.rarefy.tsv\")\n",
    "shotgun_comp <- shotgun_taxa_count %>% filter(superkingdom == \"Eukaryota\")"
   ]
  },
  {
   "cell_type": "markdown",
   "id": "b403432d",
   "metadata": {},
   "source": [
    "**Kingdom**"
   ]
  },
  {
   "cell_type": "code",
   "execution_count": null,
   "id": "e6731f2b",
   "metadata": {},
   "outputs": [],
   "source": [
    "# Kingdoms\n",
    "k <- melt(shotgun_comp[,c(2,9:23)]) %>% group_by(kingdom,variable) %>% summarise(value = sum(value))\n",
    "    #pivot_wider(names_from = variable, values_from = value) %>%\n",
    "\n",
    "newnames <- c('EN0.2A','EN0.2B','EN0.2C','OP0.2A','OP0.2B','OP0.2C','OP1.2A','OP1.2B','OP1.2C','OP5.0A','OP5.0B','OP5.0C','OP8.0A','OP8.0B','OP8.0C')\n",
    "k$variable <- factor(k$variable, levels = rev(newnames))\n",
    "\n",
    "p <- k %>% ggplot() + geom_tile(aes(y=variable, x=kingdom, fill=log2(value+1))) +\n",
    "    geom_text(aes(y=variable, x=kingdom, label=value), color=\"gray20\", size=6) +\n",
    "    labs(y=\"Sample\", x=\"Kingdom\") +\n",
    "    scale_fill_gradient(low = \"#cce6ff\", high = \"royalblue\", guide = \"colorbar\") +\n",
    "    guides(fill=F) +\n",
    "    theme_classic(base_size=20) %+replace% theme(axis.line = element_blank(),\n",
    "                                                 axis.ticks = element_blank())\n",
    "\n",
    "png(file=\"GenomeDK_LCA/07-Plots/kingdom.shotgun.reads.png\", width=2300, height=2000, res=300)\n",
    "p\n",
    "dev.off()"
   ]
  },
  {
   "cell_type": "markdown",
   "id": "995eaafe",
   "metadata": {},
   "source": [
    "**Phylum: Eukaryota**"
   ]
  },
  {
   "cell_type": "code",
   "execution_count": null,
   "id": "2cdc1844",
   "metadata": {},
   "outputs": [],
   "source": [
    "# Eukaryota Phyla\n",
    "ph <- melt(shotgun_comp[,c(3,9:23)]) %>% group_by(phylum,variable) %>% summarise(value = sum(value))\n",
    "\n",
    "ph %>% drop_na(phylum) %>% group_by(variable) %>% arrange(variable, desc(value)) %>%\n",
    "    slice(1:10) %>% pivot_wider(names_from = phylum, values_from = value)"
   ]
  },
  {
   "cell_type": "markdown",
   "id": "0a807ad7",
   "metadata": {},
   "source": [
    "**Phylum: Bacteria**"
   ]
  },
  {
   "cell_type": "code",
   "execution_count": null,
   "id": "20ef7996",
   "metadata": {},
   "outputs": [],
   "source": [
    "shotgun_bact <- shotgun_taxa_count %>% filter(superkingdom == \"Bacteria\")\n",
    "\n",
    "ph <- melt(shotgun_bact[,c(3,9:23)]) %>% group_by(phylum,variable) %>% summarise(value = sum(value))\n",
    "\n",
    "ph %>% drop_na(phylum) %>% group_by(variable) %>% arrange(variable, desc(value)) %>%\n",
    "    slice(1:10) %>% pivot_wider(names_from = phylum, values_from = value)"
   ]
  },
  {
   "cell_type": "markdown",
   "id": "a533600c",
   "metadata": {},
   "source": [
    "**Phylum: Archaea**"
   ]
  },
  {
   "cell_type": "code",
   "execution_count": null,
   "id": "d0919dfa",
   "metadata": {},
   "outputs": [],
   "source": [
    "shotgun_arch <- shotgun_taxa_count %>% filter(superkingdom == \"Archaea\")\n",
    "\n",
    "ph <- melt(shotgun_arch[,c(3,9:23)]) %>% group_by(phylum,variable) %>% summarise(value = sum(value))\n",
    "\n",
    "ph %>% drop_na(phylum) %>% group_by(variable) %>% arrange(variable, desc(value)) %>%\n",
    "    slice(1:10) %>% pivot_wider(names_from = phylum, values_from = value)"
   ]
  }
 ],
 "metadata": {
  "kernelspec": {
   "display_name": "R",
   "language": "R",
   "name": "ir"
  },
  "language_info": {
   "codemirror_mode": "r",
   "file_extension": ".r",
   "mimetype": "text/x-r-source",
   "name": "R",
   "pygments_lexer": "r",
   "version": "4.2.2"
  }
 },
 "nbformat": 4,
 "nbformat_minor": 5
}
