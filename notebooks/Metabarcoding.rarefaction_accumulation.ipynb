{
 "cells": [
  {
   "cell_type": "markdown",
   "id": "d06e05a5",
   "metadata": {},
   "source": [
    "# Metabarcoding"
   ]
  },
  {
   "cell_type": "code",
   "execution_count": null,
   "id": "7bb86558",
   "metadata": {},
   "outputs": [],
   "source": [
    "# Libraries\n",
    "library(tidyverse)\n",
    "library(ROBITools)\n",
    "library(reshape2)\n",
    "library(vegan)\n",
    "library(ggalt)\n",
    "library(ggpubr)\n",
    "library(ggrepel)"
   ]
  },
  {
   "cell_type": "code",
   "execution_count": null,
   "id": "d63f73c6",
   "metadata": {},
   "outputs": [],
   "source": [
    "# Data\n",
    "metabar_taxa  <- read.delim(\"GenomeDK_Metabar/classified.txt\")\n",
    "metabar_count <- read.delim(\"GenomeDK_Metabar/DADA2_nochim.table\")"
   ]
  },
  {
   "cell_type": "code",
   "execution_count": null,
   "id": "167e7e33",
   "metadata": {},
   "outputs": [],
   "source": [
    "# Select controls\n",
    "m_cne <- grepl(\"CNE\", names(metabar_count))\n",
    "m_cne[1] <- TRUE\n",
    "m_ntc <- grepl(\"NTC\", names(metabar_count))\n",
    "m_ntc[1] <- TRUE\n",
    "\n",
    "cne <- metabar_count[,m_cne]\n",
    "ntc <- metabar_count[,m_ntc]\n",
    "\n",
    "# Find contaminants\n",
    "cne_cont <- cne %>% mutate(total = rowSums(cne[,-1])) %>% filter(total > 0)\n",
    "ntc_cont <- ntc %>% mutate(total = rowSums(ntc[,-1])) %>% filter(total > 0)"
   ]
  },
  {
   "cell_type": "code",
   "execution_count": null,
   "id": "3bb1d9b4",
   "metadata": {},
   "outputs": [],
   "source": [
    "# Select contaminant sequences\n",
    "cont <- unique(c(cne_cont$id, ntc_cont$id))\n",
    "\n",
    "# Remove contaminants and filter\n",
    "metabarcoding <- metabar_taxa %>% filter(!qseqid %in% cont) %>% filter(pident.max.best > 90)\n",
    "\n",
    "# Select contaminants\n",
    "contaminants <- metabar_taxa %>% filter(qseqid %in% cont)\n",
    "\n",
    "# Metabarcoding diversity\n",
    "tx <- metabarcoding[,c(8:14)]\n",
    "dk <- length(unique(tx$kingdom[!is.na(tx$kingdom)]))\n",
    "dp <- length(unique(tx$phylum[!is.na(tx$phylum)]))\n",
    "dc <- length(unique(tx$class[!is.na(tx$class)]))\n",
    "do <- length(unique(tx$order[!is.na(tx$order)]))\n",
    "df <- length(unique(tx$family[!is.na(tx$family)]))\n",
    "dg <- length(unique(tx$genus[!is.na(tx$genus)]))\n",
    "ds <- length(unique(tx$species[!is.na(tx$species)]))\n",
    "\n",
    "message(paste(\"Metabarcoding diversity: kingdom: \", dk, \", phylum: \", dp,\n",
    "              \", class: \", dc, \", order: \", do, \", family: \", df, \", genus: \", dg, \" and species: \", ds, sep=\"\"))"
   ]
  },
  {
   "cell_type": "code",
   "execution_count": null,
   "id": "7567db94",
   "metadata": {},
   "outputs": [],
   "source": [
    "# Remove contaminant from counts\n",
    "metabar_count_clean <- metabar_count %>% filter(!id %in% cont)\n",
    "metabar_count_clean <- metabar_count_clean[,!grepl(\"NTC\", names(metabar_count_clean))]\n",
    "metabar_count_clean <- metabar_count_clean[,!grepl(\"CNE\", names(metabar_count_clean))]"
   ]
  },
  {
   "cell_type": "code",
   "execution_count": null,
   "id": "96554e7d",
   "metadata": {},
   "outputs": [],
   "source": [
    "# Rename columns\n",
    "cols <- colnames(metabar_count_clean)\n",
    "\n",
    "clean_cols <- str_replace(str_replace(cols[-1], \"sample.\", \"\"),\"u\",\"\")\n",
    "clean_cols <- str_replace(clean_cols, \"GP1\", \"EN0.2A\")\n",
    "clean_cols <- str_replace(clean_cols, \"GP2\", \"EN0.2B\")\n",
    "clean_cols <- str_replace(clean_cols, \"GP3\", \"EN0.2C\")\n",
    "clean_cols <- str_replace(clean_cols, \"1_0.2\", \"OP0.2A\")\n",
    "clean_cols <- str_replace(clean_cols, \"2_0.2\", \"OP0.2B\")\n",
    "clean_cols <- str_replace(clean_cols, \"3_0.2\", \"OP0.2C\")\n",
    "clean_cols <- str_replace(clean_cols, \"1_1.2\", \"OP1.2A\")\n",
    "clean_cols <- str_replace(clean_cols, \"2_1.2\", \"OP1.2B\")\n",
    "clean_cols <- str_replace(clean_cols, \"3_1.2\", \"OP1.2C\")\n",
    "clean_cols <- str_replace(clean_cols, \"1_5.0\", \"OP5.0A\")\n",
    "clean_cols <- str_replace(clean_cols, \"2_5.0\", \"OP5.0B\")\n",
    "clean_cols <- str_replace(clean_cols, \"3_5.0\", \"OP5.0C\")\n",
    "clean_cols <- str_replace(clean_cols, \"1_8.0\", \"OP8.0A\")\n",
    "clean_cols <- str_replace(clean_cols, \"2_8.0\", \"OP8.0B\")\n",
    "clean_cols <- str_replace(clean_cols, \"3_8.0\", \"OP8.0C\")\n",
    "\n",
    "colnames(metabar_count_clean)[-1] <-  clean_cols\n",
    "cols <- colnames(metabar_count_clean)"
   ]
  },
  {
   "cell_type": "markdown",
   "id": "486e145f",
   "metadata": {},
   "source": [
    "### Raw rarefaction curves"
   ]
  },
  {
   "cell_type": "code",
   "execution_count": null,
   "id": "0bc3532f",
   "metadata": {},
   "outputs": [],
   "source": [
    "# GP\n",
    "gp1 <- cols[grepl(\"EN0.2A\", cols)]\n",
    "gp2 <- cols[grepl(\"EN0.2B\", cols)]\n",
    "gp3 <- cols[grepl(\"EN0.2C\", cols)]\n",
    "# A02\n",
    "a02 <- cols[grepl(\"OP0.2A\", cols)]\n",
    "b02 <- cols[grepl(\"OP0.2B\", cols)]\n",
    "c02 <- cols[grepl(\"OP0.2C\", cols)]\n",
    "# A02\n",
    "a12 <- cols[grepl(\"OP1.2A\", cols)]\n",
    "b12 <- cols[grepl(\"OP1.2B\", cols)]\n",
    "c12 <- cols[grepl(\"OP1.2C\", cols)]\n",
    "# A02\n",
    "a50 <- cols[grepl(\"OP5.0A\", cols)]\n",
    "b50 <- cols[grepl(\"OP5.0B\", cols)]\n",
    "c50 <- cols[grepl(\"OP5.0C\", cols)]\n",
    "# A02\n",
    "a80 <- cols[grepl(\"OP8.0A\", cols)]\n",
    "b80 <- cols[grepl(\"OP8.0B\", cols)]\n",
    "c80 <- cols[grepl(\"OP8.0C\", cols)]"
   ]
  },
  {
   "cell_type": "code",
   "execution_count": null,
   "id": "3021a3de",
   "metadata": {},
   "outputs": [],
   "source": [
    "# Colors\n",
    "colors <- c(\"#F8766D\", \"#B79F00\", \"#00BF7D\", \"#00B0F6\", \"#E76BF3\")"
   ]
  },
  {
   "cell_type": "code",
   "execution_count": null,
   "id": "543f40bc",
   "metadata": {},
   "outputs": [],
   "source": [
    "# Raw curve\n",
    "cc <- t(metabar_count_clean)\n",
    "colnames(cc) <- cc[1,]\n",
    "cc <- cc[-1,]\n",
    "cc <- apply(cc, 2, as.numeric)\n",
    "rownames(cc) <- colnames(metabar_count_clean)[-1]"
   ]
  },
  {
   "cell_type": "code",
   "execution_count": null,
   "id": "4d008afa",
   "metadata": {},
   "outputs": [],
   "source": [
    "# Example\n",
    "cc[gp1,]"
   ]
  },
  {
   "cell_type": "code",
   "execution_count": null,
   "id": "7819e7d6",
   "metadata": {},
   "outputs": [],
   "source": [
    "# GP (EN)\n",
    "raremax <- min(rowSums(cc[gp1,]))\n",
    "png(\"GenomeDK_Metabar/raw_curves/raw_curve.replicates.GP1.png\", width=2000, height=2000, res=300)\n",
    "rarecurve(cc[gp1,], step = 20, sample = raremax, col = colors[1], cex = 0.6)\n",
    "dev.off()\n",
    "\n",
    "raremax <- min(rowSums(cc[gp2,]))\n",
    "png(\"GenomeDK_Metabar/raw_curves/raw_curve.replicates.GP2.png\", width=2000, height=2000, res=300)\n",
    "rarecurve(cc[gp2,], step = 20, sample = raremax, col = colors[1], cex = 0.6)\n",
    "dev.off()\n",
    "\n",
    "raremax <- min(rowSums(cc[gp3,]))\n",
    "png(\"GenomeDK_Metabar/raw_curves/raw_curve.replicates.GP3.png\", width=2000, height=2000, res=300)\n",
    "rarecurve(cc[gp3,], step = 20, sample = raremax, col = colors[1], cex = 0.6)\n",
    "dev.off()"
   ]
  },
  {
   "cell_type": "code",
   "execution_count": null,
   "id": "ef60ec45",
   "metadata": {},
   "outputs": [],
   "source": [
    "# 0.2\n",
    "raremax <- min(rowSums(cc[a02,]))\n",
    "png(\"GenomeDK_Metabar/raw_curves/raw_curve.replicates.A02.png\", width=2000, height=2000, res=300)\n",
    "rarecurve(cc[a02,], step = 20, sample = raremax, col = colors[2], cex = 0.6)\n",
    "dev.off()\n",
    "\n",
    "raremax <- min(rowSums(cc[b02,]))\n",
    "png(\"GenomeDK_Metabar/raw_curves/raw_curve.replicates.B02.png\", width=2000, height=2000, res=300)\n",
    "rarecurve(cc[b02,], step = 20, sample = raremax, col = colors[2], cex = 0.6)\n",
    "dev.off()\n",
    "\n",
    "raremax <- min(rowSums(cc[c02,]))\n",
    "png(\"GenomeDK_Metabar/raw_curves/raw_curve.replicates.C02.png\", width=2000, height=2000, res=300)\n",
    "rarecurve(cc[c02,], step = 20, sample = raremax, col = colors[2], cex = 0.6)\n",
    "dev.off()"
   ]
  },
  {
   "cell_type": "code",
   "execution_count": null,
   "id": "28afdd68",
   "metadata": {},
   "outputs": [],
   "source": [
    "# 1.2\n",
    "raremax <- min(rowSums(cc[a12,]))\n",
    "png(\"GenomeDK_Metabar/raw_curves/raw_curve.replicates.A12.png\", width=2000, height=2000, res=300)\n",
    "rarecurve(cc[a12,], step = 20, sample = raremax, col = colors[3], cex = 0.6)\n",
    "dev.off()\n",
    "\n",
    "raremax <- min(rowSums(cc[b12,]))\n",
    "png(\"GenomeDK_Metabar/raw_curves/raw_curve.replicates.B12.png\", width=2000, height=2000, res=300)\n",
    "rarecurve(cc[b12,], step = 20, sample = raremax, col = colors[3], cex = 0.6)\n",
    "dev.off()\n",
    "\n",
    "raremax <- min(rowSums(cc[c12,]))\n",
    "png(\"GenomeDK_Metabar/raw_curves/raw_curve.replicates.C12.png\", width=2000, height=2000, res=300)\n",
    "rarecurve(cc[c12,], step = 20, sample = raremax, col = colors[3], cex = 0.6)\n",
    "dev.off()"
   ]
  },
  {
   "cell_type": "code",
   "execution_count": null,
   "id": "6576dad5",
   "metadata": {},
   "outputs": [],
   "source": [
    "# 5.0\n",
    "raremax <- min(rowSums(cc[a50,]))\n",
    "png(\"GenomeDK_Metabar/raw_curves/raw_curve.replicates.A50.png\", width=2000, height=2000, res=300)\n",
    "rarecurve(cc[a50,], step = 20, sample = raremax, col = colors[4], cex = 0.6)\n",
    "dev.off()\n",
    "\n",
    "raremax <- min(rowSums(cc[b50,]))\n",
    "png(\"GenomeDK_Metabar/raw_curves/raw_curve.replicates.B50.png\", width=2000, height=2000, res=300)\n",
    "rarecurve(cc[b50,], step = 20, sample = raremax, col = colors[4], cex = 0.6)\n",
    "dev.off()\n",
    "\n",
    "raremax <- min(rowSums(cc[c50,]))\n",
    "png(\"GenomeDK_Metabar/raw_curves/raw_curve.replicates.C50.png\", width=2000, height=2000, res=300)\n",
    "rarecurve(cc[c50,], step = 20, sample = raremax, col = colors[4], cex = 0.6)\n",
    "dev.off()"
   ]
  },
  {
   "cell_type": "code",
   "execution_count": null,
   "id": "40ecd4c5",
   "metadata": {},
   "outputs": [],
   "source": [
    "# 8.0\n",
    "raremax <- min(rowSums(cc[a80,]))\n",
    "png(\"GenomeDK_Metabar/raw_curves/raw_curve.replicates.A80.png\", width=2000, height=2000, res=300)\n",
    "rarecurve(cc[a80,], step = 20, sample = raremax, col = colors[5], cex = 0.6)\n",
    "dev.off()\n",
    "\n",
    "raremax <- min(rowSums(cc[b80,]))\n",
    "png(\"GenomeDK_Metabar/raw_curves/raw_curve.replicates.B80.png\", width=2000, height=2000, res=300)\n",
    "rarecurve(cc[b80,], step = 20, sample = raremax, col = colors[5], cex = 0.6)\n",
    "dev.off()\n",
    "\n",
    "raremax <- min(rowSums(cc[c80,]))\n",
    "png(\"GenomeDK_Metabar/raw_curves/raw_curve.replicates.C80.png\", width=2000, height=2000, res=300)\n",
    "rarecurve(cc[c80,], step = 20, sample = raremax, col = colors[5], cex = 0.6)\n",
    "dev.off()"
   ]
  },
  {
   "cell_type": "markdown",
   "id": "d1b2e329",
   "metadata": {},
   "source": [
    "### Raw accumulation plots"
   ]
  },
  {
   "cell_type": "code",
   "execution_count": null,
   "id": "0b8a090c",
   "metadata": {},
   "outputs": [],
   "source": [
    "# GP1\n",
    "accum <- specaccum(cc[gp1,], method = \"exact\", permutations = 100, conditioned =TRUE, gamma = \"jack1\", w = NULL)\n",
    "accum2 <- specaccum(cc[gp1,], \"random\")\n",
    "png(\"GenomeDK_Metabar/raw_curves/accum_curve.replicates.GP1.png\", width=2000, height=2000, res=300)\n",
    "plot(accum, ci.type=\"poly\", col=colors[1], lwd=2, ci.lty=0, ci.col=\"gray\",xlab=\"No. of sites\",ylab=\"No. of taxa\",main=\"EN0.2A\")\n",
    "boxplot(accum2, col=colors[1], add=TRUE, pch=\"+\")\n",
    "dev.off()\n",
    "\n",
    "# GP2\n",
    "accum <- specaccum(cc[gp2,], method = \"exact\", permutations = 100, conditioned =TRUE, gamma = \"jack1\", w = NULL)\n",
    "accum2 <- specaccum(cc[gp2,], \"random\")\n",
    "png(\"GenomeDK_Metabar/raw_curves/accum_curve.replicates.GP2.png\", width=2000, height=2000, res=300)\n",
    "plot(accum, ci.type=\"poly\", col=colors[1], lwd=2, ci.lty=0, ci.col=\"gray\",xlab=\"No. of sites\",ylab=\"No. of taxa\",main=\"EN0.2B\")\n",
    "boxplot(accum2, col=colors[1], add=TRUE, pch=\"+\")\n",
    "dev.off()\n",
    "\n",
    "# GP3\n",
    "accum <- specaccum(cc[gp3,], method = \"exact\", permutations = 100, conditioned =TRUE, gamma = \"jack1\", w = NULL)\n",
    "accum2 <- specaccum(cc[gp3,], \"random\")\n",
    "png(\"GenomeDK_Metabar/raw_curves/accum_curve.replicates.GP3.png\", width=2000, height=2000, res=300)\n",
    "plot(accum, ci.type=\"poly\", col=colors[1], lwd=2, ci.lty=0, ci.col=\"gray\",xlab=\"No. of sites\",ylab=\"No. of taxa\",main=\"EN0.2C\")\n",
    "boxplot(accum2, col=colors[1], add=TRUE, pch=\"+\")\n",
    "dev.off()"
   ]
  },
  {
   "cell_type": "code",
   "execution_count": null,
   "id": "ca91abad",
   "metadata": {},
   "outputs": [],
   "source": [
    "# A02\n",
    "accum <- specaccum(cc[a02,], method = \"exact\", permutations = 100, conditioned =TRUE, gamma = \"jack1\", w = NULL)\n",
    "accum2 <- specaccum(cc[a02,], \"random\")\n",
    "png(\"GenomeDK_Metabar/raw_curves/accum_curve.replicates.A02.png\", width=2000, height=2000, res=300)\n",
    "plot(accum, ci.type=\"poly\", col=colors[2], lwd=2, ci.lty=0, ci.col=\"gray\",xlab=\"No. of sites\",ylab=\"No. of taxa\",main=\"OP0.2A\")\n",
    "boxplot(accum2, col=colors[2], add=TRUE, pch=\"+\")\n",
    "dev.off()\n",
    "\n",
    "# B02\n",
    "accum <- specaccum(cc[b02,], method = \"exact\", permutations = 100, conditioned =TRUE, gamma = \"jack1\", w = NULL)\n",
    "accum2 <- specaccum(cc[b02,], \"random\")\n",
    "png(\"GenomeDK_Metabar/raw_curves/accum_curve.replicates.B02.png\", width=2000, height=2000, res=300)\n",
    "plot(accum, ci.type=\"poly\", col=colors[2], lwd=2, ci.lty=0, ci.col=\"gray\",xlab=\"No. of sites\",ylab=\"No. of taxa\",main=\"OP0.2B\")\n",
    "boxplot(accum2, col=colors[2], add=TRUE, pch=\"+\")\n",
    "dev.off()\n",
    "\n",
    "# C02\n",
    "accum <- specaccum(cc[c02,], method = \"exact\", permutations = 100, conditioned =TRUE, gamma = \"jack1\", w = NULL)\n",
    "accum2 <- specaccum(cc[c02,], \"random\")\n",
    "png(\"GenomeDK_Metabar/raw_curves/accum_curve.replicates.C02.png\", width=2000, height=2000, res=300)\n",
    "plot(accum, ci.type=\"poly\", col=colors[2], lwd=2, ci.lty=0, ci.col=\"gray\",xlab=\"No. of sites\",ylab=\"No. of taxa\",main=\"OP0.2C\")\n",
    "boxplot(accum2, col=colors[2], add=TRUE, pch=\"+\")\n",
    "dev.off()"
   ]
  },
  {
   "cell_type": "code",
   "execution_count": null,
   "id": "0210c687",
   "metadata": {},
   "outputs": [],
   "source": [
    "# A12\n",
    "accum <- specaccum(cc[a12,], method = \"exact\", permutations = 100, conditioned =TRUE, gamma = \"jack1\", w = NULL)\n",
    "accum2 <- specaccum(cc[a12,], \"random\")\n",
    "png(\"GenomeDK_Metabar/raw_curves/accum_curve.replicates.A12.png\", width=2000, height=2000, res=300)\n",
    "plot(accum, ci.type=\"poly\", col=colors[3], lwd=2, ci.lty=0, ci.col=\"gray\",xlab=\"No. of sites\",ylab=\"No. of taxa\",main=\"OP1.2A\")\n",
    "boxplot(accum2, col=colors[3], add=TRUE, pch=\"+\")\n",
    "dev.off()\n",
    "\n",
    "# B12\n",
    "accum <- specaccum(cc[b12,], method = \"exact\", permutations = 100, conditioned =TRUE, gamma = \"jack1\", w = NULL)\n",
    "accum2 <- specaccum(cc[b12,], \"random\")\n",
    "png(\"GenomeDK_Metabar/raw_curves/accum_curve.replicates.B12.png\", width=2000, height=2000, res=300)\n",
    "plot(accum, ci.type=\"poly\", col=colors[3], lwd=2, ci.lty=0, ci.col=\"gray\",xlab=\"No. of sites\",ylab=\"No. of taxa\",main=\"OP1.2B\")\n",
    "boxplot(accum2, col=colors[3], add=TRUE, pch=\"+\")\n",
    "dev.off()\n",
    "\n",
    "# C12\n",
    "accum <- specaccum(cc[c12,], method = \"exact\", permutations = 100, conditioned =TRUE, gamma = \"jack1\", w = NULL)\n",
    "accum2 <- specaccum(cc[c12,], \"random\")\n",
    "png(\"GenomeDK_Metabar/raw_curves/accum_curve.replicates.C12.png\", width=2000, height=2000, res=300)\n",
    "plot(accum, ci.type=\"poly\", col=colors[3], lwd=2, ci.lty=0, ci.col=\"gray\",xlab=\"No. of sites\",ylab=\"No. of taxa\",main=\"OP1.2C\")\n",
    "boxplot(accum2, col=colors[3], add=TRUE, pch=\"+\")\n",
    "dev.off()"
   ]
  },
  {
   "cell_type": "code",
   "execution_count": null,
   "id": "310038ba",
   "metadata": {},
   "outputs": [],
   "source": [
    "# A50\n",
    "accum <- specaccum(cc[a50,], method = \"exact\", permutations = 100, conditioned =TRUE, gamma = \"jack1\", w = NULL)\n",
    "accum2 <- specaccum(cc[a50,], \"random\")\n",
    "png(\"GenomeDK_Metabar/raw_curves/accum_curve.replicates.A12.png\", width=2000, height=2000, res=300)\n",
    "plot(accum, ci.type=\"poly\", col=colors[4], lwd=2, ci.lty=0, ci.col=\"gray\",xlab=\"No. of sites\",ylab=\"No. of taxa\",main=\"OP5.0A\")\n",
    "boxplot(accum2, col=colors[4], add=TRUE, pch=\"+\")\n",
    "dev.off()\n",
    "\n",
    "# B50\n",
    "accum <- specaccum(cc[b50,], method = \"exact\", permutations = 100, conditioned =TRUE, gamma = \"jack1\", w = NULL)\n",
    "accum2 <- specaccum(cc[b50,], \"random\")\n",
    "png(\"GenomeDK_Metabar/raw_curves/accum_curve.replicates.B50.png\", width=2000, height=2000, res=300)\n",
    "plot(accum, ci.type=\"poly\", col=colors[4], lwd=2, ci.lty=0, ci.col=\"gray\",xlab=\"No. of sites\",ylab=\"No. of taxa\",main=\"OP5.0B\")\n",
    "boxplot(accum2, col=colors[4], add=TRUE, pch=\"+\")\n",
    "dev.off()\n",
    "\n",
    "# C50\n",
    "accum <- specaccum(cc[c50,], method = \"exact\", permutations = 100, conditioned =TRUE, gamma = \"jack1\", w = NULL)\n",
    "accum2 <- specaccum(cc[c50,], \"random\")\n",
    "png(\"GenomeDK_Metabar/raw_curves/accum_curve.replicates.C50.png\", width=2000, height=2000, res=300)\n",
    "plot(accum, ci.type=\"poly\", col=colors[4], lwd=2, ci.lty=0, ci.col=\"gray\",xlab=\"No. of sites\",ylab=\"No. of taxa\",main=\"OP5.0C\")\n",
    "boxplot(accum2, col=colors[4], add=TRUE, pch=\"+\")\n",
    "dev.off()"
   ]
  },
  {
   "cell_type": "code",
   "execution_count": null,
   "id": "de4cc566",
   "metadata": {},
   "outputs": [],
   "source": [
    "# A80\n",
    "accum <- specaccum(cc[a80,], method = \"exact\", permutations = 100, conditioned =TRUE, gamma = \"jack1\", w = NULL)\n",
    "accum2 <- specaccum(cc[a80,], \"random\")\n",
    "png(\"GenomeDK_Metabar/raw_curves/accum_curve.replicates.A80.png\", width=2000, height=2000, res=300)\n",
    "plot(accum, ci.type=\"poly\", col=colors[5], lwd=2, ci.lty=0, ci.col=\"gray\",xlab=\"No. of sites\",ylab=\"No. of taxa\",main=\"OP8.0A\")\n",
    "boxplot(accum2, col=colors[5], add=TRUE, pch=\"+\")\n",
    "dev.off()\n",
    "\n",
    "# B80\n",
    "accum <- specaccum(cc[b80,], method = \"exact\", permutations = 100, conditioned =TRUE, gamma = \"jack1\", w = NULL)\n",
    "accum2 <- specaccum(cc[b80,], \"random\")\n",
    "png(\"GenomeDK_Metabar/raw_curves/accum_curve.replicates.B80.png\", width=2000, height=2000, res=300)\n",
    "plot(accum, ci.type=\"poly\", col=colors[5], lwd=2, ci.lty=0, ci.col=\"gray\",xlab=\"No. of sites\",ylab=\"No. of taxa\",main=\"OP8.0B\")\n",
    "boxplot(accum2, col=colors[5], add=TRUE, pch=\"+\")\n",
    "dev.off()\n",
    "\n",
    "# C80\n",
    "accum <- specaccum(cc[c80,], method = \"exact\", permutations = 100, conditioned =TRUE, gamma = \"jack1\", w = NULL)\n",
    "accum2 <- specaccum(cc[c80,], \"random\")\n",
    "png(\"GenomeDK_Metabar/raw_curves/accum_curve.replicates.C80.png\", width=2000, height=2000, res=300)\n",
    "plot(accum, ci.type=\"poly\", col=colors[5], lwd=2, ci.lty=0, ci.col=\"gray\",xlab=\"No. of sites\",ylab=\"No. of taxa\",main=\"OP8.0C\")\n",
    "boxplot(accum2, col=colors[5], add=TRUE, pch=\"+\")\n",
    "dev.off()"
   ]
  },
  {
   "cell_type": "code",
   "execution_count": null,
   "id": "e8f0144d",
   "metadata": {},
   "outputs": [],
   "source": [
    "# All (Raw)\n",
    "accum <- specaccum(cc, method = \"exact\", permutations = 100, conditioned =TRUE, gamma = \"jack1\", w = NULL)\n",
    "accum2 <- specaccum(cc, \"random\")\n",
    "png(\"GenomeDK_Metabar/accum_curve.raw.png\", width=2000, height=2000, res=300)\n",
    "plot(accum, ci.type=\"poly\", col=\"black\", lwd=2, ci.lty=0, ci.col=\"gold\",xlab=\"No. of sites\",ylab=\"No. of taxa\",main=\"\")\n",
    "boxplot(accum2, col=\"gray\", add=TRUE, pch=\"+\")\n",
    "dev.off()"
   ]
  },
  {
   "cell_type": "markdown",
   "id": "99416b2a",
   "metadata": {},
   "source": [
    "### Rarefaction transformed curves"
   ]
  },
  {
   "cell_type": "code",
   "execution_count": null,
   "id": "0f79bfd7",
   "metadata": {},
   "outputs": [],
   "source": [
    "cs2mr <- metabar_count_clean\n",
    "colnames(cs2mr)[-1] <- paste(\"sample:\", colnames(cs2mr)[-1], sep=\"\")\n",
    "f = 'GenomeDK_Metabar/temporal/all_for_rep_rarefy.txt'\n",
    "write.table(cs2mr, file=f, quote=FALSE, sep='\\t', col.names = NA, row.names=TRUE)"
   ]
  },
  {
   "cell_type": "code",
   "execution_count": null,
   "id": "183a9894",
   "metadata": {},
   "outputs": [],
   "source": [
    "dfimp <- import.metabarcoding.data(f)\n",
    "df_mod <- dfimp$samples %>% mutate(replicate =  dfimp$samples$sample) %>% mutate(sample = gsub(\"_[0-9]\", \"\", dfimp$samples$sample))\n",
    "dfimp@samples = df_mod"
   ]
  },
  {
   "cell_type": "code",
   "execution_count": null,
   "id": "5f918a23",
   "metadata": {},
   "outputs": [],
   "source": [
    "# Rarefy metabarcoding\n",
    "median = median(rowSums(dfimp$reads[dfimp$samples$replicate,]))\n",
    "raw.rarefy = ROBITools::rarefy(dfimp, n=median, MARGIN='sample')\n",
    "tmp = ROBITools:::aggregate.metabarcoding.data(raw.rarefy, by=list(sample=raw.rarefy$samples$sample), FUN=sum)\n",
    "minimum = min(rowSums(tmp$reads[tmp$samples$sample,]))\n",
    "final.rarefy = ROBITools::rarefy(tmp, n=minimum, MARGIN = 'sample')"
   ]
  },
  {
   "cell_type": "markdown",
   "id": "7034277a",
   "metadata": {},
   "source": [
    "**Rarefaction effect**"
   ]
  },
  {
   "cell_type": "code",
   "execution_count": null,
   "id": "7e82d298",
   "metadata": {},
   "outputs": [],
   "source": [
    "# Boxplot: raw metabarcoding counts\n",
    "col <- c(rep(\"#F8766D\",12), rep(\"#B79F00\",12), rep(\"#00BF7D\",12), rep(\"#00B0F6\",12), rep(\"#E76BF3\",12))\n",
    "reads <- as.data.frame(dfimp$reads)\n",
    "reads$id <- rownames(reads)\n",
    "p <- melt(reads, id.vars = \"id\") %>% ggplot() + geom_boxplot(aes(x=id, y=log(value)), color=col) +\n",
    "labs(x=\"Samples\", y=\"Log(Counts)\") +\n",
    "theme_bw() %+replace% theme(axis.text.x = element_text(angle = 90, size=14),\n",
    "                                 axis.text.y = element_text(size=18),\n",
    "                                 axis.title = element_text(size=20),\n",
    "                                 legend.title = element_text(size=18, face=\"bold\"),\n",
    "                                 legend.text = element_text(size=16))\n",
    "\n",
    "png(file=\"GenomeDK_Metabar/boxplot.raw.png\", width=3200, height=2000, res=300)\n",
    "p\n",
    "dev.off()"
   ]
  },
  {
   "cell_type": "code",
   "execution_count": null,
   "id": "b0b00f4f",
   "metadata": {},
   "outputs": [],
   "source": [
    "# Boxplot: median rarefy metabarcoding counts\n",
    "col <- c(rep(\"#F8766D\",12), rep(\"#B79F00\",12), rep(\"#00BF7D\",12), rep(\"#00B0F6\",12), rep(\"#E76BF3\",12))\n",
    "reads <- as.data.frame(raw.rarefy$reads)\n",
    "reads$id <- rownames(reads)\n",
    "p <- melt(reads, id.vars = \"id\") %>% ggplot() + geom_boxplot(aes(x=id, y=log(value)), color=col) +\n",
    "labs(x=\"Samples\", y=\"Log(Counts)\") +\n",
    "theme_bw() %+replace% theme(axis.text.x = element_text(angle = 90, size=14),\n",
    "                                 axis.text.y = element_text(size=18),\n",
    "                                 axis.title = element_text(size=20),\n",
    "                                 legend.title = element_text(size=18, face=\"bold\"),\n",
    "                                 legend.text = element_text(size=16))\n",
    "\n",
    "png(file=\"GenomeDK_Metabar/boxplot.median_rarefy.png\", width=3200, height=2000, res=300)\n",
    "p\n",
    "dev.off()"
   ]
  },
  {
   "cell_type": "code",
   "execution_count": null,
   "id": "b642a08b",
   "metadata": {},
   "outputs": [],
   "source": [
    "# Boxplot: minimum rarefy metabarcoding counts\n",
    "col <- c(rep(\"#F8766D\",3), rep(\"#B79F00\",3), rep(\"#00BF7D\",3), rep(\"#00B0F6\",3), rep(\"#E76BF3\",3))\n",
    "reads <- as.data.frame(final.rarefy$reads)\n",
    "reads$id <- rownames(reads)\n",
    "p <- melt(reads, id.vars = \"id\") %>% ggplot() + geom_boxplot(aes(x=id, y=log(value)), color=col) +\n",
    "labs(x=\"Samples\", y=\"Log(Counts)\") +\n",
    "theme_bw() %+replace% theme(axis.text.x = element_text(angle = 90, size=14),\n",
    "                                 axis.text.y = element_text(size=18),\n",
    "                                 axis.title = element_text(size=20),\n",
    "                                 legend.title = element_text(size=18, face=\"bold\"),\n",
    "                                 legend.text = element_text(size=16))\n",
    "\n",
    "png(file=\"GenomeDK_Metabar/boxplot.minimum_rarefy.png\", width=2300, height=2000, res=300)\n",
    "p\n",
    "dev.off()"
   ]
  },
  {
   "cell_type": "markdown",
   "id": "c25963ba",
   "metadata": {},
   "source": [
    "**Curves**"
   ]
  },
  {
   "cell_type": "code",
   "execution_count": null,
   "id": "621c6087",
   "metadata": {},
   "outputs": [],
   "source": [
    "# GP1\n",
    "png(\"GenomeDK_Metabar/rarefied_curves/rarefied_curve.replicates.GP1.png\", width=2000, height=2000, res=300)\n",
    "rarecurve(raw.rarefy@reads[gp1,], step = 20, col = colors[1], cex = 0.6, ylab=\"No. of taxa\")\n",
    "dev.off()\n",
    "\n",
    "# GP2\n",
    "png(\"GenomeDK_Metabar/rarefied_curves/rarefied_curve.replicates.GP2.png\", width=2000, height=2000, res=300)\n",
    "rarecurve(raw.rarefy@reads[gp2,], step = 20, col = colors[1], cex = 0.6, ylab=\"No. of taxa\")\n",
    "dev.off()\n",
    "\n",
    "# GP3\n",
    "png(\"GenomeDK_Metabar/rarefied_curves/rarefied_curve.replicates.GP3.png\", width=2000, height=2000, res=300)\n",
    "rarecurve(raw.rarefy@reads[gp3,], step = 20, col = colors[1], cex = 0.6, ylab=\"No. of taxa\")\n",
    "dev.off()"
   ]
  },
  {
   "cell_type": "code",
   "execution_count": null,
   "id": "d1fb9e87",
   "metadata": {},
   "outputs": [],
   "source": [
    "# A02\n",
    "png(\"GenomeDK_Metabar/rarefied_curves/rarefied_curve.replicates.A02.png\", width=2000, height=2000, res=300)\n",
    "rarecurve(raw.rarefy@reads[a02,], step = 20, col = colors[2], cex = 0.6, ylab=\"No. of taxa\")\n",
    "dev.off()\n",
    "\n",
    "# B02\n",
    "png(\"GenomeDK_Metabar/rarefied_curves/rarefied_curve.replicates.B02.png\", width=2000, height=2000, res=300)\n",
    "rarecurve(raw.rarefy@reads[b02,], step = 20, col = colors[2], cex = 0.6, ylab=\"No. of taxa\")\n",
    "dev.off()\n",
    "\n",
    "# C02\n",
    "png(\"GenomeDK_Metabar/rarefied_curves/rarefied_curve.replicates.C02.png\", width=2000, height=2000, res=300)\n",
    "rarecurve(raw.rarefy@reads[c02,], step = 20, col = colors[2], cex = 0.6, ylab=\"No. of taxa\")\n",
    "dev.off()"
   ]
  },
  {
   "cell_type": "code",
   "execution_count": null,
   "id": "a65a8375",
   "metadata": {},
   "outputs": [],
   "source": [
    "# A12\n",
    "png(\"GenomeDK_Metabar/rarefied_curves/rarefied_curve.replicates.A12.png\", width=2000, height=2000, res=300)\n",
    "rarecurve(raw.rarefy@reads[a12,], step = 20, col = colors[3], cex = 0.6, ylab=\"No. of taxa\")\n",
    "dev.off()\n",
    "\n",
    "# B12\n",
    "png(\"GenomeDK_Metabar/rarefied_curves/rarefied_curve.replicates.B12.png\", width=2000, height=2000, res=300)\n",
    "rarecurve(raw.rarefy@reads[b12,], step = 20, col = colors[3], cex = 0.6, ylab=\"No. of taxa\")\n",
    "dev.off()\n",
    "\n",
    "# C12\n",
    "png(\"GenomeDK_Metabar/rarefied_curves/rarefied_curve.replicates.C12.png\", width=2000, height=2000, res=300)\n",
    "rarecurve(raw.rarefy@reads[c12,], step = 20, col = colors[3], cex = 0.6, ylab=\"No. of taxa\")\n",
    "dev.off()"
   ]
  },
  {
   "cell_type": "code",
   "execution_count": null,
   "id": "27634a61",
   "metadata": {},
   "outputs": [],
   "source": [
    "# A50\n",
    "png(\"GenomeDK_Metabar/rarefied_curves/rarefied_curve.replicates.A50.png\", width=2000, height=2000, res=300)\n",
    "rarecurve(raw.rarefy@reads[a50,], step = 20, col = colors[4], cex = 0.6, ylab=\"No. of taxa\")\n",
    "dev.off()\n",
    "\n",
    "# B50\n",
    "png(\"GenomeDK_Metabar/rarefied_curves/rarefied_curve.replicates.B50.png\", width=2000, height=2000, res=300)\n",
    "rarecurve(raw.rarefy@reads[b50,], step = 20, col = colors[4], cex = 0.6, ylab=\"No. of taxa\")\n",
    "dev.off()\n",
    "\n",
    "# C50\n",
    "png(\"GenomeDK_Metabar/rarefied_curves/rarefied_curve.replicates.C50.png\", width=2000, height=2000, res=300)\n",
    "rarecurve(raw.rarefy@reads[c50,], step = 20, col = colors[4], cex = 0.6, ylab=\"No. of taxa\")\n",
    "dev.off()"
   ]
  },
  {
   "cell_type": "code",
   "execution_count": null,
   "id": "86a61efb",
   "metadata": {},
   "outputs": [],
   "source": [
    "# A80\n",
    "png(\"GenomeDK_Metabar/rarefied_curves/rarefied_curve.replicates.A80.png\", width=2000, height=2000, res=300)\n",
    "rarecurve(raw.rarefy@reads[a80,], step = 20, col = colors[5], cex = 0.6, ylab=\"No. of taxa\")\n",
    "dev.off()\n",
    "\n",
    "# B80\n",
    "png(\"GenomeDK_Metabar/rarefied_curves/rarefied_curve.replicates.B80.png\", width=2000, height=2000, res=300)\n",
    "rarecurve(raw.rarefy@reads[b80,], step = 20, col = colors[5], cex = 0.6, ylab=\"No. of taxa\")\n",
    "dev.off()\n",
    "\n",
    "# C80\n",
    "png(\"GenomeDK_Metabar/rarefied_curves/rarefied_curve.replicates.C80.png\", width=2000, height=2000, res=300)\n",
    "rarecurve(raw.rarefy@reads[c80,], step = 20, col = colors[5], cex = 0.6, ylab=\"No. of taxa\")\n",
    "dev.off()"
   ]
  },
  {
   "cell_type": "code",
   "execution_count": null,
   "id": "ba8932c6",
   "metadata": {},
   "outputs": [],
   "source": [
    "# All samples\n",
    "col <- c(rep(\"#F8766D\",3), rep(\"#B79F00\",3), rep(\"#00BF7D\",3), rep(\"#00B0F6\",3), rep(\"#E76BF3\",3))\n",
    "png(\"GenomeDK_Metabar/rarefied_curves/rarefied_curve.all.png\", width=2000, height=2000, res=300)\n",
    "rarecurve(final.rarefy@reads, step = 20, col = col , cex = 0.6, ylab=\"No. of taxa\")\n",
    "dev.off()"
   ]
  }
 ],
 "metadata": {
  "kernelspec": {
   "display_name": "R",
   "language": "R",
   "name": "ir"
  },
  "language_info": {
   "codemirror_mode": "r",
   "file_extension": ".r",
   "mimetype": "text/x-r-source",
   "name": "R",
   "pygments_lexer": "r",
   "version": "4.2.2"
  }
 },
 "nbformat": 4,
 "nbformat_minor": 5
}
