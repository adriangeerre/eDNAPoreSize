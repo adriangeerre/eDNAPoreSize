{
 "cells": [
  {
   "cell_type": "markdown",
   "id": "392ca505",
   "metadata": {},
   "source": [
    "# Distributions"
   ]
  },
  {
   "cell_type": "code",
   "execution_count": null,
   "id": "ee19a3ad",
   "metadata": {},
   "outputs": [],
   "source": [
    "# Inside the folders (03-Blast & 04-FilterBlast) we run:\n",
    "# ls | grep -v \".tsv\" | xargs -I {} sh -c \"cat {}/* | cut -f 4 > lens.{}.tsv\" & # Alig. Length\n",
    "# ls | grep -v \".tsv\" | xargs -I {} sh -c \"cat {}/* | cut -f 3 > pident.{}.tsv\" & # Perc. Identity\n",
    "# ls | grep -v \".tsv\" | xargs -I {} sh -c \"cat {}/* | cut -f 17 > qcovs.{}.tsv\" & # Query Coverage"
   ]
  },
  {
   "cell_type": "code",
   "execution_count": 2,
   "id": "34513837",
   "metadata": {},
   "outputs": [],
   "source": [
    "# Library\n",
    "library(tidyverse)"
   ]
  },
  {
   "cell_type": "code",
   "execution_count": 32,
   "id": "755efe5d",
   "metadata": {},
   "outputs": [],
   "source": [
    "# Colors:\n",
    "# GP: \"#F8766D\"\n",
    "# 0.2: \"#B79F00\"\n",
    "# 1.2: \"#00BF7D\"\n",
    "# 5.0: \"#00B0F6\"\n",
    "# 8:0 \"#E76BF3\""
   ]
  },
  {
   "cell_type": "code",
   "execution_count": 4,
   "id": "9838a1b4",
   "metadata": {},
   "outputs": [],
   "source": [
    "# Define samples and colors\n",
    "s <- c('GP_1','GP_2','GP_3','A0_2','B0_2','C0_2','A1_2','B1_2','C1_2','A5_0','B5_0','C5_0','A8_0','B8_0','C8_0')\n",
    "c <- c(rep(\"#F8766D\",3), rep(\"#B79F00\",3), rep(\"#00BF7D\",3), rep(\"#00B0F6\",3), rep(\"#E76BF3\",3))\n",
    "names(c) <- s"
   ]
  },
  {
   "cell_type": "markdown",
   "id": "fce04285",
   "metadata": {},
   "source": [
    "## Length: Plot lengths pre and after filtering"
   ]
  },
  {
   "cell_type": "code",
   "execution_count": 4,
   "id": "3481aa9e",
   "metadata": {},
   "outputs": [],
   "source": [
    "histo_lens <- function(sample, color) {\n",
    "    # Rename sample\n",
    "    oldnames <- c('GP_1','GP_2','GP_3','A0_2','B0_2','C0_2','A1_2','B1_2','C1_2','A5_0','B5_0','C5_0','A8_0','B8_0','C8_0')\n",
    "    newnames <- c('EN0.2A','EN0.2B','EN0.2C','OP0.2A','OP0.2B','OP0.2C','OP1.2A','OP1.2B','OP1.2C','OP5.0A','OP5.0B','OP5.0C','OP8.0A','OP8.0B','OP8.0C')\n",
    "    names(newnames) <- oldnames\n",
    "    name <- newnames[sample]\n",
    "    # Read files\n",
    "    pre = read.table(paste(\"03-Blast/lens.\", sample, \".tsv\", sep=\"\"))\n",
    "    pst = read.table(paste(\"04-FilterBlast/lens.post_filter.\", sample, \".tsv\", sep=\"\"))\n",
    "    # Histogram\n",
    "    p <- ggplot() + \n",
    "        geom_histogram(data=pre, aes(x=V1), bins=100, fill=color, color=\"lightgray\") +\n",
    "        geom_histogram(data=pst, aes(x=V1), bins=100, fill=color, color = \"black\") +\n",
    "        labs(x=\"Alignment length\", y=\"Count\", title=paste(\"Length: \", name, sep=\"\")) +\n",
    "        theme_classic() %+replace% theme(axis.text = element_text(size=16),\n",
    "                                 axis.title = element_text(size=18),\n",
    "                                 title = element_text(size=22, face=\"bold\"))\n",
    "    # Return\n",
    "    return(p)\n",
    "}"
   ]
  },
  {
   "cell_type": "code",
   "execution_count": 5,
   "id": "807d1c98",
   "metadata": {},
   "outputs": [
    {
     "data": {
      "text/html": [
       "<strong>png:</strong> 2"
      ],
      "text/latex": [
       "\\textbf{png:} 2"
      ],
      "text/markdown": [
       "**png:** 2"
      ],
      "text/plain": [
       "png \n",
       "  2 "
      ]
     },
     "metadata": {},
     "output_type": "display_data"
    }
   ],
   "source": [
    "p <- histo_lens(\"GP_1\", \"#F8766D\")\n",
    "# Save figure\n",
    "png(file=paste(\"07-Plots/lens.GP_1.png\", sep=\"\"), width=2300, height=2000, res=300)\n",
    "p\n",
    "dev.off()"
   ]
  },
  {
   "cell_type": "code",
   "execution_count": 6,
   "id": "95808936",
   "metadata": {},
   "outputs": [
    {
     "data": {
      "text/html": [
       "<strong>png:</strong> 2"
      ],
      "text/latex": [
       "\\textbf{png:} 2"
      ],
      "text/markdown": [
       "**png:** 2"
      ],
      "text/plain": [
       "png \n",
       "  2 "
      ]
     },
     "metadata": {},
     "output_type": "display_data"
    }
   ],
   "source": [
    "p <- histo_lens(\"GP_2\", \"#F8766D\")\n",
    "# Save figure\n",
    "png(file=paste(\"07-Plots/lens.GP_2.png\", sep=\"\"), width=2300, height=2000, res=300)\n",
    "p\n",
    "dev.off()"
   ]
  },
  {
   "cell_type": "code",
   "execution_count": 7,
   "id": "6cd225c7",
   "metadata": {},
   "outputs": [
    {
     "data": {
      "text/html": [
       "<strong>png:</strong> 2"
      ],
      "text/latex": [
       "\\textbf{png:} 2"
      ],
      "text/markdown": [
       "**png:** 2"
      ],
      "text/plain": [
       "png \n",
       "  2 "
      ]
     },
     "metadata": {},
     "output_type": "display_data"
    }
   ],
   "source": [
    "p <- histo_lens(\"GP_3\", \"#F8766D\")\n",
    "# Save figure\n",
    "png(file=paste(\"07-Plots/lens.GP_3.png\", sep=\"\"), width=2300, height=2000, res=300)\n",
    "p\n",
    "dev.off()"
   ]
  },
  {
   "cell_type": "code",
   "execution_count": 8,
   "id": "322aefda",
   "metadata": {},
   "outputs": [
    {
     "data": {
      "text/html": [
       "<strong>png:</strong> 2"
      ],
      "text/latex": [
       "\\textbf{png:} 2"
      ],
      "text/markdown": [
       "**png:** 2"
      ],
      "text/plain": [
       "png \n",
       "  2 "
      ]
     },
     "metadata": {},
     "output_type": "display_data"
    }
   ],
   "source": [
    "p <- histo_lens(\"A0_2\", \"#B79F00\")\n",
    "# Save figure\n",
    "png(file=paste(\"07-Plots/lens.A0_2.png\", sep=\"\"), width=2300, height=2000, res=300)\n",
    "p\n",
    "dev.off()"
   ]
  },
  {
   "cell_type": "code",
   "execution_count": 9,
   "id": "193f9d10",
   "metadata": {},
   "outputs": [
    {
     "data": {
      "text/html": [
       "<strong>png:</strong> 2"
      ],
      "text/latex": [
       "\\textbf{png:} 2"
      ],
      "text/markdown": [
       "**png:** 2"
      ],
      "text/plain": [
       "png \n",
       "  2 "
      ]
     },
     "metadata": {},
     "output_type": "display_data"
    }
   ],
   "source": [
    "p <- histo_lens(\"B0_2\", \"#B79F00\")\n",
    "# Save figure\n",
    "png(file=paste(\"07-Plots/lens.B0_2.png\", sep=\"\"), width=2300, height=2000, res=300)\n",
    "p\n",
    "dev.off()"
   ]
  },
  {
   "cell_type": "code",
   "execution_count": 10,
   "id": "7b319010",
   "metadata": {},
   "outputs": [
    {
     "data": {
      "text/html": [
       "<strong>png:</strong> 2"
      ],
      "text/latex": [
       "\\textbf{png:} 2"
      ],
      "text/markdown": [
       "**png:** 2"
      ],
      "text/plain": [
       "png \n",
       "  2 "
      ]
     },
     "metadata": {},
     "output_type": "display_data"
    }
   ],
   "source": [
    "p <- histo_lens(\"C0_2\", \"#B79F00\")\n",
    "# Save figure\n",
    "png(file=paste(\"07-Plots/lens.C0_2.png\", sep=\"\"), width=2300, height=2000, res=300)\n",
    "p\n",
    "dev.off()"
   ]
  },
  {
   "cell_type": "code",
   "execution_count": 11,
   "id": "a41a3191",
   "metadata": {},
   "outputs": [
    {
     "data": {
      "text/html": [
       "<strong>png:</strong> 2"
      ],
      "text/latex": [
       "\\textbf{png:} 2"
      ],
      "text/markdown": [
       "**png:** 2"
      ],
      "text/plain": [
       "png \n",
       "  2 "
      ]
     },
     "metadata": {},
     "output_type": "display_data"
    }
   ],
   "source": [
    "p <- histo_lens(\"A1_2\",\"#00BF7D\")\n",
    "# Save figure\n",
    "png(file=paste(\"07-Plots/lens.A1_2.png\", sep=\"\"), width=2300, height=2000, res=300)\n",
    "p\n",
    "dev.off()"
   ]
  },
  {
   "cell_type": "code",
   "execution_count": 12,
   "id": "e223fc98",
   "metadata": {},
   "outputs": [
    {
     "data": {
      "text/html": [
       "<strong>png:</strong> 2"
      ],
      "text/latex": [
       "\\textbf{png:} 2"
      ],
      "text/markdown": [
       "**png:** 2"
      ],
      "text/plain": [
       "png \n",
       "  2 "
      ]
     },
     "metadata": {},
     "output_type": "display_data"
    }
   ],
   "source": [
    "p <- histo_lens(\"B1_2\",\"#00BF7D\")\n",
    "# Save figure\n",
    "png(file=paste(\"07-Plots/lens.B1_2.png\", sep=\"\"), width=2300, height=2000, res=300)\n",
    "p\n",
    "dev.off()"
   ]
  },
  {
   "cell_type": "code",
   "execution_count": 13,
   "id": "677eab38",
   "metadata": {},
   "outputs": [
    {
     "data": {
      "text/html": [
       "<strong>png:</strong> 2"
      ],
      "text/latex": [
       "\\textbf{png:} 2"
      ],
      "text/markdown": [
       "**png:** 2"
      ],
      "text/plain": [
       "png \n",
       "  2 "
      ]
     },
     "metadata": {},
     "output_type": "display_data"
    }
   ],
   "source": [
    "p <- histo_lens(\"C1_2\",\"#00BF7D\")\n",
    "# Save figure\n",
    "png(file=paste(\"07-Plots/lens.C1_2.png\", sep=\"\"), width=2300, height=2000, res=300)\n",
    "p\n",
    "dev.off()"
   ]
  },
  {
   "cell_type": "code",
   "execution_count": 14,
   "id": "e0c13feb",
   "metadata": {},
   "outputs": [
    {
     "data": {
      "text/html": [
       "<strong>png:</strong> 2"
      ],
      "text/latex": [
       "\\textbf{png:} 2"
      ],
      "text/markdown": [
       "**png:** 2"
      ],
      "text/plain": [
       "png \n",
       "  2 "
      ]
     },
     "metadata": {},
     "output_type": "display_data"
    }
   ],
   "source": [
    "p <- histo_lens(\"A5_0\",\"#00B0F6\")\n",
    "# Save figure\n",
    "png(file=paste(\"07-Plots/lens.A5_0.png\", sep=\"\"), width=2300, height=2000, res=300)\n",
    "p\n",
    "dev.off()"
   ]
  },
  {
   "cell_type": "code",
   "execution_count": 15,
   "id": "3788cc88",
   "metadata": {},
   "outputs": [
    {
     "data": {
      "text/html": [
       "<strong>png:</strong> 2"
      ],
      "text/latex": [
       "\\textbf{png:} 2"
      ],
      "text/markdown": [
       "**png:** 2"
      ],
      "text/plain": [
       "png \n",
       "  2 "
      ]
     },
     "metadata": {},
     "output_type": "display_data"
    }
   ],
   "source": [
    "p <- histo_lens(\"B5_0\",\"#00B0F6\")\n",
    "# Save figure\n",
    "png(file=paste(\"07-Plots/lens.B5_0.png\", sep=\"\"), width=2300, height=2000, res=300)\n",
    "p\n",
    "dev.off()"
   ]
  },
  {
   "cell_type": "code",
   "execution_count": 16,
   "id": "8b5d1c3f",
   "metadata": {},
   "outputs": [
    {
     "data": {
      "text/html": [
       "<strong>png:</strong> 2"
      ],
      "text/latex": [
       "\\textbf{png:} 2"
      ],
      "text/markdown": [
       "**png:** 2"
      ],
      "text/plain": [
       "png \n",
       "  2 "
      ]
     },
     "metadata": {},
     "output_type": "display_data"
    }
   ],
   "source": [
    "p <- histo_lens(\"C5_0\",\"#00B0F6\")\n",
    "# Save figure\n",
    "png(file=paste(\"07-Plots/lens.C5_0.png\", sep=\"\"), width=2300, height=2000, res=300)\n",
    "p\n",
    "dev.off()"
   ]
  },
  {
   "cell_type": "code",
   "execution_count": 17,
   "id": "2fca30f6",
   "metadata": {},
   "outputs": [
    {
     "data": {
      "text/html": [
       "<strong>png:</strong> 2"
      ],
      "text/latex": [
       "\\textbf{png:} 2"
      ],
      "text/markdown": [
       "**png:** 2"
      ],
      "text/plain": [
       "png \n",
       "  2 "
      ]
     },
     "metadata": {},
     "output_type": "display_data"
    }
   ],
   "source": [
    "p <- histo_lens(\"A8_0\",\"#E76BF3\")\n",
    "# Save figure\n",
    "png(file=paste(\"07-Plots/lens.A8_0.png\", sep=\"\"), width=2300, height=2000, res=300)\n",
    "p\n",
    "dev.off()"
   ]
  },
  {
   "cell_type": "code",
   "execution_count": 18,
   "id": "e8e73403",
   "metadata": {},
   "outputs": [
    {
     "data": {
      "text/html": [
       "<strong>png:</strong> 2"
      ],
      "text/latex": [
       "\\textbf{png:} 2"
      ],
      "text/markdown": [
       "**png:** 2"
      ],
      "text/plain": [
       "png \n",
       "  2 "
      ]
     },
     "metadata": {},
     "output_type": "display_data"
    }
   ],
   "source": [
    "p <- histo_lens(\"B8_0\",\"#E76BF3\")\n",
    "# Save figure\n",
    "png(file=paste(\"07-Plots/lens.B8_0.png\", sep=\"\"), width=2300, height=2000, res=300)\n",
    "p\n",
    "dev.off()"
   ]
  },
  {
   "cell_type": "code",
   "execution_count": 19,
   "id": "bd44ad9a",
   "metadata": {},
   "outputs": [
    {
     "data": {
      "text/html": [
       "<strong>png:</strong> 2"
      ],
      "text/latex": [
       "\\textbf{png:} 2"
      ],
      "text/markdown": [
       "**png:** 2"
      ],
      "text/plain": [
       "png \n",
       "  2 "
      ]
     },
     "metadata": {},
     "output_type": "display_data"
    }
   ],
   "source": [
    "p <- histo_lens(\"C8_0\",\"#E76BF3\")\n",
    "# Save figure\n",
    "png(file=paste(\"07-Plots/lens.C8_0.png\", sep=\"\"), width=2300, height=2000, res=300)\n",
    "p\n",
    "dev.off()"
   ]
  },
  {
   "cell_type": "markdown",
   "id": "f473de22",
   "metadata": {},
   "source": [
    "## Pident: Plot lengths pre and after filtering"
   ]
  },
  {
   "cell_type": "code",
   "execution_count": 20,
   "id": "2ab308ab",
   "metadata": {},
   "outputs": [],
   "source": [
    "histo_pident <- function(sample, color) {\n",
    "    # Rename sample\n",
    "    oldnames <- c('GP_1','GP_2','GP_3','A0_2','B0_2','C0_2','A1_2','B1_2','C1_2','A5_0','B5_0','C5_0','A8_0','B8_0','C8_0')\n",
    "    newnames <- c('EN0.2A','EN0.2B','EN0.2C','OP0.2A','OP0.2B','OP0.2C','OP1.2A','OP1.2B','OP1.2C','OP5.0A','OP5.0B','OP5.0C','OP8.0A','OP8.0B','OP8.0C')\n",
    "    names(newnames) <- oldnames\n",
    "    name <- newnames[sample]\n",
    "    # Read files\n",
    "    pre = read.table(paste(\"03-Blast/pident.\", sample, \".tsv\", sep=\"\"))\n",
    "    pst = read.table(paste(\"04-FilterBlast/pident.post_filter.\", sample, \".tsv\", sep=\"\"))\n",
    "    # Histogram\n",
    "    p <- ggplot() + \n",
    "        geom_histogram(data=pre, aes(x=V1), bins=100, fill=color, color=\"lightgray\") +\n",
    "        geom_histogram(data=pst, aes(x=V1), bins=100, fill=color, color = \"black\") +\n",
    "        labs(x=\"Perc. Identity\", y=\"Count\", title=paste(\"Identity: \", name, sep=\"\")) +\n",
    "        theme_classic() %+replace% theme(axis.text = element_text(size=16),\n",
    "                                 axis.title = element_text(size=18),\n",
    "                                 title = element_text(size=22, face=\"bold\"))\n",
    "    # Return\n",
    "    return(p)\n",
    "}"
   ]
  },
  {
   "cell_type": "code",
   "execution_count": 36,
   "id": "15244558",
   "metadata": {},
   "outputs": [],
   "source": [
    "# IT DOESNT WORK\n",
    "\n",
    "# Draw and save plots\n",
    "# for (a in names(c[c(2,3)])) {\n",
    "#     message(a)\n",
    "#     b = c[a][[1]]\n",
    "#     p <- histo_pident(a, b)\n",
    "#     # Save figure\n",
    "#     png(file=paste(\"07-Plots/pident.\", a, \".png\", sep=\"\"), width=2300, height=2000, res=300)\n",
    "#     p\n",
    "#     dev.off()\n",
    "# }"
   ]
  },
  {
   "cell_type": "code",
   "execution_count": 21,
   "id": "2a11a8ac",
   "metadata": {},
   "outputs": [
    {
     "data": {
      "text/html": [
       "<strong>png:</strong> 2"
      ],
      "text/latex": [
       "\\textbf{png:} 2"
      ],
      "text/markdown": [
       "**png:** 2"
      ],
      "text/plain": [
       "png \n",
       "  2 "
      ]
     },
     "metadata": {},
     "output_type": "display_data"
    }
   ],
   "source": [
    "p <- histo_pident(\"GP_1\", \"#F8766D\")\n",
    "# Save figure\n",
    "png(file=paste(\"07-Plots/pident.GP_1.png\", sep=\"\"), width=2300, height=2000, res=300)\n",
    "p\n",
    "dev.off()"
   ]
  },
  {
   "cell_type": "code",
   "execution_count": 22,
   "id": "a89bb575",
   "metadata": {},
   "outputs": [
    {
     "data": {
      "text/html": [
       "<strong>png:</strong> 2"
      ],
      "text/latex": [
       "\\textbf{png:} 2"
      ],
      "text/markdown": [
       "**png:** 2"
      ],
      "text/plain": [
       "png \n",
       "  2 "
      ]
     },
     "metadata": {},
     "output_type": "display_data"
    }
   ],
   "source": [
    "p <- histo_pident(\"GP_2\", \"#F8766D\")\n",
    "# Save figure\n",
    "png(file=paste(\"07-Plots/pident.GP_2.png\", sep=\"\"), width=2300, height=2000, res=300)\n",
    "p\n",
    "dev.off()"
   ]
  },
  {
   "cell_type": "code",
   "execution_count": 23,
   "id": "280ebf8c",
   "metadata": {},
   "outputs": [
    {
     "data": {
      "text/html": [
       "<strong>png:</strong> 2"
      ],
      "text/latex": [
       "\\textbf{png:} 2"
      ],
      "text/markdown": [
       "**png:** 2"
      ],
      "text/plain": [
       "png \n",
       "  2 "
      ]
     },
     "metadata": {},
     "output_type": "display_data"
    }
   ],
   "source": [
    "p <- histo_pident(\"GP_3\", \"#F8766D\")\n",
    "# Save figure\n",
    "png(file=paste(\"07-Plots/pident.GP_3.png\", sep=\"\"), width=2300, height=2000, res=300)\n",
    "p\n",
    "dev.off()"
   ]
  },
  {
   "cell_type": "code",
   "execution_count": 24,
   "id": "fcac7d21",
   "metadata": {},
   "outputs": [
    {
     "data": {
      "text/html": [
       "<strong>png:</strong> 2"
      ],
      "text/latex": [
       "\\textbf{png:} 2"
      ],
      "text/markdown": [
       "**png:** 2"
      ],
      "text/plain": [
       "png \n",
       "  2 "
      ]
     },
     "metadata": {},
     "output_type": "display_data"
    }
   ],
   "source": [
    "p <- histo_pident(\"A0_2\", \"#B79F00\")\n",
    "# Save figure\n",
    "png(file=paste(\"07-Plots/pident.A0_2.png\", sep=\"\"), width=2300, height=2000, res=300)\n",
    "p\n",
    "dev.off()"
   ]
  },
  {
   "cell_type": "code",
   "execution_count": 25,
   "id": "013de0f4",
   "metadata": {},
   "outputs": [
    {
     "data": {
      "text/html": [
       "<strong>png:</strong> 2"
      ],
      "text/latex": [
       "\\textbf{png:} 2"
      ],
      "text/markdown": [
       "**png:** 2"
      ],
      "text/plain": [
       "png \n",
       "  2 "
      ]
     },
     "metadata": {},
     "output_type": "display_data"
    }
   ],
   "source": [
    "p <- histo_pident(\"B0_2\", \"#B79F00\")\n",
    "# Save figure\n",
    "png(file=paste(\"07-Plots/pident.B0_2.png\", sep=\"\"), width=2300, height=2000, res=300)\n",
    "p\n",
    "dev.off()"
   ]
  },
  {
   "cell_type": "code",
   "execution_count": 26,
   "id": "99d6e432",
   "metadata": {},
   "outputs": [
    {
     "data": {
      "text/html": [
       "<strong>png:</strong> 2"
      ],
      "text/latex": [
       "\\textbf{png:} 2"
      ],
      "text/markdown": [
       "**png:** 2"
      ],
      "text/plain": [
       "png \n",
       "  2 "
      ]
     },
     "metadata": {},
     "output_type": "display_data"
    }
   ],
   "source": [
    "p <- histo_pident(\"C0_2\", \"#B79F00\")\n",
    "# Save figure\n",
    "png(file=paste(\"07-Plots/pident.C0_2.png\", sep=\"\"), width=2300, height=2000, res=300)\n",
    "p\n",
    "dev.off()"
   ]
  },
  {
   "cell_type": "code",
   "execution_count": 27,
   "id": "2e757f69",
   "metadata": {},
   "outputs": [
    {
     "data": {
      "text/html": [
       "<strong>png:</strong> 2"
      ],
      "text/latex": [
       "\\textbf{png:} 2"
      ],
      "text/markdown": [
       "**png:** 2"
      ],
      "text/plain": [
       "png \n",
       "  2 "
      ]
     },
     "metadata": {},
     "output_type": "display_data"
    }
   ],
   "source": [
    "p <- histo_pident(\"A1_2\",\"#00BF7D\")\n",
    "# Save figure\n",
    "png(file=paste(\"07-Plots/pident.A1_2.png\", sep=\"\"), width=2300, height=2000, res=300)\n",
    "p\n",
    "dev.off()"
   ]
  },
  {
   "cell_type": "code",
   "execution_count": 28,
   "id": "f4d6d272",
   "metadata": {},
   "outputs": [
    {
     "data": {
      "text/html": [
       "<strong>png:</strong> 2"
      ],
      "text/latex": [
       "\\textbf{png:} 2"
      ],
      "text/markdown": [
       "**png:** 2"
      ],
      "text/plain": [
       "png \n",
       "  2 "
      ]
     },
     "metadata": {},
     "output_type": "display_data"
    }
   ],
   "source": [
    "p <- histo_pident(\"B1_2\",\"#00BF7D\")\n",
    "# Save figure\n",
    "png(file=paste(\"07-Plots/pident.B1_2.png\", sep=\"\"), width=2300, height=2000, res=300)\n",
    "p\n",
    "dev.off()"
   ]
  },
  {
   "cell_type": "code",
   "execution_count": 29,
   "id": "5dc0bd43",
   "metadata": {},
   "outputs": [
    {
     "data": {
      "text/html": [
       "<strong>png:</strong> 2"
      ],
      "text/latex": [
       "\\textbf{png:} 2"
      ],
      "text/markdown": [
       "**png:** 2"
      ],
      "text/plain": [
       "png \n",
       "  2 "
      ]
     },
     "metadata": {},
     "output_type": "display_data"
    }
   ],
   "source": [
    "p <- histo_pident(\"C1_2\",\"#00BF7D\")\n",
    "# Save figure\n",
    "png(file=paste(\"07-Plots/pident.C1_2.png\", sep=\"\"), width=2300, height=2000, res=300)\n",
    "p\n",
    "dev.off()"
   ]
  },
  {
   "cell_type": "code",
   "execution_count": 30,
   "id": "69f41f22",
   "metadata": {},
   "outputs": [
    {
     "data": {
      "text/html": [
       "<strong>png:</strong> 2"
      ],
      "text/latex": [
       "\\textbf{png:} 2"
      ],
      "text/markdown": [
       "**png:** 2"
      ],
      "text/plain": [
       "png \n",
       "  2 "
      ]
     },
     "metadata": {},
     "output_type": "display_data"
    }
   ],
   "source": [
    "p <- histo_pident(\"A5_0\",\"#00B0F6\")\n",
    "# Save figure\n",
    "png(file=paste(\"07-Plots/pident.A5_0.png\", sep=\"\"), width=2300, height=2000, res=300)\n",
    "p\n",
    "dev.off()"
   ]
  },
  {
   "cell_type": "code",
   "execution_count": 32,
   "id": "75e5914a",
   "metadata": {},
   "outputs": [
    {
     "data": {
      "text/html": [
       "<strong>png:</strong> 2"
      ],
      "text/latex": [
       "\\textbf{png:} 2"
      ],
      "text/markdown": [
       "**png:** 2"
      ],
      "text/plain": [
       "png \n",
       "  2 "
      ]
     },
     "metadata": {},
     "output_type": "display_data"
    }
   ],
   "source": [
    "p <- histo_pident(\"B5_0\",\"#00B0F6\")\n",
    "# Save figure\n",
    "png(file=paste(\"07-Plots/pident.B5_0.png\", sep=\"\"), width=2300, height=2000, res=300)\n",
    "p\n",
    "dev.off()"
   ]
  },
  {
   "cell_type": "code",
   "execution_count": 31,
   "id": "633e9e94",
   "metadata": {},
   "outputs": [
    {
     "data": {
      "text/html": [
       "<strong>png:</strong> 2"
      ],
      "text/latex": [
       "\\textbf{png:} 2"
      ],
      "text/markdown": [
       "**png:** 2"
      ],
      "text/plain": [
       "png \n",
       "  2 "
      ]
     },
     "metadata": {},
     "output_type": "display_data"
    }
   ],
   "source": [
    "p <- histo_pident(\"C5_0\",\"#00B0F6\")\n",
    "# Save figure\n",
    "png(file=paste(\"07-Plots/pident.C5_0.png\", sep=\"\"), width=2300, height=2000, res=300)\n",
    "p\n",
    "dev.off()"
   ]
  },
  {
   "cell_type": "code",
   "execution_count": 33,
   "id": "c4af95b4",
   "metadata": {},
   "outputs": [
    {
     "data": {
      "text/html": [
       "<strong>png:</strong> 2"
      ],
      "text/latex": [
       "\\textbf{png:} 2"
      ],
      "text/markdown": [
       "**png:** 2"
      ],
      "text/plain": [
       "png \n",
       "  2 "
      ]
     },
     "metadata": {},
     "output_type": "display_data"
    }
   ],
   "source": [
    "p <- histo_pident(\"A8_0\",\"#E76BF3\")\n",
    "# Save figure\n",
    "png(file=paste(\"07-Plots/pident.A8_0.png\", sep=\"\"), width=2300, height=2000, res=300)\n",
    "p\n",
    "dev.off()"
   ]
  },
  {
   "cell_type": "code",
   "execution_count": 34,
   "id": "4c069f67",
   "metadata": {},
   "outputs": [
    {
     "data": {
      "text/html": [
       "<strong>png:</strong> 2"
      ],
      "text/latex": [
       "\\textbf{png:} 2"
      ],
      "text/markdown": [
       "**png:** 2"
      ],
      "text/plain": [
       "png \n",
       "  2 "
      ]
     },
     "metadata": {},
     "output_type": "display_data"
    }
   ],
   "source": [
    "p <- histo_pident(\"B8_0\",\"#E76BF3\")\n",
    "# Save figure\n",
    "png(file=paste(\"07-Plots/pident.B8_0.png\", sep=\"\"), width=2300, height=2000, res=300)\n",
    "p\n",
    "dev.off()"
   ]
  },
  {
   "cell_type": "code",
   "execution_count": 35,
   "id": "95a23fcd",
   "metadata": {},
   "outputs": [
    {
     "data": {
      "text/html": [
       "<strong>png:</strong> 2"
      ],
      "text/latex": [
       "\\textbf{png:} 2"
      ],
      "text/markdown": [
       "**png:** 2"
      ],
      "text/plain": [
       "png \n",
       "  2 "
      ]
     },
     "metadata": {},
     "output_type": "display_data"
    }
   ],
   "source": [
    "p <- histo_pident(\"C8_0\",\"#E76BF3\")\n",
    "# Save figure\n",
    "png(file=paste(\"07-Plots/pident.C8_0.png\", sep=\"\"), width=2300, height=2000, res=300)\n",
    "p\n",
    "dev.off()"
   ]
  },
  {
   "cell_type": "markdown",
   "id": "c18355ac",
   "metadata": {},
   "source": [
    "## Qcovs: Plot lengths pre and after filtering"
   ]
  },
  {
   "cell_type": "code",
   "execution_count": 3,
   "id": "0636f87b",
   "metadata": {},
   "outputs": [],
   "source": [
    "histo_qcovs <- function(sample, color) {\n",
    "    # Rename sample\n",
    "    oldnames <- c('GP_1','GP_2','GP_3','A0_2','B0_2','C0_2','A1_2','B1_2','C1_2','A5_0','B5_0','C5_0','A8_0','B8_0','C8_0')\n",
    "    newnames <- c('EN0.2A','EN0.2B','EN0.2C','OP0.2A','OP0.2B','OP0.2C','OP1.2A','OP1.2B','OP1.2C','OP5.0A','OP5.0B','OP5.0C','OP8.0A','OP8.0B','OP8.0C')\n",
    "    names(newnames) <- oldnames\n",
    "    name <- newnames[sample]\n",
    "    # Read files\n",
    "    pre = read.table(paste(\"03-Blast/qcovs.\", sample, \".tsv\", sep=\"\"))\n",
    "    pst = read.table(paste(\"04-FilterBlast/qcovs.post_filter.\", sample, \".tsv\", sep=\"\"))\n",
    "    # Histogram\n",
    "    p <- ggplot() + \n",
    "        geom_histogram(data=pre, aes(x=V1), bins=100, fill=color, color=\"lightgray\") +\n",
    "        geom_histogram(data=pst, aes(x=V1), bins=100, fill=color, color = \"black\") +\n",
    "        labs(x=\"Query coverage\", y=\"Count\", title=paste(\"Coverage: \", name, sep=\"\")) +\n",
    "        xlim(0, 100) +\n",
    "        theme_classic() %+replace% theme(axis.text = element_text(size=16),\n",
    "                                 axis.title = element_text(size=18),\n",
    "                                 title = element_text(size=22, face=\"bold\"))\n",
    "    # Return\n",
    "    return(p)\n",
    "}"
   ]
  },
  {
   "cell_type": "code",
   "execution_count": 6,
   "id": "760375ab",
   "metadata": {},
   "outputs": [
    {
     "name": "stderr",
     "output_type": "stream",
     "text": [
      "Warning message:\n",
      "“\u001b[1m\u001b[22mRemoved 81 rows containing non-finite values (`stat_bin()`).”\n",
      "Warning message:\n",
      "“\u001b[1m\u001b[22mRemoved 2 rows containing missing values (`geom_bar()`).”\n",
      "Warning message:\n",
      "“\u001b[1m\u001b[22mRemoved 2 rows containing missing values (`geom_bar()`).”\n"
     ]
    },
    {
     "data": {
      "text/html": [
       "<strong>png:</strong> 2"
      ],
      "text/latex": [
       "\\textbf{png:} 2"
      ],
      "text/markdown": [
       "**png:** 2"
      ],
      "text/plain": [
       "png \n",
       "  2 "
      ]
     },
     "metadata": {},
     "output_type": "display_data"
    }
   ],
   "source": [
    "p <- histo_qcovs(\"GP_1\", \"#F8766D\")\n",
    "# Save figure\n",
    "png(file=paste(\"07-Plots/qcovs.GP_1.png\", sep=\"\"), width=2300, height=2000, res=300)\n",
    "p\n",
    "dev.off()"
   ]
  },
  {
   "cell_type": "code",
   "execution_count": 7,
   "id": "6d959c29",
   "metadata": {},
   "outputs": [
    {
     "name": "stderr",
     "output_type": "stream",
     "text": [
      "Warning message:\n",
      "“\u001b[1m\u001b[22mRemoved 193 rows containing non-finite values (`stat_bin()`).”\n",
      "Warning message:\n",
      "“\u001b[1m\u001b[22mRemoved 2 rows containing missing values (`geom_bar()`).”\n",
      "Warning message:\n",
      "“\u001b[1m\u001b[22mRemoved 2 rows containing missing values (`geom_bar()`).”\n"
     ]
    },
    {
     "data": {
      "text/html": [
       "<strong>png:</strong> 2"
      ],
      "text/latex": [
       "\\textbf{png:} 2"
      ],
      "text/markdown": [
       "**png:** 2"
      ],
      "text/plain": [
       "png \n",
       "  2 "
      ]
     },
     "metadata": {},
     "output_type": "display_data"
    }
   ],
   "source": [
    "p <- histo_qcovs(\"GP_2\", \"#F8766D\")\n",
    "# Save figure\n",
    "png(file=paste(\"07-Plots/qcovs.GP_2.png\", sep=\"\"), width=2300, height=2000, res=300)\n",
    "p\n",
    "dev.off()"
   ]
  },
  {
   "cell_type": "code",
   "execution_count": 8,
   "id": "b562230b",
   "metadata": {},
   "outputs": [
    {
     "name": "stderr",
     "output_type": "stream",
     "text": [
      "Warning message:\n",
      "“\u001b[1m\u001b[22mRemoved 136 rows containing non-finite values (`stat_bin()`).”\n",
      "Warning message:\n",
      "“\u001b[1m\u001b[22mRemoved 2 rows containing missing values (`geom_bar()`).”\n",
      "Warning message:\n",
      "“\u001b[1m\u001b[22mRemoved 2 rows containing missing values (`geom_bar()`).”\n"
     ]
    },
    {
     "data": {
      "text/html": [
       "<strong>png:</strong> 2"
      ],
      "text/latex": [
       "\\textbf{png:} 2"
      ],
      "text/markdown": [
       "**png:** 2"
      ],
      "text/plain": [
       "png \n",
       "  2 "
      ]
     },
     "metadata": {},
     "output_type": "display_data"
    }
   ],
   "source": [
    "p <- histo_qcovs(\"GP_3\", \"#F8766D\")\n",
    "# Save figure\n",
    "png(file=paste(\"07-Plots/qcovs.GP_3.png\", sep=\"\"), width=2300, height=2000, res=300)\n",
    "p\n",
    "dev.off()"
   ]
  },
  {
   "cell_type": "code",
   "execution_count": 9,
   "id": "93bd504b",
   "metadata": {},
   "outputs": [
    {
     "name": "stderr",
     "output_type": "stream",
     "text": [
      "Warning message:\n",
      "“\u001b[1m\u001b[22mRemoved 368 rows containing non-finite values (`stat_bin()`).”\n",
      "Warning message:\n",
      "“\u001b[1m\u001b[22mRemoved 2 rows containing missing values (`geom_bar()`).”\n",
      "Warning message:\n",
      "“\u001b[1m\u001b[22mRemoved 2 rows containing missing values (`geom_bar()`).”\n"
     ]
    },
    {
     "data": {
      "text/html": [
       "<strong>png:</strong> 2"
      ],
      "text/latex": [
       "\\textbf{png:} 2"
      ],
      "text/markdown": [
       "**png:** 2"
      ],
      "text/plain": [
       "png \n",
       "  2 "
      ]
     },
     "metadata": {},
     "output_type": "display_data"
    }
   ],
   "source": [
    "p <- histo_qcovs(\"A0_2\", \"#B79F00\")\n",
    "# Save figure\n",
    "png(file=paste(\"07-Plots/qcovs.A0_2.png\", sep=\"\"), width=2300, height=2000, res=300)\n",
    "p\n",
    "dev.off()"
   ]
  },
  {
   "cell_type": "code",
   "execution_count": 10,
   "id": "6dfb2f90",
   "metadata": {},
   "outputs": [
    {
     "name": "stderr",
     "output_type": "stream",
     "text": [
      "Warning message:\n",
      "“\u001b[1m\u001b[22mRemoved 8 rows containing non-finite values (`stat_bin()`).”\n",
      "Warning message:\n",
      "“\u001b[1m\u001b[22mRemoved 2 rows containing missing values (`geom_bar()`).”\n",
      "Warning message:\n",
      "“\u001b[1m\u001b[22mRemoved 2 rows containing missing values (`geom_bar()`).”\n"
     ]
    },
    {
     "data": {
      "text/html": [
       "<strong>png:</strong> 2"
      ],
      "text/latex": [
       "\\textbf{png:} 2"
      ],
      "text/markdown": [
       "**png:** 2"
      ],
      "text/plain": [
       "png \n",
       "  2 "
      ]
     },
     "metadata": {},
     "output_type": "display_data"
    }
   ],
   "source": [
    "p <- histo_qcovs(\"B0_2\", \"#B79F00\")\n",
    "# Save figure\n",
    "png(file=paste(\"07-Plots/qcovs.B0_2.png\", sep=\"\"), width=2300, height=2000, res=300)\n",
    "p\n",
    "dev.off()"
   ]
  },
  {
   "cell_type": "code",
   "execution_count": 11,
   "id": "7c64e1c3",
   "metadata": {},
   "outputs": [
    {
     "name": "stderr",
     "output_type": "stream",
     "text": [
      "Warning message:\n",
      "“\u001b[1m\u001b[22mRemoved 702 rows containing non-finite values (`stat_bin()`).”\n",
      "Warning message:\n",
      "“\u001b[1m\u001b[22mRemoved 2 rows containing missing values (`geom_bar()`).”\n",
      "Warning message:\n",
      "“\u001b[1m\u001b[22mRemoved 2 rows containing missing values (`geom_bar()`).”\n"
     ]
    },
    {
     "data": {
      "text/html": [
       "<strong>png:</strong> 2"
      ],
      "text/latex": [
       "\\textbf{png:} 2"
      ],
      "text/markdown": [
       "**png:** 2"
      ],
      "text/plain": [
       "png \n",
       "  2 "
      ]
     },
     "metadata": {},
     "output_type": "display_data"
    }
   ],
   "source": [
    "p <- histo_qcovs(\"C0_2\", \"#B79F00\")\n",
    "# Save figure\n",
    "png(file=paste(\"07-Plots/qcovs.C0_2.png\", sep=\"\"), width=2300, height=2000, res=300)\n",
    "p\n",
    "dev.off()"
   ]
  },
  {
   "cell_type": "code",
   "execution_count": 12,
   "id": "5fbc6ddf",
   "metadata": {},
   "outputs": [
    {
     "name": "stderr",
     "output_type": "stream",
     "text": [
      "Warning message:\n",
      "“\u001b[1m\u001b[22mRemoved 2074 rows containing non-finite values (`stat_bin()`).”\n",
      "Warning message:\n",
      "“\u001b[1m\u001b[22mRemoved 2 rows containing missing values (`geom_bar()`).”\n",
      "Warning message:\n",
      "“\u001b[1m\u001b[22mRemoved 2 rows containing missing values (`geom_bar()`).”\n"
     ]
    },
    {
     "data": {
      "text/html": [
       "<strong>png:</strong> 2"
      ],
      "text/latex": [
       "\\textbf{png:} 2"
      ],
      "text/markdown": [
       "**png:** 2"
      ],
      "text/plain": [
       "png \n",
       "  2 "
      ]
     },
     "metadata": {},
     "output_type": "display_data"
    }
   ],
   "source": [
    "p <- histo_qcovs(\"A1_2\",\"#00BF7D\")\n",
    "# Save figure\n",
    "png(file=paste(\"07-Plots/qcovs.A1_2.png\", sep=\"\"), width=2300, height=2000, res=300)\n",
    "p\n",
    "dev.off()"
   ]
  },
  {
   "cell_type": "code",
   "execution_count": 13,
   "id": "c8903a89",
   "metadata": {},
   "outputs": [
    {
     "name": "stderr",
     "output_type": "stream",
     "text": [
      "Warning message:\n",
      "“\u001b[1m\u001b[22mRemoved 2337 rows containing non-finite values (`stat_bin()`).”\n",
      "Warning message:\n",
      "“\u001b[1m\u001b[22mRemoved 2 rows containing missing values (`geom_bar()`).”\n",
      "Warning message:\n",
      "“\u001b[1m\u001b[22mRemoved 2 rows containing missing values (`geom_bar()`).”\n"
     ]
    },
    {
     "data": {
      "text/html": [
       "<strong>png:</strong> 2"
      ],
      "text/latex": [
       "\\textbf{png:} 2"
      ],
      "text/markdown": [
       "**png:** 2"
      ],
      "text/plain": [
       "png \n",
       "  2 "
      ]
     },
     "metadata": {},
     "output_type": "display_data"
    }
   ],
   "source": [
    "p <- histo_qcovs(\"B1_2\",\"#00BF7D\")\n",
    "# Save figure\n",
    "png(file=paste(\"07-Plots/qcovs.B1_2.png\", sep=\"\"), width=2300, height=2000, res=300)\n",
    "p\n",
    "dev.off()"
   ]
  },
  {
   "cell_type": "code",
   "execution_count": 4,
   "id": "58b86b20",
   "metadata": {},
   "outputs": [
    {
     "name": "stderr",
     "output_type": "stream",
     "text": [
      "Warning message:\n",
      "“\u001b[1m\u001b[22mRemoved 142 rows containing non-finite values (`stat_bin()`).”\n",
      "Warning message:\n",
      "“\u001b[1m\u001b[22mRemoved 2 rows containing missing values (`geom_bar()`).”\n",
      "Warning message:\n",
      "“\u001b[1m\u001b[22mRemoved 2 rows containing missing values (`geom_bar()`).”\n"
     ]
    },
    {
     "data": {
      "text/html": [
       "<strong>png:</strong> 2"
      ],
      "text/latex": [
       "\\textbf{png:} 2"
      ],
      "text/markdown": [
       "**png:** 2"
      ],
      "text/plain": [
       "png \n",
       "  2 "
      ]
     },
     "metadata": {},
     "output_type": "display_data"
    }
   ],
   "source": [
    "p <- histo_qcovs(\"C1_2\",\"#00BF7D\")\n",
    "# Save figure\n",
    "png(file=paste(\"07-Plots/qcovs.C1_2.png\", sep=\"\"), width=2300, height=2000, res=300)\n",
    "p\n",
    "dev.off()"
   ]
  },
  {
   "cell_type": "code",
   "execution_count": 5,
   "id": "936b1c9b",
   "metadata": {},
   "outputs": [
    {
     "name": "stderr",
     "output_type": "stream",
     "text": [
      "Warning message:\n",
      "“\u001b[1m\u001b[22mRemoved 293 rows containing non-finite values (`stat_bin()`).”\n",
      "Warning message:\n",
      "“\u001b[1m\u001b[22mRemoved 2 rows containing missing values (`geom_bar()`).”\n",
      "Warning message:\n",
      "“\u001b[1m\u001b[22mRemoved 2 rows containing missing values (`geom_bar()`).”\n"
     ]
    },
    {
     "data": {
      "text/html": [
       "<strong>png:</strong> 2"
      ],
      "text/latex": [
       "\\textbf{png:} 2"
      ],
      "text/markdown": [
       "**png:** 2"
      ],
      "text/plain": [
       "png \n",
       "  2 "
      ]
     },
     "metadata": {},
     "output_type": "display_data"
    }
   ],
   "source": [
    "p <- histo_qcovs(\"A5_0\",\"#00B0F6\")\n",
    "# Save figure\n",
    "png(file=paste(\"07-Plots/qcovs.A5_0.png\", sep=\"\"), width=2300, height=2000, res=300)\n",
    "p\n",
    "dev.off()"
   ]
  },
  {
   "cell_type": "code",
   "execution_count": 6,
   "id": "5c758013",
   "metadata": {},
   "outputs": [
    {
     "name": "stderr",
     "output_type": "stream",
     "text": [
      "Warning message:\n",
      "“\u001b[1m\u001b[22mRemoved 11698 rows containing non-finite values (`stat_bin()`).”\n",
      "Warning message:\n",
      "“\u001b[1m\u001b[22mRemoved 2 rows containing missing values (`geom_bar()`).”\n",
      "Warning message:\n",
      "“\u001b[1m\u001b[22mRemoved 2 rows containing missing values (`geom_bar()`).”\n"
     ]
    },
    {
     "data": {
      "text/html": [
       "<strong>png:</strong> 2"
      ],
      "text/latex": [
       "\\textbf{png:} 2"
      ],
      "text/markdown": [
       "**png:** 2"
      ],
      "text/plain": [
       "png \n",
       "  2 "
      ]
     },
     "metadata": {},
     "output_type": "display_data"
    }
   ],
   "source": [
    "p <- histo_qcovs(\"B5_0\",\"#00B0F6\")\n",
    "# Save figure\n",
    "png(file=paste(\"07-Plots/qcovs.B5_0.png\", sep=\"\"), width=2300, height=2000, res=300)\n",
    "p\n",
    "dev.off()"
   ]
  },
  {
   "cell_type": "code",
   "execution_count": 7,
   "id": "143ab0b0",
   "metadata": {},
   "outputs": [
    {
     "name": "stderr",
     "output_type": "stream",
     "text": [
      "Warning message:\n",
      "“\u001b[1m\u001b[22mRemoved 1437 rows containing non-finite values (`stat_bin()`).”\n",
      "Warning message:\n",
      "“\u001b[1m\u001b[22mRemoved 2 rows containing missing values (`geom_bar()`).”\n",
      "Warning message:\n",
      "“\u001b[1m\u001b[22mRemoved 2 rows containing missing values (`geom_bar()`).”\n"
     ]
    },
    {
     "data": {
      "text/html": [
       "<strong>png:</strong> 2"
      ],
      "text/latex": [
       "\\textbf{png:} 2"
      ],
      "text/markdown": [
       "**png:** 2"
      ],
      "text/plain": [
       "png \n",
       "  2 "
      ]
     },
     "metadata": {},
     "output_type": "display_data"
    }
   ],
   "source": [
    "p <- histo_qcovs(\"C5_0\",\"#00B0F6\")\n",
    "# Save figure\n",
    "png(file=paste(\"07-Plots/qcovs.C5_0.png\", sep=\"\"), width=2300, height=2000, res=300)\n",
    "p\n",
    "dev.off()"
   ]
  },
  {
   "cell_type": "code",
   "execution_count": 8,
   "id": "c4c1e914",
   "metadata": {},
   "outputs": [
    {
     "name": "stderr",
     "output_type": "stream",
     "text": [
      "Warning message:\n",
      "“\u001b[1m\u001b[22mRemoved 13818 rows containing non-finite values (`stat_bin()`).”\n",
      "Warning message:\n",
      "“\u001b[1m\u001b[22mRemoved 2 rows containing missing values (`geom_bar()`).”\n",
      "Warning message:\n",
      "“\u001b[1m\u001b[22mRemoved 2 rows containing missing values (`geom_bar()`).”\n"
     ]
    },
    {
     "data": {
      "text/html": [
       "<strong>png:</strong> 2"
      ],
      "text/latex": [
       "\\textbf{png:} 2"
      ],
      "text/markdown": [
       "**png:** 2"
      ],
      "text/plain": [
       "png \n",
       "  2 "
      ]
     },
     "metadata": {},
     "output_type": "display_data"
    }
   ],
   "source": [
    "p <- histo_qcovs(\"A8_0\",\"#E76BF3\")\n",
    "# Save figure\n",
    "png(file=paste(\"07-Plots/qcovs.A8_0.png\", sep=\"\"), width=2300, height=2000, res=300)\n",
    "p\n",
    "dev.off()"
   ]
  },
  {
   "cell_type": "code",
   "execution_count": 9,
   "id": "e84dd83b",
   "metadata": {},
   "outputs": [
    {
     "name": "stderr",
     "output_type": "stream",
     "text": [
      "Warning message:\n",
      "“\u001b[1m\u001b[22mRemoved 4099 rows containing non-finite values (`stat_bin()`).”\n",
      "Warning message:\n",
      "“\u001b[1m\u001b[22mRemoved 2 rows containing missing values (`geom_bar()`).”\n",
      "Warning message:\n",
      "“\u001b[1m\u001b[22mRemoved 2 rows containing missing values (`geom_bar()`).”\n"
     ]
    },
    {
     "data": {
      "text/html": [
       "<strong>png:</strong> 2"
      ],
      "text/latex": [
       "\\textbf{png:} 2"
      ],
      "text/markdown": [
       "**png:** 2"
      ],
      "text/plain": [
       "png \n",
       "  2 "
      ]
     },
     "metadata": {},
     "output_type": "display_data"
    }
   ],
   "source": [
    "p <- histo_qcovs(\"B8_0\",\"#E76BF3\")\n",
    "# Save figure\n",
    "png(file=paste(\"07-Plots/qcovs.B8_0.png\", sep=\"\"), width=2300, height=2000, res=300)\n",
    "p\n",
    "dev.off()"
   ]
  },
  {
   "cell_type": "code",
   "execution_count": 10,
   "id": "21471561",
   "metadata": {},
   "outputs": [
    {
     "name": "stderr",
     "output_type": "stream",
     "text": [
      "Warning message:\n",
      "“\u001b[1m\u001b[22mRemoved 250 rows containing non-finite values (`stat_bin()`).”\n",
      "Warning message:\n",
      "“\u001b[1m\u001b[22mRemoved 2 rows containing missing values (`geom_bar()`).”\n",
      "Warning message:\n",
      "“\u001b[1m\u001b[22mRemoved 2 rows containing missing values (`geom_bar()`).”\n"
     ]
    },
    {
     "data": {
      "text/html": [
       "<strong>png:</strong> 2"
      ],
      "text/latex": [
       "\\textbf{png:} 2"
      ],
      "text/markdown": [
       "**png:** 2"
      ],
      "text/plain": [
       "png \n",
       "  2 "
      ]
     },
     "metadata": {},
     "output_type": "display_data"
    }
   ],
   "source": [
    "p <- histo_qcovs(\"C8_0\",\"#E76BF3\")\n",
    "# Save figure\n",
    "png(file=paste(\"07-Plots/qcovs.C8_0.png\", sep=\"\"), width=2300, height=2000, res=300)\n",
    "p\n",
    "dev.off()"
   ]
  },
  {
   "cell_type": "markdown",
   "id": "725896f8",
   "metadata": {},
   "source": [
    "### Ternary plots"
   ]
  },
  {
   "cell_type": "code",
   "execution_count": 2,
   "id": "f8533940",
   "metadata": {},
   "outputs": [],
   "source": [
    "# Library\n",
    "library(tidyverse)\n",
    "library(ggtern)"
   ]
  },
  {
   "cell_type": "code",
   "execution_count": 61,
   "id": "f70ddd7b",
   "metadata": {},
   "outputs": [],
   "source": [
    "ternary <- function(sample, color) {\n",
    "    # Rename sample\n",
    "    oldnames <- c('GP_1','GP_2','GP_3','A0_2','B0_2','C0_2','A1_2','B1_2','C1_2','A5_0','B5_0','C5_0','A8_0','B8_0','C8_0')\n",
    "    newnames <- c('EN0.2A','EN0.2B','EN0.2C','OP0.2A','OP0.2B','OP0.2C','OP1.2A','OP1.2B','OP1.2C','OP5.0A','OP5.0B','OP5.0C','OP8.0A','OP8.0B','OP8.0C')\n",
    "    names(newnames) <- oldnames\n",
    "    name <- newnames[sample]\n",
    "\n",
    "    # Read files\n",
    "    lens <- read.table(paste(\"03-Blast/lens.\", sample, \".tsv\", sep=\"\"))\n",
    "    iden <- read.table(paste(\"03-Blast/pident.\", sample, \".tsv\", sep=\"\"))\n",
    "    covs <- read.table(paste(\"03-Blast/qcovs.\", sample, \".tsv\", sep=\"\"))\n",
    "    df <- data.frame(lens, iden, covs)\n",
    "    colnames(df) <- c(\"Length\",\"Identity\",\"Coverage\")\n",
    "\n",
    "    # Correct scale\n",
    "    maxlen <- max(df$Length)\n",
    "    df$Length <- round(df$Length / maxlen * 100, 3)\n",
    "\n",
    "    # Reduce points in plot\n",
    "    df_redu <- df %>% group_by(Length, Identity, Coverage) %>% summarize(count = n())\n",
    "\n",
    "    # Subset\n",
    "    df_redu_filt <- subset(df_redu, Length >= round(100 / maxlen * 100, 3) & Identity >= 90 & Coverage >= 90)\n",
    "\n",
    "    # Plot\n",
    "    p <- ggtern(df_redu, aes(Length,Identity,Coverage)) + \n",
    "    geom_point(aes(size=count), color=\"lightgray\", alpha=0.1) +\n",
    "    geom_point(data=df_redu_filt, aes(size=count), color=color, alpha=0.1) +\n",
    "    guides(size = \"none\") +\n",
    "    labs(title = paste(name, sep=\"\")) +\n",
    "    theme_classic() %+replace% theme(axis.text = element_text(size=16),\n",
    "                                 axis.title = element_text(size=18),\n",
    "                                 title = element_text(size=22, face=\"bold\"))\n",
    "    # Return\n",
    "    return(p)\n",
    "}"
   ]
  },
  {
   "cell_type": "code",
   "execution_count": 63,
   "id": "466f5a8d",
   "metadata": {},
   "outputs": [
    {
     "data": {
      "text/html": [
       "<strong>png:</strong> 2"
      ],
      "text/latex": [
       "\\textbf{png:} 2"
      ],
      "text/markdown": [
       "**png:** 2"
      ],
      "text/plain": [
       "png \n",
       "  2 "
      ]
     },
     "metadata": {},
     "output_type": "display_data"
    }
   ],
   "source": [
    "p <- ternary(\"GP_1\", \"#F8766D\")\n",
    "# Save figure\n",
    "png(file=paste(\"07-Plots/ternary.GP_1.png\", sep=\"\"), width=2300, height=2000, res=300)\n",
    "p\n",
    "dev.off()"
   ]
  },
  {
   "cell_type": "code",
   "execution_count": 65,
   "id": "c5ab9f5e",
   "metadata": {},
   "outputs": [
    {
     "data": {
      "image/png": "[encoded data removed]",
      "text/plain": [
       "plot without title"
      ]
     },
     "metadata": {
      "image/png": {
       "height": 420,
       "width": 420
      }
     },
     "output_type": "display_data"
    }
   ],
   "source": [
    "p"
   ]
  }
 ],
 "metadata": {
  "kernelspec": {
   "display_name": "R",
   "language": "R",
   "name": "ir"
  },
  "language_info": {
   "codemirror_mode": "r",
   "file_extension": ".r",
   "mimetype": "text/x-r-source",
   "name": "R",
   "pygments_lexer": "r",
   "version": "4.2.2"
  }
 },
 "nbformat": 4,
 "nbformat_minor": 5
}
