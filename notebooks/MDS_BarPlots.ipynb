{
 "cells": [
  {
   "cell_type": "markdown",
   "id": "8655ef6e",
   "metadata": {},
   "source": [
    "# Script: rarefyROBI.lca.R"
   ]
  },
  {
   "cell_type": "code",
   "execution_count": 2,
   "id": "fcab7c9f",
   "metadata": {},
   "outputs": [],
   "source": [
    "# Libraries\n",
    "library(ROBITools)\n",
    "library(tidyverse)\n",
    "library(reshape2)\n",
    "library(vegan)\n",
    "library(ggalt)\n",
    "library(ggpubr)\n",
    "library(ggrepel)\n",
    "library(grid)\n",
    "library(wordcloud)"
   ]
  },
  {
   "cell_type": "code",
   "execution_count": 4,
   "id": "4f4c5f0e",
   "metadata": {},
   "outputs": [],
   "source": [
    "# Data (Eukaryota less than expected because multiple taxids refer to the same taxa)\n",
    "dfraw <- read.delim(\"lca.taxa.count.tsv\", check.names=F)\n",
    "colnames(dfraw) <- str_replace(colnames(dfraw),\"06-mergeLCA//\",\"\")\n",
    "\n",
    "# Rename Samples\n",
    "oldnames <- c('GP_1','GP_2','GP_3','A0_2','B0_2','C0_2','A1_2','B1_2','C1_2','A5_0','B5_0','C5_0','A8_0','B8_0','C8_0')\n",
    "newnames <- c('EN0.2A','EN0.2B','EN0.2C','OP0.2A','OP0.2B','OP0.2C','OP1.2A','OP1.2B','OP1.2C','OP5.0A','OP5.0B','OP5.0C','OP8.0A','OP8.0B','OP8.0C')\n",
    "names(newnames) <- oldnames\n",
    "dfraw <- dfraw %>% rename_at(vars(oldnames), ~newnames)"
   ]
  },
  {
   "cell_type": "code",
   "execution_count": 27,
   "id": "2a77cfd3",
   "metadata": {},
   "outputs": [
    {
     "name": "stderr",
     "output_type": "stream",
     "text": [
      "Using superkingdom as id variables\n",
      "\n",
      "\u001b[1m\u001b[22m`summarise()` has grouped output by 'superkingdom'. You can override using the\n",
      "`.groups` argument.\n"
     ]
    },
    {
     "data": {
      "text/html": [
       "<strong>png:</strong> 2"
      ],
      "text/latex": [
       "\\textbf{png:} 2"
      ],
      "text/markdown": [
       "**png:** 2"
      ],
      "text/plain": [
       "png \n",
       "  2 "
      ]
     },
     "metadata": {},
     "output_type": "display_data"
    }
   ],
   "source": [
    "## Plots Superkingdom\n",
    "spkm_bars <- dfraw %>% filter(superkingdom %in% c(\"Bacteria\",\"Archaea\",\"Eukaryota\",\"Viruses\")) %>% select(c(1,9:23)) %>% melt() %>% group_by(superkingdom, variable) %>% summarise(count = sum(value)) %>% ungroup() %>% group_by(variable) %>% mutate(perc = count/sum(count) * 100)\n",
    "\n",
    "spkm_bars$superkingdom <- factor(spkm_bars$superkingdom, levels = c(\"Archaea\",\"Viruses\",\"Bacteria\",\"Eukaryota\"))\n",
    "spkm_bars$variable <- factor(spkm_bars$variable, levels = newnames)\n",
    "spkm_bars <- spkm_bars %>% mutate(type = ifelse(grepl(\"EN\", variable), \"Enclosed\", \"Open\"))\n",
    "\n",
    "p <- spkm_bars %>% ggplot() + geom_col(aes(x=variable,y=perc,fill=superkingdom)) +\n",
    " labs(x = \"Sample\", y = \"Percentage\", fill=\"Kingdom\") +\n",
    " scale_fill_manual(values = c(\"coral3\", \"darkolivegreen3\", \"darkcyan\", \"orange3\")) +\n",
    " facet_wrap(~type, scales=\"free_x\") +\n",
    " theme_classic() %+replace% theme(axis.text.x = element_text(angle = 90, size=18),\n",
    "                                 axis.text.y = element_text(size=18),\n",
    "                                 axis.title = element_text(size=20),\n",
    "                                 strip.text.x = element_text(size = 16, face=\"bold\"),\n",
    "                                 strip.background = element_blank(),\n",
    "                                 legend.title = element_text(size=18, face=\"bold\"),\n",
    "                                 legend.text = element_text(size=16))\n",
    "\n",
    "gt = ggplot_gtable(ggplot_build(p))\n",
    "gt$widths[5] = 0.26*gt$widths[5]\n",
    "\n",
    "png(file=\"07-Plots/bars.spkm.raw.png\", width=2300, height=2000, res=300)\n",
    "grid.draw(gt)\n",
    "dev.off()"
   ]
  },
  {
   "cell_type": "code",
   "execution_count": 28,
   "id": "96cdc181",
   "metadata": {
    "scrolled": false
   },
   "outputs": [
    {
     "name": "stderr",
     "output_type": "stream",
     "text": [
      "Using superkingdom, phylum as id variables\n",
      "\n",
      "\u001b[1m\u001b[22m`summarise()` has grouped output by 'superkingdom', 'phylum'. You can override using\n",
      "the `.groups` argument.\n"
     ]
    },
    {
     "data": {
      "text/html": [
       "<strong>png:</strong> 2"
      ],
      "text/latex": [
       "\\textbf{png:} 2"
      ],
      "text/markdown": [
       "**png:** 2"
      ],
      "text/plain": [
       "png \n",
       "  2 "
      ]
     },
     "metadata": {},
     "output_type": "display_data"
    },
    {
     "data": {
      "text/html": [
       "<strong>png:</strong> 2"
      ],
      "text/latex": [
       "\\textbf{png:} 2"
      ],
      "text/markdown": [
       "**png:** 2"
      ],
      "text/plain": [
       "png \n",
       "  2 "
      ]
     },
     "metadata": {},
     "output_type": "display_data"
    },
    {
     "data": {
      "text/html": [
       "<strong>png:</strong> 2"
      ],
      "text/latex": [
       "\\textbf{png:} 2"
      ],
      "text/markdown": [
       "**png:** 2"
      ],
      "text/plain": [
       "png \n",
       "  2 "
      ]
     },
     "metadata": {},
     "output_type": "display_data"
    },
    {
     "data": {
      "text/html": [
       "<strong>png:</strong> 2"
      ],
      "text/latex": [
       "\\textbf{png:} 2"
      ],
      "text/markdown": [
       "**png:** 2"
      ],
      "text/plain": [
       "png \n",
       "  2 "
      ]
     },
     "metadata": {},
     "output_type": "display_data"
    }
   ],
   "source": [
    "## Plots Phylum\n",
    "phyl_bars <- dfraw %>% filter(superkingdom %in% c(\"Bacteria\",\"Archaea\",\"Eukaryota\",\"Viruses\")) %>% select(c(1,3,9:23)) %>% melt() %>% drop_na() %>% group_by(superkingdom, phylum, variable) %>% summarise(count = sum(value)) %>% ungroup() %>% group_by(variable) %>% mutate(perc = count/sum(count) * 100) %>% filter(count > 0)\n",
    "\n",
    "phyl_bars$superkingdom <- factor(phyl_bars$superkingdom, levels = c(\"Archaea\",\"Viruses\",\"Bacteria\",\"Eukaryota\"))\n",
    "phyl_bars$variable <- factor(phyl_bars$variable, levels = newnames)\n",
    "phyl_bars <- phyl_bars %>% mutate(type = ifelse(grepl(\"EN\", variable), \"Enclosed\", \"Open\"))\n",
    "\n",
    "p <- phyl_bars %>% ggplot() + geom_col(aes(x=variable,y=perc,fill=superkingdom), color=\"black\") +\n",
    " labs(x = \"Sample\", y = \"Percentage\", fill=\"Kingdom\") +\n",
    " #guides(fill = \"none\") +\n",
    " scale_fill_manual(values = c(\"coral3\", \"darkcyan\", \"orange3\")) +\n",
    " facet_wrap(~type, scales=\"free_x\") +\n",
    " theme_classic() %+replace% theme(axis.text.x = element_text(angle = 90, size=18),\n",
    "                                 axis.text.y = element_text(size=18),\n",
    "                                 axis.title = element_text(size=20),\n",
    "                                 strip.text.x = element_text(size = 16, face=\"bold\"),\n",
    "                                 strip.background = element_blank(),\n",
    "                                 legend.title = element_text(size=18, face=\"bold\"),\n",
    "                                 legend.text = element_text(size=16))\n",
    "\n",
    "gt = ggplot_gtable(ggplot_build(p))\n",
    "gt$widths[5] = 0.28*gt$widths[5]\n",
    "\n",
    "png(file=\"bars.phyl.raw.png\", width=2300, height=2000, res=300)\n",
    "grid.draw(gt)\n",
    "dev.off()\n",
    "\n",
    "# Word Cloud\n",
    "x <- phyl_bars[phyl_bars$superkingdom == \"Archaea\",]  %>% group_by(phylum) %>% summarize(perc = sum(perc))\n",
    "png(\"07-Plots/sup.wordcloud.barphyl.arc.png\", width=1200, height=1200, res=200)\n",
    "wordcloud(words = x$phylum, freq=x$perc, colors=brewer.pal(8, \"Set2\"), min.freq=1e-10, random.order=FALSE)\n",
    "dev.off()\n",
    "\n",
    "y <- phyl_bars[phyl_bars$superkingdom == \"Bacteria\",]  %>% group_by(phylum) %>% summarize(perc = sum(perc))\n",
    "png(\"07-Plots/sup.wordcloud.barphyl.bac.png\", width=1200, height=1200, res=200)\n",
    "wordcloud(words = y$phylum, freq=y$perc, colors=brewer.pal(8, \"Set2\"), min.freq=1e-10, random.order=FALSE)\n",
    "dev.off()\n",
    "\n",
    "z <- phyl_bars[phyl_bars$superkingdom == \"Eukaryota\",]  %>% group_by(phylum) %>% summarize(perc = sum(perc))\n",
    "png(\"07-Plots/sup.wordcloud.barphyl.euk.png\", width=1200, height=1200, res=200)\n",
    "wordcloud(words = z$phylum, freq=z$perc, colors=brewer.pal(8, \"Set2\"), min.freq=1e-10, random.order=FALSE)\n",
    "dev.off()"
   ]
  },
  {
   "cell_type": "code",
   "execution_count": 113,
   "id": "538961ac",
   "metadata": {},
   "outputs": [
    {
     "name": "stderr",
     "output_type": "stream",
     "text": [
      "Using superkingdom, phylum as id variables\n",
      "\n",
      "\u001b[1m\u001b[22m`summarise()` has grouped output by 'superkingdom', 'phylum'. You can override using\n",
      "the `.groups` argument.\n",
      "\u001b[1m\u001b[22mAdding missing grouping variables: `variable`\n",
      "\u001b[1m\u001b[22mSelecting by perc\n",
      "\u001b[1m\u001b[22m`summarise()` has grouped output by 'variable'. You can override using the `.groups`\n",
      "argument.\n"
     ]
    },
    {
     "data": {
      "text/html": [
       "<strong>png:</strong> 2"
      ],
      "text/latex": [
       "\\textbf{png:} 2"
      ],
      "text/markdown": [
       "**png:** 2"
      ],
      "text/plain": [
       "png \n",
       "  2 "
      ]
     },
     "metadata": {},
     "output_type": "display_data"
    }
   ],
   "source": [
    "## Plot Phylum\n",
    "phyl_bars <- dfraw %>% filter(superkingdom %in% c(\"Bacteria\",\"Archaea\",\"Eukaryota\",\"Viruses\")) %>% select(c(1,3,9:23)) %>% melt() %>% drop_na() %>% group_by(superkingdom, phylum, variable) %>% summarise(count = sum(value)) %>% ungroup() %>% group_by(variable) %>% mutate(perc = count/sum(count) * 100) %>% filter(count > 0)\n",
    "\n",
    "phyl_bars$superkingdom <- factor(phyl_bars$superkingdom, levels = c(\"Archaea\",\"Viruses\",\"Bacteria\",\"Eukaryota\"))\n",
    "phyl_bars$variable <- factor(phyl_bars$variable, levels = newnames)\n",
    "phyl_bars <- phyl_bars %>% mutate(type = ifelse(grepl(\"EN\", variable), \"Enclosed\", \"Open\"))\n",
    "\n",
    "top15 <- phyl_bars %>% select(superkingdom, phylum, perc) %>% group_by(superkingdom) %>%\n",
    "top_n(15) %>% ungroup() %>% select(phylum) %>% unique()\n",
    "\n",
    "phyl_bars_others <- phyl_bars %>%\n",
    "  mutate(category = ifelse(phylum %in% top15$phylum, phylum, \"Others\")) %>%\n",
    "  group_by(variable, category) %>%\n",
    "  summarise(total_perc = sum(perc)) %>%\n",
    "  ungroup()\n",
    "\n",
    "phyl_bars_others <- phyl_bars_others %>% mutate(type = ifelse(grepl(\"EN\", variable), \"Enclosed\", \"Open\"))\n",
    "\n",
    "col = c(\"#FF5733\", \"#33FF57\", \"#3366FF\", \"#9933FF\", \"#FFA500\", \"#A52A2A\",\"grey\")\n",
    "order <- (phyl_bars_others %>% group_by(category) %>% summarise(total_perc = sum(total_perc)) %>%\n",
    "filter(category != \"Others\") %>% arrange(desc(total_perc)))$category\n",
    "phyl_bars_others$category <- factor(phyl_bars_others$category, levels = c(order,\"Others\"))\n",
    "\n",
    "p <- phyl_bars_others %>% ggplot() + geom_col(aes(x=variable,y=total_perc,fill=category), color=\"black\") +\n",
    " labs(x=\"Sample\", y=\"Percentage\", fill=\"Phylum\") +\n",
    " scale_fill_manual(values = col) +\n",
    " facet_wrap(~type, scales=\"free_x\") +\n",
    " theme_classic() %+replace% theme(axis.text.x = element_text(angle = 90, size=18),\n",
    "                                 axis.text.y = element_text(size=18),\n",
    "                                 axis.title = element_text(size=20),\n",
    "                                 strip.text.x = element_text(size = 16, face=\"bold\"),\n",
    "                                 strip.background = element_blank(),\n",
    "                                 legend.title = element_text(size=18, face=\"bold\"),\n",
    "                                 legend.text = element_text(size=16))\n",
    "\n",
    "gt = ggplot_gtable(ggplot_build(p))\n",
    "gt$widths[5] = 0.34*gt$widths[5]\n",
    "\n",
    "png(file=\"bars.phyl.top15.png\", width=2300, height=2000, res=300)\n",
    "grid.draw(gt)\n",
    "dev.off()"
   ]
  },
  {
   "cell_type": "code",
   "execution_count": 29,
   "id": "f21c1c9a",
   "metadata": {},
   "outputs": [],
   "source": [
    "# Relative Abundance PCA (nMDS) - Mads!\n",
    "\n",
    "nMDS_plot <- function(reads, samples) {\n",
    "  # Create scores\n",
    "  nmds = metaMDS(reads, distance = \"bray\")\n",
    "  nmds.sites.scores = as.data.frame(vegan::scores(nmds)$sites)\n",
    "  #nmds.species.scores = as.data.frame(vegan::scores(nmds)$species)\n",
    "\n",
    "  # Add metadata\n",
    "  nmds.sites.scores$sample = samples$sample\n",
    "  nmds.sites.scores$pore = samples$pore\n",
    "\n",
    "  # Factorize\n",
    "  nmds.sites.scores <- nmds.sites.scores %>%\n",
    "    dplyr::mutate(pore=factor(pore, levels=c(\"GP\", \"0.2\", \"1.2\",\"5.0\", \"8.0\")))\n",
    "\n",
    "  # Plot\n",
    "  p <- ggplot(nmds.sites.scores, aes(x = NMDS1, y = NMDS2, label=sample)) + \n",
    "    geom_point(size = 5, aes(colour = pore)) +\n",
    "    geom_encircle(aes(fill = pore), s_shape = 1, expand = 0,\n",
    "                  alpha = 0.2, color = \"black\", show.legend = FALSE) +\n",
    "    geom_text_repel(size=4) +\n",
    "    labs(colour='Filter type') +\n",
    "    theme_classic() %+replace% theme(axis.text.x = element_text(size=14),\n",
    "                                 axis.text.y = element_text(size=14),\n",
    "                                 axis.title = element_text(size=20),\n",
    "                                 legend.title = element_text(size=18, face=\"bold\"),\n",
    "                                 legend.text = element_text(size=16))\n",
    "  \n",
    "  return(p)\n",
    "}"
   ]
  },
  {
   "cell_type": "code",
   "execution_count": 30,
   "id": "5ecf9db4",
   "metadata": {},
   "outputs": [],
   "source": [
    "# Normalization (Rarefy)\n",
    "# Function rarefy gives the expected species richness in random subsamples of size sample from the community. The function rarefy is based on Hurlbert's (1971) formulation, and the standard errors on Heck et al. (1975). In order to rarefy the data we need to create a count of species (rows) per sample (columns). The workflow is based in Eva's script including Mads modifications (Vandloeb_Summer_20200529.Rmd).\n",
    "dfimp <- import.metabarcoding.data(\"Pore_size_table_for_rarefy.txt\") # Read data with ROBITools\n",
    "\n",
    "## nMDS plot (before rarefaction)\n",
    "samples <- dfimp@samples\n",
    "samples <- samples %>% mutate(pore = ifelse(sample %in% c(\"OP0.2A\",\"OP0.2B\",\"OP0.2C\"), \"0.2\", ifelse(sample %in% c(\"OP1.2A\",\"OP1.2B\",\"OP1.2C\"), \"1.2\", ifelse(sample %in% c(\"OP5.0A\",\"OP5.0B\",\"OP5.0C\"), \"5.0\", ifelse(sample %in% c(\"OP8.0A\",\"OP8.0B\",\"OP8.0C\"), \"8.0\", \"GP\")))))\n",
    "reads <- dfimp@reads"
   ]
  },
  {
   "cell_type": "code",
   "execution_count": 31,
   "id": "8c83a3d0",
   "metadata": {},
   "outputs": [
    {
     "name": "stdout",
     "output_type": "stream",
     "text": [
      "Square root transformation\n",
      "Wisconsin double standardization\n",
      "Run 0 stress 0.04893688 \n",
      "Run 1 stress 0.231912 \n",
      "Run 2 stress 0.04893688 \n",
      "... Procrustes: rmse 3.470391e-06  max resid 6.603294e-06 \n",
      "... Similar to previous best\n",
      "Run 3 stress 0.04893688 \n",
      "... New best solution\n",
      "... Procrustes: rmse 2.655865e-06  max resid 6.692883e-06 \n",
      "... Similar to previous best\n",
      "Run 4 stress 0.2517701 \n",
      "Run 5 stress 0.04893688 \n",
      "... Procrustes: rmse 6.07291e-06  max resid 1.563766e-05 \n",
      "... Similar to previous best\n",
      "Run 6 stress 0.04893688 \n",
      "... Procrustes: rmse 3.59681e-06  max resid 8.731793e-06 \n",
      "... Similar to previous best\n",
      "Run 7 stress 0.04893688 \n",
      "... Procrustes: rmse 1.314222e-05  max resid 3.294918e-05 \n",
      "... Similar to previous best\n",
      "Run 8 stress 0.233691 \n",
      "Run 9 stress 0.04893688 \n",
      "... Procrustes: rmse 4.597947e-06  max resid 1.110696e-05 \n",
      "... Similar to previous best\n",
      "Run 10 stress 0.1615737 \n",
      "Run 11 stress 0.04893688 \n",
      "... Procrustes: rmse 5.7613e-06  max resid 1.408303e-05 \n",
      "... Similar to previous best\n",
      "Run 12 stress 0.04893688 \n",
      "... Procrustes: rmse 3.318191e-06  max resid 8.026018e-06 \n",
      "... Similar to previous best\n",
      "Run 13 stress 0.04893688 \n",
      "... New best solution\n",
      "... Procrustes: rmse 9.93376e-07  max resid 2.028144e-06 \n",
      "... Similar to previous best\n",
      "Run 14 stress 0.04958913 \n",
      "Run 15 stress 0.04893688 \n",
      "... Procrustes: rmse 1.755025e-06  max resid 3.710981e-06 \n",
      "... Similar to previous best\n",
      "Run 16 stress 0.04893688 \n",
      "... Procrustes: rmse 8.298405e-06  max resid 2.031392e-05 \n",
      "... Similar to previous best\n",
      "Run 17 stress 0.04893688 \n",
      "... Procrustes: rmse 4.135617e-06  max resid 8.197745e-06 \n",
      "... Similar to previous best\n",
      "Run 18 stress 0.04893688 \n",
      "... Procrustes: rmse 1.468572e-06  max resid 3.253443e-06 \n",
      "... Similar to previous best\n",
      "Run 19 stress 0.04893688 \n",
      "... Procrustes: rmse 3.006529e-06  max resid 5.768691e-06 \n",
      "... Similar to previous best\n",
      "Run 20 stress 0.04893689 \n",
      "... Procrustes: rmse 1.451746e-05  max resid 3.727614e-05 \n",
      "... Similar to previous best\n",
      "*** Best solution repeated 7 times\n"
     ]
    },
    {
     "data": {
      "text/html": [
       "<strong>png:</strong> 2"
      ],
      "text/latex": [
       "\\textbf{png:} 2"
      ],
      "text/markdown": [
       "**png:** 2"
      ],
      "text/plain": [
       "png \n",
       "  2 "
      ]
     },
     "metadata": {},
     "output_type": "display_data"
    }
   ],
   "source": [
    "p <- nMDS_plot(reads, samples)\n",
    "\n",
    "png(file=\"07-Plots/nMDS.raw.png\", width=2300, height=2000, res=300)\n",
    "p\n",
    "dev.off()"
   ]
  },
  {
   "cell_type": "code",
   "execution_count": 32,
   "id": "b651046f",
   "metadata": {},
   "outputs": [
    {
     "data": {
      "text/plain": [
       "\n",
       "FALSE  TRUE \n",
       "  822  7444 "
      ]
     },
     "metadata": {},
     "output_type": "display_data"
    }
   ],
   "source": [
    "## Rarefy by sample\n",
    "mdn <- summary(rowSums(dfimp@reads[dfimp@samples$sample,]))[[3]]\n",
    "dfrar <- ROBITools::rarefy(dfimp, n = mdn, MARGIN=\"sample\")\n",
    "\n",
    "## Update TaxaCounts\n",
    "dfrar@motus$count <- colSums(dfrar@reads) # Add count to rarefy species\n",
    "\n",
    "## Clean data after rarefy\n",
    "table(colSums(dfrar@reads)>0) # 2040 taxa equal to 0\n",
    "dfrar <- dfrar[,colSums(dfrar@reads)>0] # Remove species with no hits\n",
    "dfrar <- dfrar[rowSums(dfrar@reads)>0,] # Remove samples with no hits\n",
    "\n",
    "## Transform data to final dataframe\n",
    "dfend <- dfrar@reads %>% t() %>% as.data.frame() %>% mutate(id = colnames(dfrar@reads))\n",
    "dfend <- merge(dfend,dfrar@motus, by=\"id\") %>% select(-c(Var.17,id,count))\n",
    "dfend <- dfend[,c(16:23,1:15)]\n",
    "colnames(dfend)[1:8] <- c(\"superkingdom\",\"kingdom\",\"phylum\",\"class\",\"order\",\"family\",\"genus\",\"species\")"
   ]
  },
  {
   "cell_type": "code",
   "execution_count": 17,
   "id": "c4bf68a0",
   "metadata": {},
   "outputs": [
    {
     "name": "stderr",
     "output_type": "stream",
     "text": [
      "Using superkingdom as id variables\n",
      "\n",
      "\u001b[1m\u001b[22m`summarise()` has grouped output by 'superkingdom'. You can override using the\n",
      "`.groups` argument.\n"
     ]
    },
    {
     "data": {
      "text/html": [
       "<strong>png:</strong> 2"
      ],
      "text/latex": [
       "\\textbf{png:} 2"
      ],
      "text/markdown": [
       "**png:** 2"
      ],
      "text/plain": [
       "png \n",
       "  2 "
      ]
     },
     "metadata": {},
     "output_type": "display_data"
    }
   ],
   "source": [
    "# Plots\n",
    "spkm_bars <- dfend %>% filter(superkingdom %in% c(\"Bacteria\",\"Archaea\",\"Eukaryota\",\"Viruses\")) %>% select(c(1,9:23)) %>% melt() %>% group_by(superkingdom, variable) %>% summarise(count = sum(value)) %>% ungroup() %>% group_by(variable) %>% mutate(perc = count/sum(count) * 100)\n",
    "\n",
    "spkm_bars$superkingdom <- factor(spkm_bars$superkingdom, levels = c(\"Archaea\",\"Viruses\",\"Bacteria\",\"Eukaryota\"))\n",
    "spkm_bars$variable <- factor(spkm_bars$variable, levels = newnames)\n",
    "spkm_bars <- spkm_bars %>% mutate(type = ifelse(grepl(\"EN\", variable), \"Enclosed\", \"Open\"))\n",
    "\n",
    "p <- spkm_bars %>% ggplot() + geom_col(aes(x=variable,y=perc,fill=superkingdom)) +\n",
    " labs(x = \"Sample\", y = \"Percentage\", fill=\"Kingdom\") +\n",
    " scale_fill_manual(values = c(\"coral3\", \"darkolivegreen3\", \"darkcyan\", \"orange3\")) +\n",
    " facet_wrap(~type, scales=\"free_x\") +\n",
    " theme_classic() %+replace% theme(axis.text.x = element_text(angle = 90, size=18),\n",
    "                                 axis.text.y = element_text(size=18),\n",
    "                                 axis.title = element_text(size=20),\n",
    "                                 strip.text.x = element_text(size = 16, face=\"bold\"),\n",
    "                                 strip.background = element_blank(),\n",
    "                                 legend.title = element_text(size=18, face=\"bold\"),\n",
    "                                 legend.text = element_text(size=16))\n",
    "\n",
    "gt = ggplot_gtable(ggplot_build(p))\n",
    "gt$widths[5] = 0.28*gt$widths[5]\n",
    "\n",
    "png(file=\"07-Plots/bars.spkm.rarefy.png\", width=2300, height=2000, res=300)\n",
    "grid.draw(gt)\n",
    "dev.off()"
   ]
  },
  {
   "cell_type": "code",
   "execution_count": 25,
   "id": "7a3fd3b2",
   "metadata": {},
   "outputs": [],
   "source": []
  },
  {
   "cell_type": "code",
   "execution_count": 23,
   "id": "71c56675",
   "metadata": {},
   "outputs": [
    {
     "name": "stdout",
     "output_type": "stream",
     "text": [
      "Square root transformation\n",
      "Wisconsin double standardization\n",
      "Run 0 stress 0.04133981 \n",
      "Run 1 stress 0.04133981 \n",
      "... New best solution\n",
      "... Procrustes: rmse 6.189884e-06  max resid 1.313395e-05 \n",
      "... Similar to previous best\n",
      "Run 2 stress 0.3445813 \n",
      "Run 3 stress 0.04133981 \n",
      "... Procrustes: rmse 2.128871e-06  max resid 4.678155e-06 \n",
      "... Similar to previous best\n",
      "Run 4 stress 0.04133981 \n",
      "... Procrustes: rmse 1.467231e-06  max resid 3.12202e-06 \n",
      "... Similar to previous best\n",
      "Run 5 stress 0.1826576 \n",
      "Run 6 stress 0.04133981 \n",
      "... Procrustes: rmse 4.827851e-06  max resid 1.01464e-05 \n",
      "... Similar to previous best\n",
      "Run 7 stress 0.04133982 \n",
      "... Procrustes: rmse 7.146619e-06  max resid 1.100638e-05 \n",
      "... Similar to previous best\n",
      "Run 8 stress 0.04133981 \n",
      "... New best solution\n",
      "... Procrustes: rmse 3.26644e-06  max resid 6.884063e-06 \n",
      "... Similar to previous best\n",
      "Run 9 stress 0.04133981 \n",
      "... Procrustes: rmse 3.743443e-06  max resid 7.984978e-06 \n",
      "... Similar to previous best\n",
      "Run 10 stress 0.2582202 \n",
      "Run 11 stress 0.04133981 \n",
      "... Procrustes: rmse 2.765408e-06  max resid 5.762031e-06 \n",
      "... Similar to previous best\n",
      "Run 12 stress 0.04133981 \n",
      "... Procrustes: rmse 9.486553e-07  max resid 2.174458e-06 \n",
      "... Similar to previous best\n",
      "Run 13 stress 0.04133981 \n",
      "... Procrustes: rmse 2.927907e-06  max resid 6.212065e-06 \n",
      "... Similar to previous best\n",
      "Run 14 stress 0.160309 \n",
      "Run 15 stress 0.04133981 \n",
      "... New best solution\n",
      "... Procrustes: rmse 1.418848e-06  max resid 2.950202e-06 \n",
      "... Similar to previous best\n",
      "Run 16 stress 0.2765362 \n",
      "Run 17 stress 0.04133981 \n",
      "... New best solution\n",
      "... Procrustes: rmse 7.020224e-07  max resid 1.412892e-06 \n",
      "... Similar to previous best\n",
      "Run 18 stress 0.04133981 \n",
      "... Procrustes: rmse 4.727159e-06  max resid 9.988758e-06 \n",
      "... Similar to previous best\n",
      "Run 19 stress 0.04133981 \n",
      "... Procrustes: rmse 5.427871e-06  max resid 1.147561e-05 \n",
      "... Similar to previous best\n",
      "Run 20 stress 0.04133981 \n",
      "... Procrustes: rmse 1.277873e-06  max resid 2.765565e-06 \n",
      "... Similar to previous best\n",
      "*** Best solution repeated 4 times\n"
     ]
    },
    {
     "data": {
      "text/html": [
       "<strong>png:</strong> 2"
      ],
      "text/latex": [
       "\\textbf{png:} 2"
      ],
      "text/markdown": [
       "**png:** 2"
      ],
      "text/plain": [
       "png \n",
       "  2 "
      ]
     },
     "metadata": {},
     "output_type": "display_data"
    }
   ],
   "source": [
    "## nMDS plot (after rarefaction)\n",
    "samples <- dfrar@samples\n",
    "samples <- samples %>% mutate(pore = ifelse(sample %in% c(\"OP0.2A\",\"OP0.2B\",\"OP0.2C\"), \"0.2\", ifelse(sample %in% c(\"OP1.2A\",\"OP1.2B\",\"OP1.2C\"), \"1.2\", ifelse(sample %in% c(\"OP5.0A\",\"OP5.0B\",\"OP5.0C\"), \"5.0\", ifelse(sample %in% c(\"OP8.0A\",\"OP8.0B\",\"OP8.0C\"), \"8.0\", \"GP\")))))\n",
    "reads <- dfrar@reads\n",
    "p <- nMDS_plot(reads, samples)\n",
    "\n",
    "png(file=\"07-Plots/nMDS.rarefy.png\", width=2300, height=2000, res=300)\n",
    "p\n",
    "dev.off()"
   ]
  }
 ],
 "metadata": {
  "kernelspec": {
   "display_name": "R",
   "language": "R",
   "name": "ir"
  },
  "language_info": {
   "codemirror_mode": "r",
   "file_extension": ".r",
   "mimetype": "text/x-r-source",
   "name": "R",
   "pygments_lexer": "r",
   "version": "4.2.2"
  }
 },
 "nbformat": 4,
 "nbformat_minor": 5
}
